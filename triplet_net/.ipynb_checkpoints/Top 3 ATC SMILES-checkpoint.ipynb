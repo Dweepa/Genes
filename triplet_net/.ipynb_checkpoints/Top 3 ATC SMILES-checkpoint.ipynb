{
 "cells": [
  {
   "cell_type": "code",
   "execution_count": 1,
   "metadata": {},
   "outputs": [
    {
     "name": "stderr",
     "output_type": "stream",
     "text": [
      "/Users/dweepa/anaconda/lib/python3.6/site-packages/h5py/__init__.py:34: FutureWarning: Conversion of the second argument of issubdtype from `float` to `np.floating` is deprecated. In future, it will be treated as `np.float64 == np.dtype(float).type`.\n",
      "  from ._conv import register_converters as _register_converters\n",
      "Using TensorFlow backend.\n"
     ]
    }
   ],
   "source": [
    "import tensorflow as tf\n",
    "import pickle\n",
    "import sys\n",
    "import matplotlib.pyplot as plt1 \n",
    "import numpy as np\n",
    "from IPython.display import Audio, display\n",
    "import time\n",
    "from sklearn.model_selection import train_test_split\n",
    "from keras.layers import Input, Conv2D, Lambda, Dense, Flatten,MaxPooling2D, concatenate, Conv1D,Conv2D, Flatten, Reshape, Embedding, GRU, SpatialDropout1D, LSTM, Dropout, BatchNormalization\n",
    "from keras.models import Model, Sequential\n",
    "from keras.regularizers import l2\n",
    "from keras import backend as K\n",
    "from keras.optimizers import SGD,Adam\n",
    "from keras.losses import binary_crossentropy\n",
    "import random\n",
    "import pandas as pd\n",
    "import numpy as np\n",
    "import matplotlib.pyplot as plt\n",
    "import matplotlib.patheffects as PathEffects\n",
    "from itertools import permutations\n",
    "from sklearn.manifold import TSNE\n",
    "import seaborn as sns\n",
    "from sklearn.preprocessing import LabelEncoder, LabelBinarizer\n",
    "from scipy.stats import trim_mean\n",
    "from collections import Counter"
   ]
  },
  {
   "cell_type": "code",
   "execution_count": 2,
   "metadata": {},
   "outputs": [],
   "source": [
    "full = pd.read_csv(\"../data/drug_class_identification/all3.csv\")\n",
    "full = full.dropna()\n",
    "full['atc'] = full['atc'].apply(lambda x : x[0])\n",
    "full = full[full.atc.isin(['C','L','N'])]"
   ]
  },
  {
   "cell_type": "code",
   "execution_count": 3,
   "metadata": {},
   "outputs": [],
   "source": [
    "X = full[\"smiles\"]\n",
    "y = full['atc']"
   ]
  },
  {
   "cell_type": "code",
   "execution_count": 4,
   "metadata": {
    "collapsed": true
   },
   "outputs": [],
   "source": [
    "def getVocabulary(sample):\n",
    "    vocabulary = set()\n",
    "    for word in sample:\n",
    "        for character in word:\n",
    "            vocabulary.add(character)\n",
    "    return (vocabulary)"
   ]
  },
  {
   "cell_type": "code",
   "execution_count": 5,
   "metadata": {
    "collapsed": true
   },
   "outputs": [],
   "source": [
    "characters = getVocabulary(X)\n",
    "token_index = dict(zip(characters, range(1, len(characters) + 1)))\n",
    "\n",
    "samples = X.tolist()\n",
    "max_length = 70\n",
    "results = np.zeros((len(samples), max_length, max(token_index.values()) + 1))\n",
    "for i, sample in enumerate(samples):\n",
    "    for j, character in enumerate(sample[:max_length]):\n",
    "        index = token_index.get(character)\n",
    "        results[i, j, index] = 1."
   ]
  },
  {
   "cell_type": "code",
   "execution_count": 6,
   "metadata": {},
   "outputs": [
    {
     "data": {
      "text/plain": [
       "(422, 70, 30)"
      ]
     },
     "execution_count": 6,
     "metadata": {},
     "output_type": "execute_result"
    }
   ],
   "source": [
    "X = np.asarray(results)\n",
    "X.shape"
   ]
  },
  {
   "cell_type": "code",
   "execution_count": 7,
   "metadata": {
    "collapsed": true
   },
   "outputs": [],
   "source": [
    "# Define our own plot function\n",
    "def scatter(x, y, subtitle=None):\n",
    "    le = LabelEncoder()\n",
    "    labels = le.fit_transform(y)\n",
    "\n",
    "    # We choose a color palette with seaborn.\n",
    "    palette = np.array(sns.color_palette(\"hls\", 3))\n",
    "\n",
    "    # We create a scatter plot.\n",
    "    f = plt.figure(figsize=(8, 8))\n",
    "    ax = plt.subplot(aspect='equal')\n",
    "    sc = ax.scatter(x[:,0], x[:,1], lw=0, s=40,\n",
    "                    c=palette[labels.astype(np.int)])\n",
    "    plt.xlim(-25, 25)\n",
    "    plt.ylim(-25, 25)\n",
    "    ax.axis('off')\n",
    "    ax.axis('tight')\n",
    "\n",
    "    # We add the labels for each digit.\n",
    "    txts = []\n",
    "    for i in range(3):\n",
    "        # Position of each label.\n",
    "        xtext, ytext = trim_mean(x[labels == i, :], axis=0, proportiontocut=0.2)\n",
    "        letter = le.inverse_transform([i])[0]\n",
    "        txt = ax.text(xtext, ytext, str(letter), fontsize=24)\n",
    "        txt.set_path_effects([\n",
    "            PathEffects.Stroke(linewidth=5, foreground=\"w\"),\n",
    "            PathEffects.Normal()])\n",
    "        txts.append(txt)\n",
    "        \n",
    "    if subtitle != None:\n",
    "        plt.suptitle(subtitle)\n",
    "        \n",
    "    plt.savefig(subtitle)"
   ]
  },
  {
   "cell_type": "code",
   "execution_count": 8,
   "metadata": {},
   "outputs": [
    {
     "name": "stdout",
     "output_type": "stream",
     "text": [
      "(316, 70, 30)\n"
     ]
    },
    {
     "name": "stderr",
     "output_type": "stream",
     "text": [
      "/Users/dweepa/anaconda/lib/python3.6/site-packages/scipy/stats/stats.py:2831: FutureWarning: Using a non-tuple sequence for multidimensional indexing is deprecated; use `arr[tuple(seq)]` instead of `arr[seq]`. In the future this will be interpreted as an array index, `arr[np.array(seq)]`, which will result either in an error or a different result.\n",
      "  return np.mean(atmp[sl], axis=axis)\n",
      "/Users/dweepa/anaconda/lib/python3.6/site-packages/scipy/stats/stats.py:2831: FutureWarning: Using a non-tuple sequence for multidimensional indexing is deprecated; use `arr[tuple(seq)]` instead of `arr[seq]`. In the future this will be interpreted as an array index, `arr[np.array(seq)]`, which will result either in an error or a different result.\n",
      "  return np.mean(atmp[sl], axis=axis)\n"
     ]
    }
   ],
   "source": [
    "x_train, x_test,y_train,y_test = train_test_split(X,y)\n",
    "print(x_train.shape)\n",
    "x_train_flat = x_train.reshape(-1,70*30)\n",
    "x_test_flat = x_test.reshape(-1,70*30)\n",
    "\n",
    "tsne = TSNE()\n",
    "train_tsne_embeds = tsne.fit_transform(x_train_flat)\n",
    "scatter(train_tsne_embeds, y_train, \"Samples from Training Data\")\n",
    "\n",
    "eval_tsne_embeds = tsne.fit_transform(x_test_flat)\n",
    "scatter(eval_tsne_embeds, y_test, \"Samples from Validation Data\")"
   ]
  },
  {
   "cell_type": "code",
   "execution_count": 9,
   "metadata": {},
   "outputs": [
    {
     "name": "stdout",
     "output_type": "stream",
     "text": [
      "y_pred.shape =  Tensor(\"merged_layer/concat:0\", shape=(?, 9), dtype=float32)\n",
      "__________________________________________________________________________________________________\n",
      "Layer (type)                    Output Shape         Param #     Connected to                     \n",
      "==================================================================================================\n",
      "anchor_input (InputLayer)       (None, 70, 30, 1)    0                                            \n",
      "__________________________________________________________________________________________________\n",
      "positive_input (InputLayer)     (None, 70, 30, 1)    0                                            \n",
      "__________________________________________________________________________________________________\n",
      "negative_input (InputLayer)     (None, 70, 30, 1)    0                                            \n",
      "__________________________________________________________________________________________________\n",
      "sequential_1 (Sequential)       (None, 3)            42463       anchor_input[0][0]               \n",
      "                                                                 positive_input[0][0]             \n",
      "                                                                 negative_input[0][0]             \n",
      "__________________________________________________________________________________________________\n",
      "merged_layer (Concatenate)      (None, 9)            0           sequential_1[1][0]               \n",
      "                                                                 sequential_1[2][0]               \n",
      "                                                                 sequential_1[3][0]               \n",
      "==================================================================================================\n",
      "Total params: 42,463\n",
      "Trainable params: 42,423\n",
      "Non-trainable params: 40\n",
      "__________________________________________________________________________________________________\n"
     ]
    }
   ],
   "source": [
    "def triplet_loss(y_true, y_pred, alpha = 0.4):\n",
    "    \"\"\"\n",
    "    Implementation of the triplet loss function\n",
    "    Arguments:\n",
    "    y_true -- true labels, required when you define a loss in Keras, you don't need it in this function.\n",
    "    y_pred -- python list containing three objects:\n",
    "            anchor -- the encodings for the anchor data\n",
    "            positive -- the encodings for the positive data (similar to anchor)\n",
    "            negative -- the encodings for the negative data (different from anchor)\n",
    "    Returns:\n",
    "    loss -- real number, value of the loss\n",
    "    \"\"\"\n",
    "    print('y_pred.shape = ',y_pred)\n",
    "    \n",
    "    total_lenght = y_pred.shape.as_list()[-1]\n",
    "    \n",
    "    anchor = y_pred[:,0:int(total_lenght*1/3)]\n",
    "    positive = y_pred[:,int(total_lenght*1/3):int(total_lenght*2/3)]\n",
    "    negative = y_pred[:,int(total_lenght*2/3):int(total_lenght*3/3)]\n",
    "\n",
    "    # distance between the anchor and the positive\n",
    "    pos_dist = K.sum(K.square(anchor-positive),axis=1)\n",
    "\n",
    "    # distance between the anchor and the negative\n",
    "    neg_dist = K.sum(K.square(anchor-negative),axis=1)\n",
    "\n",
    "    # compute loss\n",
    "    basic_loss = pos_dist-neg_dist+alpha\n",
    "    loss = K.maximum(basic_loss,0.0)\n",
    " \n",
    "    return loss\n",
    "\n",
    "def baseNetwork():    \n",
    "        model = Sequential()\n",
    "        model.add(Reshape((70, 30), input_shape=(1004,None, None)))\n",
    "        model.add(Conv1D(20,10,activation='relu'))\n",
    "        model.add(BatchNormalization())\n",
    "        model.add(Conv1D(20,5,activation='relu'))\n",
    "        model.add(Conv1D(20,3,activation='relu'))\n",
    "        model.add(Flatten())\n",
    "        model.add(Dense(30, activation='relu'))\n",
    "        model.add(Dropout(0.4))\n",
    "        model.add(Dense(3, activation='softmax'))\n",
    "        return model\n",
    "    \n",
    "anchor_input = Input((70,30,1, ), name='anchor_input')\n",
    "positive_input = Input((70,30,1, ), name='positive_input')\n",
    "negative_input = Input((70,30,1, ), name='negative_input')\n",
    "\n",
    "# Shared embedding layer for positive and negative items\n",
    "Shared_DNN = baseNetwork()\n",
    "\n",
    "\n",
    "encoded_anchor = Shared_DNN(anchor_input)\n",
    "encoded_positive = Shared_DNN(positive_input)\n",
    "encoded_negative = Shared_DNN(negative_input)\n",
    "\n",
    "\n",
    "merged_vector = concatenate([encoded_anchor, encoded_positive, encoded_negative], axis=-1, name='merged_layer')\n",
    "\n",
    "model = Model(inputs=[anchor_input,positive_input, negative_input], outputs=merged_vector)\n",
    "model.compile(loss=triplet_loss, optimizer='adam')\n",
    "model.summary()"
   ]
  },
  {
   "cell_type": "code",
   "execution_count": 10,
   "metadata": {
    "collapsed": true
   },
   "outputs": [],
   "source": [
    "def generateTriplet(x,y,testsize=0.2,ap_pairs=10,an_pairs=10):\n",
    "    data_xy = tuple([x,y])\n",
    "\n",
    "    trainsize = 1-testsize\n",
    "\n",
    "    triplet_train_pairs = []\n",
    "    triplet_test_pairs = []\n",
    "    for data_class in sorted(set(data_xy[1])):\n",
    "\n",
    "        same_class_idx = np.where((data_xy[1] == data_class))[0]\n",
    "        diff_class_idx = np.where(data_xy[1] != data_class)[0]\n",
    "        A_P_pairs = random.sample(list(permutations(same_class_idx,2)),k=ap_pairs) #Generating Anchor-Positive pairs\n",
    "        Neg_idx = random.sample(list(diff_class_idx),k=an_pairs)\n",
    "        \n",
    "\n",
    "        #train\n",
    "        A_P_len = len(A_P_pairs)\n",
    "        Neg_len = len(Neg_idx)\n",
    "        for ap in A_P_pairs[:int(A_P_len*trainsize)]:\n",
    "            Anchor = data_xy[0][ap[0]]\n",
    "            Positive = data_xy[0][ap[1]]\n",
    "            for n in Neg_idx:\n",
    "                Negative = data_xy[0][n]\n",
    "                triplet_train_pairs.append([Anchor,Positive,Negative])               \n",
    "        #test\n",
    "        for ap in A_P_pairs[int(A_P_len*trainsize):]:\n",
    "            Anchor = data_xy[0][ap[0]]\n",
    "            Positive = data_xy[0][ap[1]]\n",
    "            for n in Neg_idx:\n",
    "                Negative = data_xy[0][n]\n",
    "                triplet_test_pairs.append([Anchor,Positive,Negative])    \n",
    "                \n",
    "    return np.array(triplet_train_pairs), np.array(triplet_test_pairs)"
   ]
  },
  {
   "cell_type": "code",
   "execution_count": 11,
   "metadata": {
    "collapsed": true
   },
   "outputs": [],
   "source": [
    "X_train, X_test = generateTriplet(X,y)"
   ]
  },
  {
   "cell_type": "code",
   "execution_count": 12,
   "metadata": {},
   "outputs": [
    {
     "name": "stdout",
     "output_type": "stream",
     "text": [
      "Train on 240 samples, validate on 60 samples\n",
      "Epoch 1/50\n",
      "240/240 [==============================] - 2s 8ms/step - loss: 0.3821 - val_loss: 0.3368\n",
      "Epoch 2/50\n",
      "240/240 [==============================] - 0s 1ms/step - loss: 0.2751 - val_loss: 0.2619\n",
      "Epoch 3/50\n",
      "240/240 [==============================] - 0s 1ms/step - loss: 0.2072 - val_loss: 0.2035\n",
      "Epoch 4/50\n",
      "240/240 [==============================] - 0s 1ms/step - loss: 0.1671 - val_loss: 0.2106\n",
      "Epoch 5/50\n",
      "240/240 [==============================] - 0s 1ms/step - loss: 0.1305 - val_loss: 0.1914\n",
      "Epoch 6/50\n",
      "240/240 [==============================] - 0s 1ms/step - loss: 0.1306 - val_loss: 0.1795\n",
      "Epoch 7/50\n",
      "240/240 [==============================] - 0s 1ms/step - loss: 0.1009 - val_loss: 0.1754\n",
      "Epoch 8/50\n",
      "240/240 [==============================] - 0s 1ms/step - loss: 0.0811 - val_loss: 0.1686\n",
      "Epoch 9/50\n",
      "240/240 [==============================] - 0s 1ms/step - loss: 0.0708 - val_loss: 0.1529\n",
      "Epoch 10/50\n",
      "240/240 [==============================] - 0s 1ms/step - loss: 0.0535 - val_loss: 0.1505\n",
      "Epoch 11/50\n",
      "240/240 [==============================] - 0s 1ms/step - loss: 0.0561 - val_loss: 0.1281\n",
      "Epoch 12/50\n",
      "240/240 [==============================] - 0s 1ms/step - loss: 0.0552 - val_loss: 0.1361\n",
      "Epoch 13/50\n",
      "240/240 [==============================] - 0s 1ms/step - loss: 0.0435 - val_loss: 0.1465\n",
      "Epoch 14/50\n",
      "240/240 [==============================] - 0s 1ms/step - loss: 0.0500 - val_loss: 0.1959\n",
      "Epoch 15/50\n",
      "240/240 [==============================] - 0s 1ms/step - loss: 0.0442 - val_loss: 0.2522\n",
      "Epoch 16/50\n",
      "240/240 [==============================] - 0s 1ms/step - loss: 0.0437 - val_loss: 0.3032\n",
      "Epoch 17/50\n",
      "240/240 [==============================] - 0s 1ms/step - loss: 0.0526 - val_loss: 0.2139\n",
      "Epoch 18/50\n",
      "240/240 [==============================] - 0s 1ms/step - loss: 0.0404 - val_loss: 0.2116\n",
      "Epoch 19/50\n",
      "240/240 [==============================] - 0s 1ms/step - loss: 0.0413 - val_loss: 0.1716\n",
      "Epoch 20/50\n",
      "240/240 [==============================] - 0s 1ms/step - loss: 0.0337 - val_loss: 0.1698\n",
      "Epoch 21/50\n",
      "240/240 [==============================] - 0s 1ms/step - loss: 0.0390 - val_loss: 0.2080\n",
      "Epoch 22/50\n",
      "240/240 [==============================] - 0s 1ms/step - loss: 0.0369 - val_loss: 0.2570\n",
      "Epoch 23/50\n",
      "240/240 [==============================] - 0s 1ms/step - loss: 0.0354 - val_loss: 0.2980\n",
      "Epoch 24/50\n",
      "240/240 [==============================] - 0s 1ms/step - loss: 0.0391 - val_loss: 0.3152\n",
      "Epoch 25/50\n",
      "240/240 [==============================] - 0s 1ms/step - loss: 0.0397 - val_loss: 0.2956\n",
      "Epoch 26/50\n",
      "240/240 [==============================] - 0s 1ms/step - loss: 0.0337 - val_loss: 0.2860\n",
      "Epoch 27/50\n",
      "240/240 [==============================] - 0s 1ms/step - loss: 0.0406 - val_loss: 0.2711\n",
      "Epoch 28/50\n",
      "240/240 [==============================] - 0s 1ms/step - loss: 0.0343 - val_loss: 0.2862\n",
      "Epoch 29/50\n",
      "240/240 [==============================] - 0s 1ms/step - loss: 0.0341 - val_loss: 0.2875\n",
      "Epoch 30/50\n",
      "240/240 [==============================] - 0s 1ms/step - loss: 0.0242 - val_loss: 0.2856\n",
      "Epoch 31/50\n",
      "240/240 [==============================] - 0s 1ms/step - loss: 0.0281 - val_loss: 0.2843\n",
      "Epoch 32/50\n",
      "240/240 [==============================] - 0s 1ms/step - loss: 0.0271 - val_loss: 0.3018\n",
      "Epoch 33/50\n",
      "240/240 [==============================] - 0s 1ms/step - loss: 0.0288 - val_loss: 0.3149\n",
      "Epoch 34/50\n",
      "240/240 [==============================] - 0s 1ms/step - loss: 0.0270 - val_loss: 0.3151\n",
      "Epoch 35/50\n",
      "240/240 [==============================] - 0s 1ms/step - loss: 0.0257 - val_loss: 0.3321\n",
      "Epoch 36/50\n",
      "240/240 [==============================] - 0s 1ms/step - loss: 0.0274 - val_loss: 0.3410\n",
      "Epoch 37/50\n",
      "240/240 [==============================] - 0s 1ms/step - loss: 0.0255 - val_loss: 0.3628\n",
      "Epoch 38/50\n",
      "240/240 [==============================] - 0s 1ms/step - loss: 0.0246 - val_loss: 0.2889\n",
      "Epoch 39/50\n",
      "240/240 [==============================] - 0s 1ms/step - loss: 0.0362 - val_loss: 0.2523\n",
      "Epoch 40/50\n",
      "240/240 [==============================] - 0s 1ms/step - loss: 0.0250 - val_loss: 0.2711\n",
      "Epoch 41/50\n",
      "240/240 [==============================] - 0s 1ms/step - loss: 0.0310 - val_loss: 0.2735\n",
      "Epoch 42/50\n",
      "240/240 [==============================] - 0s 1ms/step - loss: 0.0269 - val_loss: 0.3297\n",
      "Epoch 43/50\n",
      "240/240 [==============================] - 0s 1ms/step - loss: 0.0295 - val_loss: 0.2995\n",
      "Epoch 44/50\n",
      "240/240 [==============================] - 0s 1ms/step - loss: 0.0238 - val_loss: 0.2860\n",
      "Epoch 45/50\n",
      "240/240 [==============================] - 0s 1ms/step - loss: 0.0232 - val_loss: 0.2707\n",
      "Epoch 46/50\n",
      "240/240 [==============================] - 0s 1ms/step - loss: 0.0220 - val_loss: 0.2632\n",
      "Epoch 47/50\n",
      "240/240 [==============================] - 0s 1ms/step - loss: 0.0230 - val_loss: 0.2870\n",
      "Epoch 48/50\n",
      "240/240 [==============================] - 0s 1ms/step - loss: 0.0279 - val_loss: 0.2922\n",
      "Epoch 49/50\n",
      "240/240 [==============================] - 1s 2ms/step - loss: 0.0319 - val_loss: 0.3188\n",
      "Epoch 50/50\n",
      "240/240 [==============================] - 0s 2ms/step - loss: 0.0274 - val_loss: 0.2961\n"
     ]
    },
    {
     "data": {
      "text/plain": [
       "<keras.callbacks.History at 0x1a266256d8>"
      ]
     },
     "execution_count": 12,
     "metadata": {},
     "output_type": "execute_result"
    }
   ],
   "source": [
    "Anchor = X_train[:,0,:].reshape(-1,70,30,1)\n",
    "Positive = X_train[:,1,:].reshape(-1,70,30,1)\n",
    "Negative = X_train[:,2,:].reshape(-1,70,30,1)\n",
    "Anchor_test = X_test[:,0,:].reshape(-1,70,30,1)\n",
    "Positive_test = X_test[:,1,:].reshape(-1,70,30,1)\n",
    "Negative_test = X_test[:,2,:].reshape(-1,70,30,1)\n",
    "\n",
    "Y_dummy = np.empty((Anchor.shape[0],300))\n",
    "Y_dummy2 = np.empty((Anchor_test.shape[0],1))\n",
    "\n",
    "model.fit([Anchor,Positive,Negative],y=Y_dummy,validation_data=([Anchor_test,Positive_test,Negative_test],Y_dummy2), epochs=50)"
   ]
  },
  {
   "cell_type": "code",
   "execution_count": null,
   "metadata": {
    "collapsed": true
   },
   "outputs": [],
   "source": [
    "trained_model = Model(inputs=anchor_input, outputs=encoded_anchor)"
   ]
  },
  {
   "cell_type": "code",
   "execution_count": null,
   "metadata": {},
   "outputs": [],
   "source": [
    "tsne = TSNE()\n",
    "X_train_trm = trained_model.predict(x_train.reshape(-1,70,30,1))\n",
    "X_test_trm = trained_model.predict(x_test.reshape(-1,70,30,1))\n",
    "train_tsne_embeds = tsne.fit_transform(X_train_trm)\n",
    "eval_tsne_embeds = tsne.fit_transform(X_test_trm)"
   ]
  },
  {
   "cell_type": "code",
   "execution_count": null,
   "metadata": {},
   "outputs": [],
   "source": [
    "scatter(train_tsne_embeds, y_train, \"Training Data After TNN\")\n",
    "scatter(eval_tsne_embeds, y_test, \"Validation Data After TNN\")"
   ]
  },
  {
   "cell_type": "code",
   "execution_count": null,
   "metadata": {},
   "outputs": [],
   "source": [
    "score = trained_model.evaluate(x_train.reshape(-1,70,30,1),y_train)"
   ]
  },
  {
   "cell_type": "code",
   "execution_count": null,
   "metadata": {
    "collapsed": true
   },
   "outputs": [],
   "source": []
  }
 ],
 "metadata": {
  "kernelspec": {
   "display_name": "Python 3",
   "language": "python",
   "name": "python3"
  },
  "language_info": {
   "codemirror_mode": {
    "name": "ipython",
    "version": 3
   },
   "file_extension": ".py",
   "mimetype": "text/x-python",
   "name": "python",
   "nbconvert_exporter": "python",
   "pygments_lexer": "ipython3",
   "version": "3.6.8"
  }
 },
 "nbformat": 4,
 "nbformat_minor": 2
}
