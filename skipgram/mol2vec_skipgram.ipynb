{
 "cells": [
  {
   "cell_type": "code",
   "execution_count": 1,
   "metadata": {},
   "outputs": [
    {
     "name": "stderr",
     "output_type": "stream",
     "text": [
      "/home/kavya/anaconda3/lib/python3.6/site-packages/h5py/__init__.py:34: FutureWarning: Conversion of the second argument of issubdtype from `float` to `np.floating` is deprecated. In future, it will be treated as `np.float64 == np.dtype(float).type`.\n",
      "  from ._conv import register_converters as _register_converters\n",
      "Using TensorFlow backend.\n",
      "/home/kavya/anaconda3/lib/python3.6/site-packages/tensorflow/python/framework/dtypes.py:526: FutureWarning: Passing (type, 1) or '1type' as a synonym of type is deprecated; in a future version of numpy, it will be understood as (type, (1,)) / '(1,)type'.\n",
      "  _np_qint8 = np.dtype([(\"qint8\", np.int8, 1)])\n",
      "/home/kavya/anaconda3/lib/python3.6/site-packages/tensorflow/python/framework/dtypes.py:527: FutureWarning: Passing (type, 1) or '1type' as a synonym of type is deprecated; in a future version of numpy, it will be understood as (type, (1,)) / '(1,)type'.\n",
      "  _np_quint8 = np.dtype([(\"quint8\", np.uint8, 1)])\n",
      "/home/kavya/anaconda3/lib/python3.6/site-packages/tensorflow/python/framework/dtypes.py:528: FutureWarning: Passing (type, 1) or '1type' as a synonym of type is deprecated; in a future version of numpy, it will be understood as (type, (1,)) / '(1,)type'.\n",
      "  _np_qint16 = np.dtype([(\"qint16\", np.int16, 1)])\n",
      "/home/kavya/anaconda3/lib/python3.6/site-packages/tensorflow/python/framework/dtypes.py:529: FutureWarning: Passing (type, 1) or '1type' as a synonym of type is deprecated; in a future version of numpy, it will be understood as (type, (1,)) / '(1,)type'.\n",
      "  _np_quint16 = np.dtype([(\"quint16\", np.uint16, 1)])\n",
      "/home/kavya/anaconda3/lib/python3.6/site-packages/tensorflow/python/framework/dtypes.py:530: FutureWarning: Passing (type, 1) or '1type' as a synonym of type is deprecated; in a future version of numpy, it will be understood as (type, (1,)) / '(1,)type'.\n",
      "  _np_qint32 = np.dtype([(\"qint32\", np.int32, 1)])\n",
      "/home/kavya/anaconda3/lib/python3.6/site-packages/tensorflow/python/framework/dtypes.py:535: FutureWarning: Passing (type, 1) or '1type' as a synonym of type is deprecated; in a future version of numpy, it will be understood as (type, (1,)) / '(1,)type'.\n",
      "  np_resource = np.dtype([(\"resource\", np.ubyte, 1)])\n",
      "/home/kavya/anaconda3/lib/python3.6/site-packages/sklearn/ensemble/weight_boosting.py:29: DeprecationWarning: numpy.core.umath_tests is an internal NumPy module and should not be imported. It will be removed in a future NumPy release.\n",
      "  from numpy.core.umath_tests import inner1d\n"
     ]
    }
   ],
   "source": [
    "import pickle\n",
    "from gensim.models import word2vec, Word2Vec\n",
    "import multiprocessing\n",
    "import numpy as np\n",
    "from sklearn.neighbors import KNeighborsClassifier\n",
    "from sklearn.model_selection import train_test_split\n",
    "\n",
    "import pandas as pd\n",
    "import pickle\n",
    "import requests\n",
    "import numpy as np\n",
    "import sys\n",
    "import matplotlib.pyplot as plt\n",
    "import seaborn as sns\n",
    "from collections import Counter\n",
    "import random\n",
    "from scipy.spatial.distance import cosine\n",
    "from sklearn.preprocessing import OneHotEncoder, LabelEncoder\n",
    "# from chembl_webresource_client.new_client import new_client\n",
    "from keras.utils import to_categorical\n",
    "from keras.models import Sequential\n",
    "from keras.layers import Dense, Conv1D, Flatten, Reshape, GRU, SpatialDropout1D, LSTM, Dropout\n",
    "from keras.layers import BatchNormalization, MaxPool1D\n",
    "from sklearn.model_selection import train_test_split\n",
    "from sklearn.metrics import classification_report\n",
    "import matplotlib.pyplot as plt\n",
    "import seaborn as sns\n",
    "from sklearn.metrics import confusion_matrix\n",
    "from sklearn.manifold.t_sne import _joint_probabilities\n",
    "from scipy import linalg\n",
    "from sklearn.metrics import pairwise_distances\n",
    "from scipy.spatial.distance import squareform\n",
    "from sklearn.manifold import TSNE\n",
    "from sklearn.ensemble import RandomForestClassifier, GradientBoostingClassifier\n",
    "from sklearn.neighbors import KDTree\n",
    "from sklearn.svm import SVC\n",
    "\n",
    "%matplotlib inline"
   ]
  },
  {
   "cell_type": "markdown",
   "metadata": {},
   "source": [
    "## Load mol2vec Model"
   ]
  },
  {
   "cell_type": "code",
   "execution_count": 2,
   "metadata": {
    "collapsed": true
   },
   "outputs": [],
   "source": [
    "w2v = word2vec.Word2Vec.load('../SPVec/model_300dim.pkl')\n",
    "\n",
    "dimensions = 300"
   ]
  },
  {
   "cell_type": "code",
   "execution_count": 31,
   "metadata": {
    "collapsed": true
   },
   "outputs": [],
   "source": [
    "with open(\"./data/pcba_mol_sentences.pkl\", \"rb\") as file:\n",
    "    sentences = pickle.load(file)\n",
    "\n",
    "dimensions = 100\n",
    "window_size = 5\n",
    "min_count = 5\n",
    "negative = 15\n",
    "iterations = 10\n",
    "\n",
    "w2v = Word2Vec(sentences, size=dimensions, window=window_size, min_count=min_count, negative=negative, iter=20)"
   ]
  },
  {
   "cell_type": "markdown",
   "metadata": {},
   "source": [
    "## Load ATC data"
   ]
  },
  {
   "cell_type": "code",
   "execution_count": 32,
   "metadata": {
    "collapsed": true
   },
   "outputs": [],
   "source": [
    "with open(\"./data/mol_sentences.pkl\", \"rb\") as file:\n",
    "    sentences = pickle.load(file)"
   ]
  },
  {
   "cell_type": "code",
   "execution_count": 33,
   "metadata": {
    "collapsed": true
   },
   "outputs": [],
   "source": [
    "atc = [sentence[1][0] for sentence in sentences]\n",
    "sentences = [sentence[3] for sentence in sentences]"
   ]
  },
  {
   "cell_type": "markdown",
   "metadata": {},
   "source": [
    "## Vectorisation"
   ]
  },
  {
   "cell_type": "code",
   "execution_count": 34,
   "metadata": {
    "collapsed": true
   },
   "outputs": [],
   "source": [
    "vectors = []\n",
    "\n",
    "for sentence in sentences:\n",
    "    vector = []\n",
    "    for word in sentence:\n",
    "        try:\n",
    "            vector+=list(w2v.wv.word_vec(word))\n",
    "        except:\n",
    "            vector+=([0 for a in range(0, dimensions)])\n",
    "    vectors.append(vector)\n",
    "    \n",
    "vectors = np.asarray(vectors)"
   ]
  },
  {
   "cell_type": "code",
   "execution_count": 35,
   "metadata": {
    "collapsed": true
   },
   "outputs": [],
   "source": [
    "sum_vectors = []\n",
    "\n",
    "for vector in vectors:\n",
    "    arr = np.asarray(vector)\n",
    "    arr = arr.reshape((int(arr.shape[0]/dimensions), dimensions) )\n",
    "    sum_vectors.append(arr.sum(axis=0))\n",
    "\n",
    "sum_vectors = np.asarray(sum_vectors)"
   ]
  },
  {
   "cell_type": "code",
   "execution_count": 36,
   "metadata": {
    "collapsed": true
   },
   "outputs": [],
   "source": [
    "le = LabelEncoder()\n",
    "le.fit(atc)\n",
    "\n",
    "atc = le.transform(atc)"
   ]
  },
  {
   "cell_type": "markdown",
   "metadata": {},
   "source": [
    "## T-SNE"
   ]
  },
  {
   "cell_type": "code",
   "execution_count": 59,
   "metadata": {},
   "outputs": [
    {
     "name": "stderr",
     "output_type": "stream",
     "text": [
      "/home/kavya/anaconda3/lib/python3.6/site-packages/sklearn/preprocessing/label.py:151: DeprecationWarning: The truth value of an empty array is ambiguous. Returning False, but in future this will result in an error. Use `array.size > 0` to check that an array is not empty.\n",
      "  if diff:\n"
     ]
    }
   ],
   "source": [
    "ile = le.inverse_transform(np.asarray(range(0, 14)))"
   ]
  },
  {
   "cell_type": "code",
   "execution_count": 60,
   "metadata": {
    "collapsed": true
   },
   "outputs": [],
   "source": [
    "tsne = TSNE(n_components=2, random_state=0)\n",
    "X_2d = tsne.fit_transform(sum_vectors)"
   ]
  },
  {
   "cell_type": "code",
   "execution_count": 29,
   "metadata": {},
   "outputs": [
    {
     "ename": "NameError",
     "evalue": "name 'X_2d' is not defined",
     "output_type": "error",
     "traceback": [
      "\u001b[0;31m---------------------------------------------------------------------------\u001b[0m",
      "\u001b[0;31mNameError\u001b[0m                                 Traceback (most recent call last)",
      "\u001b[0;32m<ipython-input-29-961b5d882ed8>\u001b[0m in \u001b[0;36m<module>\u001b[0;34m()\u001b[0m\n\u001b[1;32m      2\u001b[0m \u001b[0mtop_atc_labels\u001b[0m \u001b[0;34m=\u001b[0m \u001b[0;34m[\u001b[0m\u001b[0ma\u001b[0m \u001b[0;32mfor\u001b[0m \u001b[0ma\u001b[0m\u001b[0;34m,\u001b[0m\u001b[0m_\u001b[0m \u001b[0;32min\u001b[0m \u001b[0mCounter\u001b[0m\u001b[0;34m(\u001b[0m\u001b[0matc\u001b[0m\u001b[0;34m)\u001b[0m\u001b[0;34m.\u001b[0m\u001b[0mmost_common\u001b[0m\u001b[0;34m(\u001b[0m\u001b[0;36m4\u001b[0m\u001b[0;34m)\u001b[0m\u001b[0;34m]\u001b[0m\u001b[0;34m\u001b[0m\u001b[0m\n\u001b[1;32m      3\u001b[0m \u001b[0;32mfor\u001b[0m \u001b[0mi\u001b[0m \u001b[0;32min\u001b[0m \u001b[0mtop_atc_labels\u001b[0m\u001b[0;34m:\u001b[0m\u001b[0;34m\u001b[0m\u001b[0m\n\u001b[0;32m----> 4\u001b[0;31m     sns.scatterplot(X_2d[atc == i, 0], X_2d[atc == i, 1], label=ile[i], palette=sns.color_palette(\"hls\", 10), \n\u001b[0m\u001b[1;32m      5\u001b[0m                     legend=\"full\", alpha=0.7)\n",
      "\u001b[0;31mNameError\u001b[0m: name 'X_2d' is not defined"
     ]
    },
    {
     "data": {
      "text/plain": [
       "<Figure size 720x720 with 0 Axes>"
      ]
     },
     "metadata": {},
     "output_type": "display_data"
    }
   ],
   "source": [
    "plt.figure(figsize=(10, 10))\n",
    "top_atc_labels = [a for a,_ in Counter(atc).most_common(4)]\n",
    "for i in top_atc_labels:\n",
    "    sns.scatterplot(X_2d[atc == i, 0], X_2d[atc == i, 1], label=ile[i], palette=sns.color_palette(\"hls\", 10), \n",
    "                    legend=\"full\", alpha=0.7)"
   ]
  },
  {
   "cell_type": "markdown",
   "metadata": {},
   "source": [
    "## Data Preparation"
   ]
  },
  {
   "cell_type": "code",
   "execution_count": 37,
   "metadata": {},
   "outputs": [
    {
     "name": "stderr",
     "output_type": "stream",
     "text": [
      "/home/kavya/anaconda3/lib/python3.6/site-packages/sklearn/preprocessing/label.py:151: DeprecationWarning: The truth value of an empty array is ambiguous. Returning False, but in future this will result in an error. Use `array.size > 0` to check that an array is not empty.\n",
      "  if diff:\n"
     ]
    }
   ],
   "source": [
    "X = sum_vectors\n",
    "y = atc\n",
    "\n",
    "atc_counter = Counter(y)\n",
    "top_atc = [a for a, _ in atc_counter.most_common(14)]\n",
    "\n",
    "temp_x = []\n",
    "temp_y = []\n",
    "\n",
    "for i in range(y.shape[0]):\n",
    "    if y[i] in top_atc:\n",
    "        temp_x.append(X[i])\n",
    "        temp_y.append(y[i])\n",
    "        \n",
    "X = np.asarray(temp_x)\n",
    "y = np.asarray(temp_y)\n",
    "\n",
    "atc_labels = le.inverse_transform(np.unique(y))"
   ]
  },
  {
   "cell_type": "code",
   "execution_count": 38,
   "metadata": {
    "collapsed": true
   },
   "outputs": [],
   "source": [
    "X_train, X_test, y_train, y_test = train_test_split(X, y, test_size=0.3, random_state=int(random.random()*100))"
   ]
  },
  {
   "cell_type": "markdown",
   "metadata": {},
   "source": [
    "## Helper Functions"
   ]
  },
  {
   "cell_type": "code",
   "execution_count": 39,
   "metadata": {
    "collapsed": true
   },
   "outputs": [],
   "source": [
    "def accuracy(y_true, y_pred, atc_labels=atc_labels):\n",
    "    print(\"Overall Accuracy:\", np.sum(np.equal(y_true, y_pred))/y_true.shape[0])\n",
    "    matrix = confusion_matrix(y_true, y_pred)\n",
    "    print(classification_report(y_true, y_pred))\n",
    "    plt.figure(figsize=(10, 10))\n",
    "    sns.heatmap(matrix, annot=True,cbar=False, xticklabels=atc_labels, yticklabels=atc_labels)"
   ]
  },
  {
   "cell_type": "markdown",
   "metadata": {},
   "source": [
    "## KNN"
   ]
  },
  {
   "cell_type": "code",
   "execution_count": 40,
   "metadata": {},
   "outputs": [
    {
     "data": {
      "text/plain": [
       "KNeighborsClassifier(algorithm='auto', leaf_size=30, metric='minkowski',\n",
       "           metric_params=None, n_jobs=1, n_neighbors=5, p=2,\n",
       "           weights='uniform')"
      ]
     },
     "execution_count": 40,
     "metadata": {},
     "output_type": "execute_result"
    }
   ],
   "source": [
    "neigh = KNeighborsClassifier(n_neighbors=5)\n",
    "neigh.fit(X_train, y_train)"
   ]
  },
  {
   "cell_type": "code",
   "execution_count": 41,
   "metadata": {
    "scrolled": false
   },
   "outputs": [
    {
     "name": "stdout",
     "output_type": "stream",
     "text": [
      "Overall Accuracy: 0.4378048780487805\n",
      "             precision    recall  f1-score   support\n",
      "\n",
      "          0       0.32      0.36      0.33       107\n",
      "          1       0.17      0.23      0.19        26\n",
      "          2       0.41      0.49      0.45       106\n",
      "          3       0.35      0.35      0.35        57\n",
      "          4       0.55      0.46      0.50        39\n",
      "          5       0.67      0.60      0.63        10\n",
      "          6       0.63      0.76      0.69        76\n",
      "          7       0.64      0.35      0.46        65\n",
      "          8       0.32      0.29      0.31        41\n",
      "          9       0.49      0.65      0.56       141\n",
      "         10       0.50      0.17      0.26        29\n",
      "         11       0.43      0.23      0.30        66\n",
      "         12       0.08      0.04      0.05        24\n",
      "         13       0.45      0.42      0.44        33\n",
      "\n",
      "avg / total       0.44      0.44      0.43       820\n",
      "\n"
     ]
    },
    {
     "data": {
      "image/png": "[encoded data removed]",
      "text/plain": [
       "<Figure size 720x720 with 1 Axes>"
      ]
     },
     "metadata": {},
     "output_type": "display_data"
    }
   ],
   "source": [
    "y_pred = neigh.predict(X_test)\n",
    "accuracy(y_test, y_pred, atc_labels)"
   ]
  },
  {
   "cell_type": "markdown",
   "metadata": {},
   "source": [
    "## Random Forest"
   ]
  },
  {
   "cell_type": "code",
   "execution_count": 42,
   "metadata": {},
   "outputs": [
    {
     "data": {
      "text/plain": [
       "RandomForestClassifier(bootstrap=True, class_weight=None, criterion='entropy',\n",
       "            max_depth=None, max_features='sqrt', max_leaf_nodes=None,\n",
       "            min_impurity_decrease=0.0, min_impurity_split=None,\n",
       "            min_samples_leaf=1, min_samples_split=2,\n",
       "            min_weight_fraction_leaf=0.0, n_estimators=100, n_jobs=1,\n",
       "            oob_score=False, random_state=None, verbose=0,\n",
       "            warm_start=False)"
      ]
     },
     "execution_count": 42,
     "metadata": {},
     "output_type": "execute_result"
    }
   ],
   "source": [
    "rf_model = RandomForestClassifier(n_estimators=100, \n",
    "                               bootstrap = True,\n",
    "                               max_features = 'sqrt', criterion='entropy')\n",
    "# Fit on training data\n",
    "rf_model.fit(X_train, y_train)"
   ]
  },
  {
   "cell_type": "code",
   "execution_count": 43,
   "metadata": {},
   "outputs": [
    {
     "name": "stdout",
     "output_type": "stream",
     "text": [
      "Overall Accuracy: 0.44634146341463415\n",
      "             precision    recall  f1-score   support\n",
      "\n",
      "          0       0.35      0.27      0.31       107\n",
      "          1       0.15      0.08      0.10        26\n",
      "          2       0.43      0.50      0.46       106\n",
      "          3       0.53      0.32      0.40        57\n",
      "          4       0.63      0.49      0.55        39\n",
      "          5       0.25      0.20      0.22        10\n",
      "          6       0.52      0.80      0.63        76\n",
      "          7       0.49      0.32      0.39        65\n",
      "          8       0.59      0.32      0.41        41\n",
      "          9       0.42      0.81      0.55       141\n",
      "         10       0.67      0.14      0.23        29\n",
      "         11       0.65      0.23      0.34        66\n",
      "         12       0.00      0.00      0.00        24\n",
      "         13       0.41      0.45      0.43        33\n",
      "\n",
      "avg / total       0.46      0.45      0.42       820\n",
      "\n"
     ]
    },
    {
     "data": {
      "image/png": "[encoded data removed]",
      "text/plain": [
       "<Figure size 720x720 with 1 Axes>"
      ]
     },
     "metadata": {},
     "output_type": "display_data"
    }
   ],
   "source": [
    "y_pred = rf_model.predict(X_test)\n",
    "accuracy(y_test, y_pred, atc_labels)"
   ]
  },
  {
   "cell_type": "markdown",
   "metadata": {},
   "source": [
    "## ANN"
   ]
  },
  {
   "cell_type": "code",
   "execution_count": 21,
   "metadata": {
    "collapsed": true
   },
   "outputs": [],
   "source": [
    "oeAtc = OneHotEncoder(sparse=False)\n",
    "oeAtc.fit(y.reshape(-1, 1))\n",
    "y_onehot = oeAtc.transform(y.reshape(-1, 1))\n",
    "\n",
    "X_train, X_test, y_onehot_train, y_onehot_test = train_test_split(X, y_onehot, test_size=0.3, random_state=int(random.random()*100))"
   ]
  },
  {
   "cell_type": "code",
   "execution_count": 22,
   "metadata": {
    "collapsed": true
   },
   "outputs": [],
   "source": [
    "class Network:\n",
    "    def __init__(self, num_classes):\n",
    "        self.model = Sequential()\n",
    "        self.model.add(Dense(50, input_dim=dimensions, activation='relu'))\n",
    "        self.model.add(Dense(30, activation='relu'))\n",
    "        self.model.add(Dense(20, activation='relu'))\n",
    "        self.model.add(Dense(num_classes, activation='softmax'))\n",
    "        self.model.compile(optimizer='adam', loss='categorical_crossentropy', metrics=['accuracy'])\n",
    "        print(self.model.summary())\n",
    "        \n",
    "    def train(self, X, y, X_test, y_test, epochs=20):\n",
    "        self.model.fit(X, y, epochs=epochs, validation_data=(X_test, y_test))\n",
    "    \n",
    "    def test(self, X, y):\n",
    "        y_pred = self.model.predict(X).argmax(axis=1)\n",
    "        y_true = y.argmax(axis=1)\n",
    "        accuracy(y_true, y_pred)\n",
    "        "
   ]
  },
  {
   "cell_type": "code",
   "execution_count": 23,
   "metadata": {},
   "outputs": [
    {
     "name": "stdout",
     "output_type": "stream",
     "text": [
      "WARNING:tensorflow:From /home/kavya/anaconda3/lib/python3.6/site-packages/tensorflow/python/framework/op_def_library.py:263: colocate_with (from tensorflow.python.framework.ops) is deprecated and will be removed in a future version.\n",
      "Instructions for updating:\n",
      "Colocations handled automatically by placer.\n",
      "_________________________________________________________________\n",
      "Layer (type)                 Output Shape              Param #   \n",
      "=================================================================\n",
      "dense_1 (Dense)              (None, 50)                15050     \n",
      "_________________________________________________________________\n",
      "dense_2 (Dense)              (None, 30)                1530      \n",
      "_________________________________________________________________\n",
      "dense_3 (Dense)              (None, 20)                620       \n",
      "_________________________________________________________________\n",
      "dense_4 (Dense)              (None, 14)                294       \n",
      "=================================================================\n",
      "Total params: 17,494\n",
      "Trainable params: 17,494\n",
      "Non-trainable params: 0\n",
      "_________________________________________________________________\n",
      "None\n"
     ]
    }
   ],
   "source": [
    "network = Network(len(atc_labels))"
   ]
  },
  {
   "cell_type": "code",
   "execution_count": 24,
   "metadata": {},
   "outputs": [
    {
     "name": "stdout",
     "output_type": "stream",
     "text": [
      "WARNING:tensorflow:From /home/kavya/anaconda3/lib/python3.6/site-packages/tensorflow/python/ops/math_ops.py:3066: to_int32 (from tensorflow.python.ops.math_ops) is deprecated and will be removed in a future version.\n",
      "Instructions for updating:\n",
      "Use tf.cast instead.\n",
      "Train on 1911 samples, validate on 820 samples\n",
      "Epoch 1/10\n",
      "1911/1911 [==============================] - 2s 794us/step - loss: 3.0218 - acc: 0.1204 - val_loss: 2.5588 - val_acc: 0.1988\n",
      "Epoch 2/10\n",
      "1911/1911 [==============================] - 0s 72us/step - loss: 2.5045 - acc: 0.1915 - val_loss: 2.4769 - val_acc: 0.2049\n",
      "Epoch 3/10\n",
      "1911/1911 [==============================] - 0s 73us/step - loss: 2.4188 - acc: 0.2046 - val_loss: 2.4178 - val_acc: 0.2012\n",
      "Epoch 4/10\n",
      "1911/1911 [==============================] - 0s 77us/step - loss: 2.3270 - acc: 0.2459 - val_loss: 2.3657 - val_acc: 0.2561\n",
      "Epoch 5/10\n",
      "1911/1911 [==============================] - 0s 109us/step - loss: 2.2874 - acc: 0.2700 - val_loss: 2.3298 - val_acc: 0.2280\n",
      "Epoch 6/10\n",
      "1911/1911 [==============================] - 0s 80us/step - loss: 2.2308 - acc: 0.2915 - val_loss: 2.2778 - val_acc: 0.2561\n",
      "Epoch 7/10\n",
      "1911/1911 [==============================] - 0s 74us/step - loss: 2.1789 - acc: 0.3014 - val_loss: 2.2482 - val_acc: 0.2768\n",
      "Epoch 8/10\n",
      "1911/1911 [==============================] - 0s 67us/step - loss: 2.1416 - acc: 0.3187 - val_loss: 2.2416 - val_acc: 0.2732\n",
      "Epoch 9/10\n",
      "1911/1911 [==============================] - 0s 75us/step - loss: 2.1041 - acc: 0.3276 - val_loss: 2.2171 - val_acc: 0.2561\n",
      "Epoch 10/10\n",
      "1911/1911 [==============================] - 0s 72us/step - loss: 2.0898 - acc: 0.3339 - val_loss: 2.1949 - val_acc: 0.2988\n"
     ]
    }
   ],
   "source": [
    "network.train(X_train, y_onehot_train, X_test, y_onehot_test, epochs=10)"
   ]
  },
  {
   "cell_type": "code",
   "execution_count": 25,
   "metadata": {},
   "outputs": [
    {
     "name": "stdout",
     "output_type": "stream",
     "text": [
      "Overall Accuracy: 0.29878048780487804\n",
      "             precision    recall  f1-score   support\n",
      "\n",
      "          0       0.28      0.11      0.16       108\n",
      "          1       0.00      0.00      0.00        19\n",
      "          2       0.15      0.32      0.21        87\n",
      "          3       0.35      0.24      0.29        54\n",
      "          4       0.48      0.24      0.32        41\n",
      "          5       0.33      0.10      0.15        10\n",
      "          6       0.50      0.62      0.56        89\n",
      "          7       0.33      0.13      0.19        75\n",
      "          8       0.00      0.00      0.00        45\n",
      "          9       0.29      0.68      0.41       152\n",
      "         10       0.00      0.00      0.00        25\n",
      "         11       0.00      0.00      0.00        55\n",
      "         12       0.00      0.00      0.00        28\n",
      "         13       0.72      0.41      0.52        32\n",
      "\n",
      "avg / total       0.27      0.30      0.25       820\n"
     ]
    },
    {
     "name": "stderr",
     "output_type": "stream",
     "text": [
      "/home/kavya/anaconda3/lib/python3.6/site-packages/sklearn/metrics/classification.py:1135: UndefinedMetricWarning: Precision and F-score are ill-defined and being set to 0.0 in labels with no predicted samples.\n",
      "  'precision', 'predicted', average, warn_for)\n"
     ]
    },
    {
     "name": "stdout",
     "output_type": "stream",
     "text": [
      "\n"
     ]
    },
    {
     "data": {
      "image/png": "[encoded data removed]",
      "text/plain": [
       "<Figure size 720x720 with 1 Axes>"
      ]
     },
     "metadata": {},
     "output_type": "display_data"
    }
   ],
   "source": [
    "s = network.test(X_test, y_onehot_test)"
   ]
  },
  {
   "cell_type": "markdown",
   "metadata": {},
   "source": [
    "## SVM"
   ]
  },
  {
   "cell_type": "code",
   "execution_count": 26,
   "metadata": {},
   "outputs": [
    {
     "data": {
      "text/plain": [
       "SVC(C=1.0, cache_size=200, class_weight=None, coef0=0.0,\n",
       "  decision_function_shape='ovr', degree=3, gamma='auto', kernel='rbf',\n",
       "  max_iter=-1, probability=False, random_state=None, shrinking=True,\n",
       "  tol=0.001, verbose=False)"
      ]
     },
     "execution_count": 26,
     "metadata": {},
     "output_type": "execute_result"
    }
   ],
   "source": [
    "clf = SVC(gamma='auto')\n",
    "clf.fit(X_train, y_train)"
   ]
  },
  {
   "cell_type": "code",
   "execution_count": 27,
   "metadata": {},
   "outputs": [
    {
     "name": "stdout",
     "output_type": "stream",
     "text": [
      "Overall Accuracy: 0.16951219512195123\n",
      "             precision    recall  f1-score   support\n",
      "\n",
      "          0       0.16      0.05      0.08        95\n",
      "          1       0.00      0.00      0.00        24\n",
      "          2       0.24      0.12      0.16       106\n",
      "          3       0.00      0.00      0.00        58\n",
      "          4       0.33      0.03      0.05        40\n",
      "          5       0.00      0.00      0.00         9\n",
      "          6       0.12      0.03      0.05        93\n",
      "          7       0.07      0.01      0.02        67\n",
      "          8       0.00      0.00      0.00        40\n",
      "          9       0.17      0.86      0.28       133\n",
      "         10       0.00      0.00      0.00        24\n",
      "         11       0.12      0.02      0.03        66\n",
      "         12       0.00      0.00      0.00        26\n",
      "         13       0.00      0.00      0.00        39\n",
      "\n",
      "avg / total       0.12      0.17      0.09       820\n",
      "\n"
     ]
    },
    {
     "name": "stderr",
     "output_type": "stream",
     "text": [
      "/home/kavya/anaconda3/lib/python3.6/site-packages/sklearn/metrics/classification.py:1135: UndefinedMetricWarning: Precision and F-score are ill-defined and being set to 0.0 in labels with no predicted samples.\n",
      "  'precision', 'predicted', average, warn_for)\n"
     ]
    },
    {
     "data": {
      "image/png": "[encoded data removed]",
      "text/plain": [
       "<Figure size 720x720 with 1 Axes>"
      ]
     },
     "metadata": {},
     "output_type": "display_data"
    }
   ],
   "source": [
    "y_pred = clf.predict(X_test)\n",
    "accuracy(y_test, y_pred, atc_labels)"
   ]
  },
  {
   "cell_type": "markdown",
   "metadata": {},
   "source": [
    "## CNN RNN"
   ]
  },
  {
   "cell_type": "code",
   "execution_count": 5,
   "metadata": {
    "collapsed": true
   },
   "outputs": [],
   "source": [
    "with open(\"./data/mol_sentences.pkl\", \"rb\") as file:\n",
    "    sentences = pickle.load(file)"
   ]
  },
  {
   "cell_type": "code",
   "execution_count": 6,
   "metadata": {
    "collapsed": true
   },
   "outputs": [],
   "source": [
    "atc = [sentence[1][0] for sentence in sentences]\n",
    "sentences = [sentence[3] for sentence in sentences]"
   ]
  },
  {
   "cell_type": "code",
   "execution_count": 7,
   "metadata": {
    "collapsed": true
   },
   "outputs": [],
   "source": [
    "vectors = []\n",
    "max_identifiers = 300\n",
    "\n",
    "for sentence in sentences[:100]:\n",
    "    vector = np.zeros(max_identifiers*dimensions)\n",
    "    if len(sentence)>max_identifiers:\n",
    "        continue\n",
    "    for word in sentence:\n",
    "        try:\n",
    "            we = w2v.wv.word_vec(word)\n",
    "            vector[:we.shape[0],:we.shape[1]] = we\n",
    "            \n",
    "        except:\n",
    "            pass\n",
    "    vectors.append(vector)\n",
    "    \n",
    "vectors = np.asarray(vectors).reshape(len(vectors), max_identifiers*dimensions)"
   ]
  },
  {
   "cell_type": "code",
   "execution_count": 8,
   "metadata": {},
   "outputs": [
    {
     "data": {
      "text/plain": [
       "(100, 15000)"
      ]
     },
     "execution_count": 8,
     "metadata": {},
     "output_type": "execute_result"
    }
   ],
   "source": [
    "vectors.shape"
   ]
  },
  {
   "cell_type": "code",
   "execution_count": 9,
   "metadata": {
    "collapsed": true
   },
   "outputs": [],
   "source": [
    "le = LabelEncoder()\n",
    "le.fit(atc)\n",
    "\n",
    "atc = le.transform(atc)"
   ]
  },
  {
   "cell_type": "code",
   "execution_count": 10,
   "metadata": {},
   "outputs": [
    {
     "ename": "NameError",
     "evalue": "name 'y' is not defined",
     "output_type": "error",
     "traceback": [
      "\u001b[0;31m---------------------------------------------------------------------------\u001b[0m",
      "\u001b[0;31mNameError\u001b[0m                                 Traceback (most recent call last)",
      "\u001b[0;32m<ipython-input-10-ed6103f90dca>\u001b[0m in \u001b[0;36m<module>\u001b[0;34m()\u001b[0m\n\u001b[1;32m      1\u001b[0m \u001b[0mLong_X\u001b[0m \u001b[0;34m=\u001b[0m \u001b[0mvectors\u001b[0m\u001b[0;34m\u001b[0m\u001b[0m\n\u001b[1;32m      2\u001b[0m \u001b[0moeAtc\u001b[0m \u001b[0;34m=\u001b[0m \u001b[0mOneHotEncoder\u001b[0m\u001b[0;34m(\u001b[0m\u001b[0msparse\u001b[0m\u001b[0;34m=\u001b[0m\u001b[0;32mFalse\u001b[0m\u001b[0;34m)\u001b[0m\u001b[0;34m\u001b[0m\u001b[0m\n\u001b[0;32m----> 3\u001b[0;31m \u001b[0moeAtc\u001b[0m\u001b[0;34m.\u001b[0m\u001b[0mfit\u001b[0m\u001b[0;34m(\u001b[0m\u001b[0my\u001b[0m\u001b[0;34m.\u001b[0m\u001b[0mreshape\u001b[0m\u001b[0;34m(\u001b[0m\u001b[0;34m-\u001b[0m\u001b[0;36m1\u001b[0m\u001b[0;34m,\u001b[0m \u001b[0;36m1\u001b[0m\u001b[0;34m)\u001b[0m\u001b[0;34m)\u001b[0m\u001b[0;34m\u001b[0m\u001b[0m\n\u001b[0m\u001b[1;32m      4\u001b[0m \u001b[0my_onehot\u001b[0m \u001b[0;34m=\u001b[0m \u001b[0moeAtc\u001b[0m\u001b[0;34m.\u001b[0m\u001b[0mtransform\u001b[0m\u001b[0;34m(\u001b[0m\u001b[0my\u001b[0m\u001b[0;34m[\u001b[0m\u001b[0;34m:\u001b[0m\u001b[0;36m1000\u001b[0m\u001b[0;34m]\u001b[0m\u001b[0;34m.\u001b[0m\u001b[0mreshape\u001b[0m\u001b[0;34m(\u001b[0m\u001b[0;34m-\u001b[0m\u001b[0;36m1\u001b[0m\u001b[0;34m,\u001b[0m \u001b[0;36m1\u001b[0m\u001b[0;34m)\u001b[0m\u001b[0;34m)\u001b[0m\u001b[0;34m\u001b[0m\u001b[0m\n\u001b[1;32m      5\u001b[0m \u001b[0;34m\u001b[0m\u001b[0m\n",
      "\u001b[0;31mNameError\u001b[0m: name 'y' is not defined"
     ]
    }
   ],
   "source": [
    "Long_X = vectors\n",
    "oeAtc = OneHotEncoder(sparse=False)\n",
    "oeAtc.fit(y.reshape(-1, 1))\n",
    "y_onehot = oeAtc.transform(y[:1000].reshape(-1, 1))\n",
    "\n",
    "X_train, X_test, y_onehot_train, y_onehot_test = train_test_split(Long_X, y_onehot, test_size=0.3, \n",
    "                                                                  random_state=int(random.random()*100))"
   ]
  },
  {
   "cell_type": "code",
   "execution_count": 34,
   "metadata": {
    "collapsed": true
   },
   "outputs": [],
   "source": [
    "class Network:\n",
    "    def __init__(self, num_classes):\n",
    "        self.model = Sequential()\n",
    "        self.model.add(Reshape((max_identifiers, dimensions), input_shape=(max_identifiers*dimensions, )))\n",
    "        self.model.add(Conv1D(192, 5, activation='selu'))\n",
    "        self.model.add(MaxPool1D(5))\n",
    "#         self.model.add(BatchNormalization())        \n",
    "#         self.model.add(Conv1D(192, 5, activation='relu'))\n",
    "        self.model.add(Conv1D(140, 3, activation='selu'))\n",
    "#         self.model.add(LSTM(70, dropout=0.7, recurrent_dropout=0.2, activation='selu', return_sequences=True,))\n",
    "#         self.model.add(LSTM(70, dropout=0.4, recurrent_dropout=0.2, activation='relu'))\n",
    "        self.model.add(Flatten())\n",
    "#         self.model.add(Dense(100, activation='relu'))\n",
    "        self.model.add(Dropout(rate=0.9))\n",
    "        self.model.add(Dense(num_classes, activation='softmax'))\n",
    "        self.model.compile(optimizer='adam', loss='categorical_crossentropy', metrics=['accuracy'])\n",
    "        print(self.model.summary())\n",
    "        \n",
    "    def train(self, X, y, X_test, y_test, epochs=20):\n",
    "        self.model.fit(X, y, epochs=epochs, validation_data=(X_test, y_test))\n",
    "    \n",
    "    def test(self, X, y):\n",
    "        y_pred = self.model.predict(X).argmax(axis=1)\n",
    "        y_true = y.argmax(axis=1)\n",
    "        accuracy(y_true, y_pred)\n",
    "        "
   ]
  },
  {
   "cell_type": "code",
   "execution_count": 35,
   "metadata": {
    "scrolled": false
   },
   "outputs": [
    {
     "name": "stdout",
     "output_type": "stream",
     "text": [
      "WARNING:tensorflow:From /home/kavya/anaconda3/lib/python3.6/site-packages/keras/backend/tensorflow_backend.py:3445: calling dropout (from tensorflow.python.ops.nn_ops) with keep_prob is deprecated and will be removed in a future version.\n",
      "Instructions for updating:\n",
      "Please use `rate` instead of `keep_prob`. Rate should be set to `rate = 1 - keep_prob`.\n",
      "_________________________________________________________________\n",
      "Layer (type)                 Output Shape              Param #   \n",
      "=================================================================\n",
      "reshape_1 (Reshape)          (None, 300, 300)          0         \n",
      "_________________________________________________________________\n",
      "conv1d_1 (Conv1D)            (None, 296, 192)          288192    \n",
      "_________________________________________________________________\n",
      "max_pooling1d_1 (MaxPooling1 (None, 59, 192)           0         \n",
      "_________________________________________________________________\n",
      "conv1d_2 (Conv1D)            (None, 57, 140)           80780     \n",
      "_________________________________________________________________\n",
      "flatten_1 (Flatten)          (None, 7980)              0         \n",
      "_________________________________________________________________\n",
      "dropout_1 (Dropout)          (None, 7980)              0         \n",
      "_________________________________________________________________\n",
      "dense_5 (Dense)              (None, 14)                111734    \n",
      "=================================================================\n",
      "Total params: 480,706\n",
      "Trainable params: 480,706\n",
      "Non-trainable params: 0\n",
      "_________________________________________________________________\n",
      "None\n"
     ]
    }
   ],
   "source": [
    "network = Network(len(atc_labels))"
   ]
  },
  {
   "cell_type": "code",
   "execution_count": 36,
   "metadata": {},
   "outputs": [
    {
     "name": "stdout",
     "output_type": "stream",
     "text": [
      "Train on 700 samples, validate on 300 samples\n",
      "Epoch 1/10\n",
      "700/700 [==============================] - 12s 17ms/step - loss: 2.6354 - acc: 0.1843 - val_loss: 2.6295 - val_acc: 0.2033\n",
      "Epoch 2/10\n",
      "700/700 [==============================] - 6s 9ms/step - loss: 2.6270 - acc: 0.1929 - val_loss: 2.6199 - val_acc: 0.2033\n",
      "Epoch 3/10\n",
      "700/700 [==============================] - 6s 9ms/step - loss: 2.6189 - acc: 0.1929 - val_loss: 2.6110 - val_acc: 0.2033\n",
      "Epoch 4/10\n",
      "700/700 [==============================] - 6s 9ms/step - loss: 2.6114 - acc: 0.1929 - val_loss: 2.6025 - val_acc: 0.2033\n",
      "Epoch 5/10\n",
      "700/700 [==============================] - 7s 10ms/step - loss: 2.6042 - acc: 0.1929 - val_loss: 2.5940 - val_acc: 0.2033\n",
      "Epoch 6/10\n",
      "700/700 [==============================] - 6s 9ms/step - loss: 2.5971 - acc: 0.1929 - val_loss: 2.5862 - val_acc: 0.2033\n",
      "Epoch 7/10\n",
      "700/700 [==============================] - 7s 10ms/step - loss: 2.5904 - acc: 0.1929 - val_loss: 2.5786 - val_acc: 0.2033\n",
      "Epoch 8/10\n",
      "700/700 [==============================] - 7s 10ms/step - loss: 2.5839 - acc: 0.1929 - val_loss: 2.5712 - val_acc: 0.2033\n",
      "Epoch 9/10\n",
      "700/700 [==============================] - 7s 10ms/step - loss: 2.5776 - acc: 0.1929 - val_loss: 2.5643 - val_acc: 0.2033\n",
      "Epoch 10/10\n",
      "700/700 [==============================] - 7s 10ms/step - loss: 2.5717 - acc: 0.1929 - val_loss: 2.5573 - val_acc: 0.2033\n"
     ]
    }
   ],
   "source": [
    "network.train(X_train, y_onehot_train, X_test, y_onehot_test, epochs=10)"
   ]
  },
  {
   "cell_type": "code",
   "execution_count": 268,
   "metadata": {},
   "outputs": [
    {
     "name": "stdout",
     "output_type": "stream",
     "text": [
      "Overall Accuracy: 0.39666666666666667\n"
     ]
    },
    {
     "name": "stderr",
     "output_type": "stream",
     "text": [
      "/home/kavya/anaconda3/lib/python3.6/site-packages/sklearn/metrics/classification.py:1135: UndefinedMetricWarning: Precision and F-score are ill-defined and being set to 0.0 in labels with no predicted samples.\n",
      "  'precision', 'predicted', average, warn_for)\n"
     ]
    },
    {
     "name": "stdout",
     "output_type": "stream",
     "text": [
      "             precision    recall  f1-score   support\n",
      "\n",
      "          0       0.00      0.00      0.00        57\n",
      "          1       0.00      0.00      0.00        56\n",
      "          2       0.00      0.00      0.00        68\n",
      "          3       0.40      1.00      0.57       119\n",
      "\n",
      "avg / total       0.16      0.40      0.23       300\n",
      "\n"
     ]
    },
    {
     "data": {
      "image/png": "[encoded data removed]",
      "text/plain": [
       "<Figure size 720x720 with 1 Axes>"
      ]
     },
     "metadata": {},
     "output_type": "display_data"
    }
   ],
   "source": [
    "s = network.test(X_test, y_onehot_test)"
   ]
  },
  {
   "cell_type": "code",
   "execution_count": 44,
   "metadata": {
    "collapsed": true
   },
   "outputs": [],
   "source": [
    "w2v.save(\"mine_100\")"
   ]
  },
  {
   "cell_type": "code",
   "execution_count": 30,
   "metadata": {},
   "outputs": [
    {
     "data": {
      "text/plain": [
       "[9, 2, 0, 6]"
      ]
     },
     "execution_count": 30,
     "metadata": {},
     "output_type": "execute_result"
    }
   ],
   "source": [
    "top_atc_labels"
   ]
  },
  {
   "cell_type": "code",
   "execution_count": null,
   "metadata": {
    "collapsed": true
   },
   "outputs": [],
   "source": []
  }
 ],
 "metadata": {
  "kernelspec": {
   "display_name": "Python 3",
   "language": "python",
   "name": "python3"
  },
  "language_info": {
   "codemirror_mode": {
    "name": "ipython",
    "version": 3
   },
   "file_extension": ".py",
   "mimetype": "text/x-python",
   "name": "python",
   "nbconvert_exporter": "python",
   "pygments_lexer": "ipython3",
   "version": "3.6.3"
  }
 },
 "nbformat": 4,
 "nbformat_minor": 2
}
