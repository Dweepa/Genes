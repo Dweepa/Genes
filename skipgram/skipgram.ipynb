{
 "cells": [
  {
   "cell_type": "code",
   "execution_count": 183,
   "metadata": {},
   "outputs": [],
   "source": [
    "import pickle\n",
    "from gensim.models import word2vec, Word2Vec\n",
    "import multiprocessing\n",
    "import numpy as np\n",
    "from sklearn.neighbors import KNeighborsClassifier\n",
    "from sklearn.model_selection import train_test_split\n",
    "\n",
    "import pandas as pd\n",
    "import pickle\n",
    "import requests\n",
    "import numpy as np\n",
    "import sys\n",
    "import matplotlib.pyplot as plt\n",
    "import seaborn as sns\n",
    "from collections import Counter\n",
    "import random\n",
    "from scipy.spatial.distance import cosine\n",
    "from sklearn.preprocessing import OneHotEncoder, LabelEncoder\n",
    "# from chembl_webresource_client.new_client import new_client\n",
    "from keras.utils import to_categorical\n",
    "from keras.models import Sequential\n",
    "from keras.layers import Dense, Conv1D, Flatten, Reshape, GRU, SpatialDropout1D, LSTM, Dropout\n",
    "from keras.layers import BatchNormalization, MaxPool1D\n",
    "from sklearn.model_selection import train_test_split\n",
    "from sklearn.metrics import classification_report\n",
    "import matplotlib.pyplot as plt\n",
    "import seaborn as sns\n",
    "from sklearn.metrics import confusion_matrix\n",
    "from sklearn.manifold.t_sne import _joint_probabilities\n",
    "from scipy import linalg\n",
    "from sklearn.metrics import pairwise_distances\n",
    "from scipy.spatial.distance import squareform\n",
    "from sklearn.manifold import TSNE\n",
    "from sklearn.ensemble import RandomForestClassifier, GradientBoostingClassifier\n",
    "from sklearn.neighbors import KDTree\n",
    "from sklearn.svm import SVC\n",
    "from imblearn.under_sampling import ClusterCentroids\n",
    "\n",
    "%matplotlib inline"
   ]
  },
  {
   "cell_type": "markdown",
   "metadata": {},
   "source": [
    "## Train Large Dataset"
   ]
  },
  {
   "cell_type": "code",
   "execution_count": 2,
   "metadata": {
    "collapsed": true
   },
   "outputs": [],
   "source": [
    "with open(\"./data/pcba_mol_sentences.pkl\", \"rb\") as file:\n",
    "    pcba_sentences = pickle.load(file)"
   ]
  },
  {
   "cell_type": "code",
   "execution_count": 46,
   "metadata": {
    "collapsed": true
   },
   "outputs": [],
   "source": [
    "dimensions = 100\n",
    "window_size = 10\n",
    "min_count = 3\n",
    "negative = 15\n",
    "iterations = 15\n",
    "\n",
    "w2v = Word2Vec(pcba_sentences, size=dimensions, window=window_size, min_count=min_count, negative=negative, \n",
    "               iter=iterations, sg=1)"
   ]
  },
  {
   "cell_type": "markdown",
   "metadata": {},
   "source": [
    "## Load ATC data"
   ]
  },
  {
   "cell_type": "code",
   "execution_count": 47,
   "metadata": {
    "collapsed": true
   },
   "outputs": [],
   "source": [
    "with open(\"./data/mol_sentences.pkl\", \"rb\") as file:\n",
    "    sentences = pickle.load(file)"
   ]
  },
  {
   "cell_type": "code",
   "execution_count": 48,
   "metadata": {
    "collapsed": true
   },
   "outputs": [],
   "source": [
    "atc = [sentence[1][0] for sentence in sentences]\n",
    "sentences = [sentence[3] for sentence in sentences]"
   ]
  },
  {
   "cell_type": "raw",
   "metadata": {},
   "source": [
    "dimensions = 50\n",
    "window_size = 5\n",
    "min_count = 5\n",
    "negative = 15\n",
    "iterations = 10\n",
    "\n",
    "w2v = Word2Vec(sentences, size=dimensions, window=window_size, min_count=min_count, negative=negative, iter=20)"
   ]
  },
  {
   "cell_type": "markdown",
   "metadata": {},
   "source": [
    "## Vectorisation"
   ]
  },
  {
   "cell_type": "code",
   "execution_count": 49,
   "metadata": {
    "collapsed": true
   },
   "outputs": [],
   "source": [
    "vectors = []\n",
    "\n",
    "for sentence in sentences:\n",
    "    vector = []\n",
    "    for word in sentence:\n",
    "        try:\n",
    "            vector+=list(w2v.wv.word_vec(word))\n",
    "        except:\n",
    "            vector+=([0 for a in range(0, dimensions)])\n",
    "    vectors.append(vector)\n",
    "    \n",
    "vectors = np.asarray(vectors)"
   ]
  },
  {
   "cell_type": "code",
   "execution_count": 50,
   "metadata": {
    "collapsed": true
   },
   "outputs": [],
   "source": [
    "sum_vectors = []\n",
    "\n",
    "for vector in vectors:\n",
    "    arr = np.asarray(vector)\n",
    "    arr = arr.reshape((int(arr.shape[0]/dimensions), dimensions) )\n",
    "    sum_vectors.append(arr.sum(axis=0))\n",
    "\n",
    "sum_vectors = np.asarray(sum_vectors)"
   ]
  },
  {
   "cell_type": "code",
   "execution_count": 51,
   "metadata": {
    "collapsed": true
   },
   "outputs": [],
   "source": [
    "le = LabelEncoder()\n",
    "le.fit(atc)\n",
    "\n",
    "atc = le.transform(atc)"
   ]
  },
  {
   "cell_type": "markdown",
   "metadata": {},
   "source": [
    "## T-SNE"
   ]
  },
  {
   "cell_type": "code",
   "execution_count": 52,
   "metadata": {},
   "outputs": [
    {
     "name": "stderr",
     "output_type": "stream",
     "text": [
      "/home/kavya/anaconda3/lib/python3.6/site-packages/sklearn/preprocessing/label.py:151: DeprecationWarning: The truth value of an empty array is ambiguous. Returning False, but in future this will result in an error. Use `array.size > 0` to check that an array is not empty.\n",
      "  if diff:\n"
     ]
    }
   ],
   "source": [
    "ile = le.inverse_transform(np.asarray(range(0, 14)))"
   ]
  },
  {
   "cell_type": "code",
   "execution_count": 53,
   "metadata": {
    "collapsed": true
   },
   "outputs": [],
   "source": [
    "tsne = TSNE(n_components=2, random_state=0)\n",
    "X_2d = tsne.fit_transform(sum_vectors)"
   ]
  },
  {
   "cell_type": "code",
   "execution_count": 54,
   "metadata": {},
   "outputs": [
    {
     "data": {
      "image/png": "[encoded data removed]",
      "text/plain": [
       "<Figure size 720x720 with 1 Axes>"
      ]
     },
     "metadata": {},
     "output_type": "display_data"
    }
   ],
   "source": [
    "plt.figure(figsize=(10, 10))\n",
    "top_atc_labels = [a for a,_ in Counter(atc).most_common(4)]\n",
    "for i in top_atc_labels:\n",
    "    sns.scatterplot(X_2d[atc == i, 0], X_2d[atc == i, 1], label=ile[i], palette=sns.color_palette(\"hls\", 10), \n",
    "                    legend=\"full\", alpha=0.7)"
   ]
  },
  {
   "cell_type": "markdown",
   "metadata": {},
   "source": [
    "## Helper Functions"
   ]
  },
  {
   "cell_type": "code",
   "execution_count": 147,
   "metadata": {
    "collapsed": true
   },
   "outputs": [],
   "source": [
    "def accuracy(y_true, y_pred, atc_labels=atc_labels):\n",
    "    print(\"Overall Accuracy:\", np.sum(np.equal(y_true, y_pred))/y_true.shape[0])\n",
    "    matrix = confusion_matrix(y_true, y_pred)\n",
    "    print(classification_report(y_true, y_pred))\n",
    "    plt.figure(figsize=(10, 10))\n",
    "    sns.heatmap(matrix, annot=True,cbar=False, xticklabels=atc_labels, yticklabels=atc_labels)"
   ]
  },
  {
   "cell_type": "code",
   "execution_count": 184,
   "metadata": {
    "collapsed": true
   },
   "outputs": [],
   "source": [
    "def balance(X, y):    \n",
    "    cc = ClusterCentroids(random_state=0)\n",
    "    X_resampled, y_resampled = cc.fit_resample(X, y)\n",
    "    return X_resampled, y_resampled"
   ]
  },
  {
   "cell_type": "markdown",
   "metadata": {},
   "source": [
    "## Data Preparation"
   ]
  },
  {
   "cell_type": "code",
   "execution_count": 185,
   "metadata": {},
   "outputs": [
    {
     "name": "stderr",
     "output_type": "stream",
     "text": [
      "/home/kavya/anaconda3/lib/python3.6/site-packages/sklearn/preprocessing/label.py:151: DeprecationWarning: The truth value of an empty array is ambiguous. Returning False, but in future this will result in an error. Use `array.size > 0` to check that an array is not empty.\n",
      "  if diff:\n"
     ]
    }
   ],
   "source": [
    "X = sum_vectors\n",
    "y = atc\n",
    "\n",
    "atc_counter = Counter(y)\n",
    "top_atc = [a for a, _ in atc_counter.most_common(4)]\n",
    "\n",
    "temp_x = []\n",
    "temp_y = []\n",
    "\n",
    "for i in range(y.shape[0]):\n",
    "    if y[i] in top_atc:\n",
    "        temp_x.append(X[i])\n",
    "        temp_y.append(y[i])\n",
    "        \n",
    "X = np.asarray(temp_x)\n",
    "y = np.asarray(temp_y)\n",
    "\n",
    "X, y = balance(X, y)\n",
    "\n",
    "atc_labels = le.inverse_transform(np.unique(y))"
   ]
  },
  {
   "cell_type": "code",
   "execution_count": 186,
   "metadata": {
    "collapsed": true
   },
   "outputs": [],
   "source": [
    "X_train, X_test, y_train, y_test = train_test_split(X, y, test_size=0.3, random_state=int(random.random()*100))"
   ]
  },
  {
   "cell_type": "markdown",
   "metadata": {},
   "source": [
    "## KNN"
   ]
  },
  {
   "cell_type": "code",
   "execution_count": 187,
   "metadata": {},
   "outputs": [
    {
     "data": {
      "text/plain": [
       "KNeighborsClassifier(algorithm='auto', leaf_size=30, metric='minkowski',\n",
       "           metric_params=None, n_jobs=1, n_neighbors=5, p=2,\n",
       "           weights='uniform')"
      ]
     },
     "execution_count": 187,
     "metadata": {},
     "output_type": "execute_result"
    }
   ],
   "source": [
    "neigh = KNeighborsClassifier(n_neighbors=5)\n",
    "neigh.fit(X_train, y_train)"
   ]
  },
  {
   "cell_type": "code",
   "execution_count": 188,
   "metadata": {
    "scrolled": false
   },
   "outputs": [
    {
     "name": "stdout",
     "output_type": "stream",
     "text": [
      "Overall Accuracy: 0.661849710982659\n",
      "             precision    recall  f1-score   support\n",
      "\n",
      "          0       0.65      0.59      0.62       101\n",
      "          2       0.59      0.60      0.59        78\n",
      "          6       0.78      0.86      0.82        71\n",
      "          9       0.64      0.64      0.64        96\n",
      "\n",
      "avg / total       0.66      0.66      0.66       346\n",
      "\n"
     ]
    },
    {
     "data": {
      "image/png": "[encoded data removed]",
      "text/plain": [
       "<Figure size 720x720 with 1 Axes>"
      ]
     },
     "metadata": {},
     "output_type": "display_data"
    }
   ],
   "source": [
    "y_pred = neigh.predict(X_test)\n",
    "accuracy(y_pred, y_test, atc_labels)"
   ]
  },
  {
   "cell_type": "markdown",
   "metadata": {},
   "source": [
    "## Random Forest"
   ]
  },
  {
   "cell_type": "code",
   "execution_count": 189,
   "metadata": {},
   "outputs": [
    {
     "data": {
      "text/plain": [
       "RandomForestClassifier(bootstrap=True, class_weight=None, criterion='entropy',\n",
       "            max_depth=None, max_features='sqrt', max_leaf_nodes=None,\n",
       "            min_impurity_decrease=0.0, min_impurity_split=None,\n",
       "            min_samples_leaf=1, min_samples_split=2,\n",
       "            min_weight_fraction_leaf=0.0, n_estimators=100, n_jobs=1,\n",
       "            oob_score=False, random_state=None, verbose=0,\n",
       "            warm_start=False)"
      ]
     },
     "execution_count": 189,
     "metadata": {},
     "output_type": "execute_result"
    }
   ],
   "source": [
    "rf_model = RandomForestClassifier(n_estimators=100, \n",
    "                               bootstrap = True,\n",
    "                               max_features = 'sqrt', criterion='entropy')\n",
    "# Fit on training data\n",
    "rf_model.fit(X_train, y_train)"
   ]
  },
  {
   "cell_type": "code",
   "execution_count": 190,
   "metadata": {},
   "outputs": [
    {
     "name": "stdout",
     "output_type": "stream",
     "text": [
      "Overall Accuracy: 0.6589595375722543\n",
      "             precision    recall  f1-score   support\n",
      "\n",
      "          0       0.48      0.63      0.54        70\n",
      "          2       0.60      0.56      0.58        85\n",
      "          6       0.81      0.79      0.80        80\n",
      "          9       0.76      0.66      0.71       111\n",
      "\n",
      "avg / total       0.67      0.66      0.66       346\n",
      "\n"
     ]
    },
    {
     "data": {
      "image/png": "[encoded data removed]",
      "text/plain": [
       "<Figure size 720x720 with 1 Axes>"
      ]
     },
     "metadata": {},
     "output_type": "display_data"
    }
   ],
   "source": [
    "y_pred = rf_model.predict(X_test)\n",
    "accuracy(y_pred, y_test, atc_labels)"
   ]
  },
  {
   "cell_type": "markdown",
   "metadata": {},
   "source": [
    "## ANN"
   ]
  },
  {
   "cell_type": "code",
   "execution_count": 85,
   "metadata": {
    "collapsed": true
   },
   "outputs": [],
   "source": [
    "oeAtc = OneHotEncoder(sparse=False)\n",
    "oeAtc.fit(y.reshape(-1, 1))\n",
    "y_onehot = oeAtc.transform(y.reshape(-1, 1))\n",
    "\n",
    "X_train, X_test, y_onehot_train, y_onehot_test = train_test_split(X, y_onehot, test_size=0.3, random_state=int(random.random()*100))"
   ]
  },
  {
   "cell_type": "code",
   "execution_count": 86,
   "metadata": {
    "collapsed": true
   },
   "outputs": [],
   "source": [
    "class Network:\n",
    "    def __init__(self, num_classes):\n",
    "        self.model = Sequential()\n",
    "        self.model.add(Dense(50, input_dim=dimensions, activation='relu'))\n",
    "        self.model.add(Dense(30, activation='relu'))\n",
    "        self.model.add(Dense(20, activation='relu'))\n",
    "        self.model.add(Dense(num_classes, activation='softmax'))\n",
    "        self.model.compile(optimizer='adam', loss='categorical_crossentropy', metrics=['accuracy'])\n",
    "        print(self.model.summary())\n",
    "        \n",
    "    def train(self, X, y, X_test, y_test, epochs=20):\n",
    "        self.model.fit(X, y, epochs=epochs, validation_data=(X_test, y_test))\n",
    "    \n",
    "    def test(self, X, y):\n",
    "        y_pred = self.model.predict(X).argmax(axis=1)\n",
    "        y_true = y.argmax(axis=1)\n",
    "        accuracy(y_true, y_pred)\n",
    "        "
   ]
  },
  {
   "cell_type": "code",
   "execution_count": 87,
   "metadata": {},
   "outputs": [
    {
     "name": "stdout",
     "output_type": "stream",
     "text": [
      "WARNING:tensorflow:From /home/kavya/anaconda3/lib/python3.6/site-packages/tensorflow/python/framework/op_def_library.py:263: colocate_with (from tensorflow.python.framework.ops) is deprecated and will be removed in a future version.\n",
      "Instructions for updating:\n",
      "Colocations handled automatically by placer.\n",
      "_________________________________________________________________\n",
      "Layer (type)                 Output Shape              Param #   \n",
      "=================================================================\n",
      "dense_1 (Dense)              (None, 50)                5050      \n",
      "_________________________________________________________________\n",
      "dense_2 (Dense)              (None, 30)                1530      \n",
      "_________________________________________________________________\n",
      "dense_3 (Dense)              (None, 20)                620       \n",
      "_________________________________________________________________\n",
      "dense_4 (Dense)              (None, 3)                 63        \n",
      "=================================================================\n",
      "Total params: 7,263\n",
      "Trainable params: 7,263\n",
      "Non-trainable params: 0\n",
      "_________________________________________________________________\n",
      "None\n"
     ]
    }
   ],
   "source": [
    "network = Network(len(atc_labels))"
   ]
  },
  {
   "cell_type": "code",
   "execution_count": 88,
   "metadata": {},
   "outputs": [
    {
     "name": "stdout",
     "output_type": "stream",
     "text": [
      "WARNING:tensorflow:From /home/kavya/anaconda3/lib/python3.6/site-packages/tensorflow/python/ops/math_ops.py:3066: to_int32 (from tensorflow.python.ops.math_ops) is deprecated and will be removed in a future version.\n",
      "Instructions for updating:\n",
      "Use tf.cast instead.\n",
      "Train on 770 samples, validate on 331 samples\n",
      "Epoch 1/10\n",
      "770/770 [==============================] - 0s 478us/step - loss: 1.4965 - acc: 0.4584 - val_loss: 1.0398 - val_acc: 0.5770\n",
      "Epoch 2/10\n",
      "770/770 [==============================] - 0s 74us/step - loss: 0.9753 - acc: 0.5935 - val_loss: 0.9206 - val_acc: 0.5861\n",
      "Epoch 3/10\n",
      "770/770 [==============================] - 0s 72us/step - loss: 0.7972 - acc: 0.6610 - val_loss: 0.9033 - val_acc: 0.6284\n",
      "Epoch 4/10\n",
      "770/770 [==============================] - 0s 69us/step - loss: 0.7578 - acc: 0.6831 - val_loss: 0.8933 - val_acc: 0.6465\n",
      "Epoch 5/10\n",
      "770/770 [==============================] - 0s 77us/step - loss: 0.6941 - acc: 0.7299 - val_loss: 0.8122 - val_acc: 0.6647\n",
      "Epoch 6/10\n",
      "770/770 [==============================] - 0s 70us/step - loss: 0.6923 - acc: 0.7169 - val_loss: 0.7855 - val_acc: 0.6707\n",
      "Epoch 7/10\n",
      "770/770 [==============================] - 0s 60us/step - loss: 0.6386 - acc: 0.7403 - val_loss: 0.7860 - val_acc: 0.6828\n",
      "Epoch 8/10\n",
      "770/770 [==============================] - 0s 67us/step - loss: 0.5806 - acc: 0.7662 - val_loss: 0.7619 - val_acc: 0.6979\n",
      "Epoch 9/10\n",
      "770/770 [==============================] - 0s 64us/step - loss: 0.5665 - acc: 0.7779 - val_loss: 0.8133 - val_acc: 0.6918\n",
      "Epoch 10/10\n",
      "770/770 [==============================] - 0s 59us/step - loss: 0.5569 - acc: 0.7818 - val_loss: 0.7429 - val_acc: 0.7190\n"
     ]
    }
   ],
   "source": [
    "network.train(X_train, y_onehot_train, X_test, y_onehot_test, epochs=10)"
   ]
  },
  {
   "cell_type": "code",
   "execution_count": 89,
   "metadata": {},
   "outputs": [
    {
     "name": "stdout",
     "output_type": "stream",
     "text": [
      "Overall Accuracy: 0.7190332326283988\n",
      "             precision    recall  f1-score   support\n",
      "\n",
      "          0       0.60      0.58      0.59       102\n",
      "          1       0.84      0.74      0.79        90\n",
      "          2       0.73      0.81      0.77       139\n",
      "\n",
      "avg / total       0.72      0.72      0.72       331\n",
      "\n"
     ]
    },
    {
     "data": {
      "image/png": "[encoded data removed]",
      "text/plain": [
       "<Figure size 720x720 with 1 Axes>"
      ]
     },
     "metadata": {},
     "output_type": "display_data"
    }
   ],
   "source": [
    "s = network.test(X_test, y_onehot_test)"
   ]
  },
  {
   "cell_type": "markdown",
   "metadata": {},
   "source": [
    "## SVM"
   ]
  },
  {
   "cell_type": "code",
   "execution_count": 194,
   "metadata": {},
   "outputs": [
    {
     "data": {
      "text/plain": [
       "SVC(C=1.0, cache_size=200, class_weight=None, coef0=0.0,\n",
       "  decision_function_shape='ovr', degree=3, gamma='auto', kernel='rbf',\n",
       "  max_iter=-1, probability=False, random_state=None, shrinking=True,\n",
       "  tol=0.001, verbose=False)"
      ]
     },
     "execution_count": 194,
     "metadata": {},
     "output_type": "execute_result"
    }
   ],
   "source": [
    "clf = SVC(gamma='auto')\n",
    "clf.fit(X_train, y_train)"
   ]
  },
  {
   "cell_type": "code",
   "execution_count": 195,
   "metadata": {},
   "outputs": [
    {
     "name": "stdout",
     "output_type": "stream",
     "text": [
      "Overall Accuracy: 0.3176470588235294\n"
     ]
    },
    {
     "name": "stderr",
     "output_type": "stream",
     "text": [
      "/home/kavya/anaconda3/lib/python3.6/site-packages/sklearn/metrics/classification.py:1137: UndefinedMetricWarning: Recall and F-score are ill-defined and being set to 0.0 in labels with no true samples.\n",
      "  'recall', 'true', average, warn_for)\n"
     ]
    },
    {
     "name": "stdout",
     "output_type": "stream",
     "text": [
      "             precision    recall  f1-score   support\n",
      "\n",
      "          0       0.00      0.00      0.00         0\n",
      "          2       0.02      0.29      0.04         7\n",
      "          6       0.01      0.33      0.02         3\n",
      "          9       0.96      0.32      0.48       415\n",
      "\n",
      "avg / total       0.94      0.32      0.47       425\n",
      "\n"
     ]
    },
    {
     "data": {
      "image/png": "[encoded data removed]",
      "text/plain": [
       "<Figure size 720x720 with 1 Axes>"
      ]
     },
     "metadata": {},
     "output_type": "display_data"
    }
   ],
   "source": [
    "y_pred = clf.predict(X_test)\n",
    "accuracy(y_pred, y_test, atc_labels)"
   ]
  },
  {
   "cell_type": "markdown",
   "metadata": {},
   "source": [
    "## CNN RNN"
   ]
  },
  {
   "cell_type": "code",
   "execution_count": 86,
   "metadata": {
    "collapsed": true
   },
   "outputs": [],
   "source": [
    "with open(\"./data/mol_sentences.pkl\", \"rb\") as file:\n",
    "    sentences = pickle.load(file)"
   ]
  },
  {
   "cell_type": "code",
   "execution_count": 87,
   "metadata": {
    "collapsed": true
   },
   "outputs": [],
   "source": [
    "atc = [sentence[1][0] for sentence in sentences]\n",
    "sentences = [sentence[3] for sentence in sentences]"
   ]
  },
  {
   "cell_type": "code",
   "execution_count": 258,
   "metadata": {
    "collapsed": true
   },
   "outputs": [],
   "source": [
    "vectors = []\n",
    "max_identifiers = 300\n",
    "\n",
    "for sentence in sentences[:1000]:\n",
    "    vector = np.zeros(max_identifiers*dimensions)\n",
    "    if len(sentence)>max_identifiers:\n",
    "        continue\n",
    "    for word in sentence:\n",
    "        try:\n",
    "            we = w2v.wv.word_vec(word)\n",
    "            vector[:we.shape[0],:we.shape[1]] = we\n",
    "            \n",
    "        except:\n",
    "            pass\n",
    "    vectors.append(vector)\n",
    "    \n",
    "vectors = np.asarray(vectors).reshape(len(vectors), max_identifiers*dimensions)"
   ]
  },
  {
   "cell_type": "code",
   "execution_count": 259,
   "metadata": {},
   "outputs": [
    {
     "data": {
      "text/plain": [
       "(1000, 90000)"
      ]
     },
     "execution_count": 259,
     "metadata": {},
     "output_type": "execute_result"
    }
   ],
   "source": [
    "vectors.shape"
   ]
  },
  {
   "cell_type": "code",
   "execution_count": 260,
   "metadata": {
    "collapsed": true
   },
   "outputs": [],
   "source": [
    "le = LabelEncoder()\n",
    "le.fit(atc)\n",
    "\n",
    "atc = le.transform(atc)"
   ]
  },
  {
   "cell_type": "code",
   "execution_count": 261,
   "metadata": {
    "collapsed": true
   },
   "outputs": [],
   "source": [
    "Long_X = vectors\n",
    "oeAtc = OneHotEncoder(sparse=False)\n",
    "oeAtc.fit(y.reshape(-1, 1))\n",
    "y_onehot = oeAtc.transform(y[:1000].reshape(-1, 1))\n",
    "\n",
    "X_train, X_test, y_onehot_train, y_onehot_test = train_test_split(Long_X, y_onehot, test_size=0.3, \n",
    "                                                                  random_state=int(random.random()*100))"
   ]
  },
  {
   "cell_type": "code",
   "execution_count": 265,
   "metadata": {
    "collapsed": true
   },
   "outputs": [],
   "source": [
    "class Network:\n",
    "    def __init__(self, num_classes):\n",
    "        self.model = Sequential()\n",
    "        self.model.add(Reshape((max_identifiers, dimensions), input_shape=(max_identifiers*dimensions, )))\n",
    "        self.model.add(Conv1D(192, 5, activation='relu'))\n",
    "        self.model.add(MaxPool1D(5))\n",
    "#         self.model.add(BatchNormalization())        \n",
    "#         self.model.add(Conv1D(192, 5, activation='relu'))\n",
    "        self.model.add(Conv1D(140, 3, activation='relu'))\n",
    "#         self.model.add(LSTM(70, dropout=0.7, recurrent_dropout=0.2, activation='selu', return_sequences=True,))\n",
    "#         self.model.add(LSTM(70, dropout=0.4, recurrent_dropout=0.2, activation='relu'))\n",
    "        self.model.add(Flatten())\n",
    "#         self.model.add(Dense(100, activation='relu'))\n",
    "        self.model.add(Dropout(rate=0.9))\n",
    "        self.model.add(Dense(num_classes, activation='softmax'))\n",
    "        self.model.compile(optimizer='adam', loss='categorical_crossentropy', metrics=['accuracy'])\n",
    "        print(self.model.summary())\n",
    "        \n",
    "    def train(self, X, y, X_test, y_test, epochs=20):\n",
    "        self.model.fit(X, y, epochs=epochs, validation_data=(X_test, y_test))\n",
    "    \n",
    "    def test(self, X, y):\n",
    "        y_pred = self.model.predict(X).argmax(axis=1)\n",
    "        y_true = y.argmax(axis=1)\n",
    "        accuracy(y_true, y_pred)\n",
    "        "
   ]
  },
  {
   "cell_type": "code",
   "execution_count": 266,
   "metadata": {
    "scrolled": false
   },
   "outputs": [
    {
     "name": "stdout",
     "output_type": "stream",
     "text": [
      "_________________________________________________________________\n",
      "Layer (type)                 Output Shape              Param #   \n",
      "=================================================================\n",
      "reshape_5 (Reshape)          (None, 300, 300)          0         \n",
      "_________________________________________________________________\n",
      "conv1d_9 (Conv1D)            (None, 296, 192)          288192    \n",
      "_________________________________________________________________\n",
      "max_pooling1d_5 (MaxPooling1 (None, 59, 192)           0         \n",
      "_________________________________________________________________\n",
      "conv1d_10 (Conv1D)           (None, 57, 140)           80780     \n",
      "_________________________________________________________________\n",
      "flatten_5 (Flatten)          (None, 7980)              0         \n",
      "_________________________________________________________________\n",
      "dropout_5 (Dropout)          (None, 7980)              0         \n",
      "_________________________________________________________________\n",
      "dense_21 (Dense)             (None, 4)                 31924     \n",
      "=================================================================\n",
      "Total params: 400,896\n",
      "Trainable params: 400,896\n",
      "Non-trainable params: 0\n",
      "_________________________________________________________________\n",
      "None\n"
     ]
    }
   ],
   "source": [
    "network = Network(len(atc_labels))"
   ]
  },
  {
   "cell_type": "code",
   "execution_count": 267,
   "metadata": {},
   "outputs": [
    {
     "name": "stdout",
     "output_type": "stream",
     "text": [
      "Train on 700 samples, validate on 300 samples\n",
      "Epoch 1/10\n",
      "700/700 [==============================] - 8s 12ms/step - loss: 1.3855 - acc: 0.3057 - val_loss: 1.3831 - val_acc: 0.3967\n",
      "Epoch 2/10\n",
      "700/700 [==============================] - 6s 9ms/step - loss: 1.3839 - acc: 0.3214 - val_loss: 1.3802 - val_acc: 0.3967\n",
      "Epoch 3/10\n",
      "700/700 [==============================] - 6s 9ms/step - loss: 1.3827 - acc: 0.3214 - val_loss: 1.3775 - val_acc: 0.3967\n",
      "Epoch 4/10\n",
      "700/700 [==============================] - 6s 9ms/step - loss: 1.3814 - acc: 0.3214 - val_loss: 1.3754 - val_acc: 0.3967\n",
      "Epoch 5/10\n",
      "700/700 [==============================] - 6s 9ms/step - loss: 1.3804 - acc: 0.3214 - val_loss: 1.3737 - val_acc: 0.3967\n",
      "Epoch 6/10\n",
      "700/700 [==============================] - 6s 9ms/step - loss: 1.3795 - acc: 0.3214 - val_loss: 1.3717 - val_acc: 0.3967\n",
      "Epoch 7/10\n",
      "700/700 [==============================] - 6s 9ms/step - loss: 1.3787 - acc: 0.3214 - val_loss: 1.3699 - val_acc: 0.3967\n",
      "Epoch 8/10\n",
      "700/700 [==============================] - 6s 9ms/step - loss: 1.3780 - acc: 0.3214 - val_loss: 1.3682 - val_acc: 0.3967\n",
      "Epoch 9/10\n",
      "700/700 [==============================] - 6s 9ms/step - loss: 1.3774 - acc: 0.3214 - val_loss: 1.3666 - val_acc: 0.3967\n",
      "Epoch 10/10\n",
      "700/700 [==============================] - 6s 9ms/step - loss: 1.3768 - acc: 0.3214 - val_loss: 1.3653 - val_acc: 0.3967\n"
     ]
    }
   ],
   "source": [
    "network.train(X_train, y_onehot_train, X_test, y_onehot_test, epochs=10)"
   ]
  },
  {
   "cell_type": "code",
   "execution_count": 268,
   "metadata": {},
   "outputs": [
    {
     "name": "stdout",
     "output_type": "stream",
     "text": [
      "Overall Accuracy: 0.39666666666666667\n"
     ]
    },
    {
     "name": "stderr",
     "output_type": "stream",
     "text": [
      "/home/kavya/anaconda3/lib/python3.6/site-packages/sklearn/metrics/classification.py:1135: UndefinedMetricWarning: Precision and F-score are ill-defined and being set to 0.0 in labels with no predicted samples.\n",
      "  'precision', 'predicted', average, warn_for)\n"
     ]
    },
    {
     "name": "stdout",
     "output_type": "stream",
     "text": [
      "             precision    recall  f1-score   support\n",
      "\n",
      "          0       0.00      0.00      0.00        57\n",
      "          1       0.00      0.00      0.00        56\n",
      "          2       0.00      0.00      0.00        68\n",
      "          3       0.40      1.00      0.57       119\n",
      "\n",
      "avg / total       0.16      0.40      0.23       300\n",
      "\n"
     ]
    },
    {
     "data": {
      "image/png": "[encoded data removed]",
      "text/plain": [
       "<Figure size 720x720 with 1 Axes>"
      ]
     },
     "metadata": {},
     "output_type": "display_data"
    }
   ],
   "source": [
    "s = network.test(X_test, y_onehot_test)"
   ]
  },
  {
   "cell_type": "code",
   "execution_count": 153,
   "metadata": {},
   "outputs": [
    {
     "data": {
      "text/plain": [
       "[(9, 469), (2, 344), (0, 315), (6, 288)]"
      ]
     },
     "execution_count": 153,
     "metadata": {},
     "output_type": "execute_result"
    }
   ],
   "source": [
    "Counter(atc).most_common(4)"
   ]
  },
  {
   "cell_type": "code",
   "execution_count": 191,
   "metadata": {
    "collapsed": true
   },
   "outputs": [],
   "source": [
    "w2v.save(\"my_100.model\")"
   ]
  },
  {
   "cell_type": "code",
   "execution_count": null,
   "metadata": {
    "collapsed": true
   },
   "outputs": [],
   "source": []
  }
 ],
 "metadata": {
  "kernelspec": {
   "display_name": "Python 3",
   "language": "python",
   "name": "python3"
  },
  "language_info": {
   "codemirror_mode": {
    "name": "ipython",
    "version": 3
   },
   "file_extension": ".py",
   "mimetype": "text/x-python",
   "name": "python",
   "nbconvert_exporter": "python",
   "pygments_lexer": "ipython3",
   "version": "3.6.3"
  }
 },
 "nbformat": 4,
 "nbformat_minor": 2
}
