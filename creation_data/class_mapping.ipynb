{
 "cells": [
  {
   "cell_type": "code",
   "execution_count": 392,
   "metadata": {},
   "outputs": [],
   "source": [
    "import pandas as pd\n",
    "import numpy as np\n",
    "import pickle\n",
    "from typing import Optional, Union, Tuple\n",
    "from cmapPy.pandasGEXpress.parse import parse\n",
    "import numpy as np\n",
    "import json\n",
    "from collections import Counter\n",
    "import sys\n",
    "from numpy.core.multiarray import ndarray\n",
    "import sys\n",
    "import matplotlib.pyplot as plt\n",
    "\n",
    "path = \"../data/drug_class_identification/phase1/\""
   ]
  },
  {
   "cell_type": "markdown",
   "metadata": {},
   "source": [
    "### Importing Metadata"
   ]
  },
  {
   "cell_type": "raw",
   "metadata": {},
   "source": [
    "# Converting .txt (as downloaded from geo accession viewer) to .csv file\n",
    "meta = pd.read_csv(path+\"GSE92742_Broad_LINCS_pert_info.txt\",delimiter=\"\\t\")\n",
    "\n",
    "# Standardizing names across files\n",
    "meta.canonical_smiles = meta.canonical_smiles.str.upper()\n",
    "meta['smiles'] = meta.canonical_smiles\n",
    "meta['name'] = meta['pert_iname'].str.lower()\n",
    "meta['id']=meta['pert_id']\n",
    "meta = meta[['smiles','name','id',\"inchi_key\"]]\n",
    "\n",
    "meta.to_csv(path+\"metadata.csv\",index=False)"
   ]
  },
  {
   "cell_type": "code",
   "execution_count": 393,
   "metadata": {},
   "outputs": [
    {
     "data": {
      "text/html": [
       "<div>\n",
       "<style scoped>\n",
       "    .dataframe tbody tr th:only-of-type {\n",
       "        vertical-align: middle;\n",
       "    }\n",
       "\n",
       "    .dataframe tbody tr th {\n",
       "        vertical-align: top;\n",
       "    }\n",
       "\n",
       "    .dataframe thead th {\n",
       "        text-align: right;\n",
       "    }\n",
       "</style>\n",
       "<table border=\"1\" class=\"dataframe\">\n",
       "  <thead>\n",
       "    <tr style=\"text-align: right;\">\n",
       "      <th></th>\n",
       "      <th>smiles</th>\n",
       "      <th>name</th>\n",
       "      <th>id</th>\n",
       "      <th>inchi_key</th>\n",
       "    </tr>\n",
       "  </thead>\n",
       "  <tbody>\n",
       "    <tr>\n",
       "      <th>0</th>\n",
       "      <td>-666</td>\n",
       "      <td>akt2</td>\n",
       "      <td>56582</td>\n",
       "      <td>-666</td>\n",
       "    </tr>\n",
       "    <tr>\n",
       "      <th>1</th>\n",
       "      <td>-666</td>\n",
       "      <td>hsf1</td>\n",
       "      <td>5981</td>\n",
       "      <td>-666</td>\n",
       "    </tr>\n",
       "    <tr>\n",
       "      <th>2</th>\n",
       "      <td>-666</td>\n",
       "      <td>nfe2l2</td>\n",
       "      <td>7150</td>\n",
       "      <td>-666</td>\n",
       "    </tr>\n",
       "    <tr>\n",
       "      <th>3</th>\n",
       "      <td>-666</td>\n",
       "      <td>abl1</td>\n",
       "      <td>ABL1_G2A</td>\n",
       "      <td>-666</td>\n",
       "    </tr>\n",
       "    <tr>\n",
       "      <th>4</th>\n",
       "      <td>-666</td>\n",
       "      <td>abl1</td>\n",
       "      <td>ABL1_T315I</td>\n",
       "      <td>-666</td>\n",
       "    </tr>\n",
       "  </tbody>\n",
       "</table>\n",
       "</div>"
      ],
      "text/plain": [
       "  smiles    name          id inchi_key\n",
       "0   -666    akt2       56582      -666\n",
       "1   -666    hsf1        5981      -666\n",
       "2   -666  nfe2l2        7150      -666\n",
       "3   -666    abl1    ABL1_G2A      -666\n",
       "4   -666    abl1  ABL1_T315I      -666"
      ]
     },
     "execution_count": 393,
     "metadata": {},
     "output_type": "execute_result"
    }
   ],
   "source": [
    "meta = pd.read_csv(path+\"metadata.csv\")\n",
    "meta.head()"
   ]
  },
  {
   "cell_type": "code",
   "execution_count": 394,
   "metadata": {},
   "outputs": [],
   "source": [
    "unique_names = [k for k, v in dict(Counter(meta.name)).items() if v==1]\n",
    "meta = meta[meta.name.isin(unique_names)]"
   ]
  },
  {
   "cell_type": "code",
   "execution_count": 395,
   "metadata": {},
   "outputs": [
    {
     "name": "stdout",
     "output_type": "stream",
     "text": [
      "Total number of rows:  23897\n",
      "Unique number of perturbagen names:  23897\n"
     ]
    }
   ],
   "source": [
    "print(\"Total number of rows: \",len(list(meta.name)))\n",
    "print(\"Unique number of perturbagen names: \",len(list(np.unique(meta.name))))"
   ]
  },
  {
   "cell_type": "markdown",
   "metadata": {},
   "source": [
    "### Importing Drugbank"
   ]
  },
  {
   "cell_type": "code",
   "execution_count": 396,
   "metadata": {
    "scrolled": true
   },
   "outputs": [
    {
     "data": {
      "text/html": [
       "<div>\n",
       "<style scoped>\n",
       "    .dataframe tbody tr th:only-of-type {\n",
       "        vertical-align: middle;\n",
       "    }\n",
       "\n",
       "    .dataframe tbody tr th {\n",
       "        vertical-align: top;\n",
       "    }\n",
       "\n",
       "    .dataframe thead th {\n",
       "        text-align: right;\n",
       "    }\n",
       "</style>\n",
       "<table border=\"1\" class=\"dataframe\">\n",
       "  <thead>\n",
       "    <tr style=\"text-align: right;\">\n",
       "      <th></th>\n",
       "      <th>name</th>\n",
       "      <th>atc</th>\n",
       "      <th>inchi_key</th>\n",
       "      <th>smiles</th>\n",
       "    </tr>\n",
       "  </thead>\n",
       "  <tbody>\n",
       "    <tr>\n",
       "      <th>0</th>\n",
       "      <td>lepirudin</td>\n",
       "      <td>B01AE02</td>\n",
       "      <td>NaN</td>\n",
       "      <td>NaN</td>\n",
       "    </tr>\n",
       "    <tr>\n",
       "      <th>1</th>\n",
       "      <td>cetuximab</td>\n",
       "      <td>L01XC06</td>\n",
       "      <td>NaN</td>\n",
       "      <td>NaN</td>\n",
       "    </tr>\n",
       "    <tr>\n",
       "      <th>2</th>\n",
       "      <td>dornase alfa</td>\n",
       "      <td>R05CB13</td>\n",
       "      <td>NaN</td>\n",
       "      <td>NaN</td>\n",
       "    </tr>\n",
       "    <tr>\n",
       "      <th>3</th>\n",
       "      <td>denileukin diftitox</td>\n",
       "      <td>L01XX29</td>\n",
       "      <td>NaN</td>\n",
       "      <td>NaN</td>\n",
       "    </tr>\n",
       "    <tr>\n",
       "      <th>4</th>\n",
       "      <td>etanercept</td>\n",
       "      <td>L04AB01</td>\n",
       "      <td>NaN</td>\n",
       "      <td>NaN</td>\n",
       "    </tr>\n",
       "  </tbody>\n",
       "</table>\n",
       "</div>"
      ],
      "text/plain": [
       "                  name      atc inchi_key smiles\n",
       "0            lepirudin  B01AE02       NaN    NaN\n",
       "1            cetuximab  L01XC06       NaN    NaN\n",
       "2         dornase alfa  R05CB13       NaN    NaN\n",
       "3  denileukin diftitox  L01XX29       NaN    NaN\n",
       "4           etanercept  L04AB01       NaN    NaN"
      ]
     },
     "execution_count": 396,
     "metadata": {},
     "output_type": "execute_result"
    }
   ],
   "source": [
    "drugbank = pd.read_csv(path+\"drugbank.csv\",low_memory=False)\n",
    "drugbank.dropna(subset=[\"atc\"], inplace=True)\n",
    "drugbank.head()"
   ]
  },
  {
   "cell_type": "code",
   "execution_count": 397,
   "metadata": {},
   "outputs": [
    {
     "name": "stdout",
     "output_type": "stream",
     "text": [
      "Total number of rows:  3145\n",
      "Unique number of perturbagen names:  3145\n"
     ]
    }
   ],
   "source": [
    "print(\"Total number of rows: \",len(list(drugbank.name)))\n",
    "print(\"Unique number of perturbagen names: \",len(list(np.unique(drugbank.name))))"
   ]
  },
  {
   "cell_type": "markdown",
   "metadata": {},
   "source": [
    "### Importing ATC"
   ]
  },
  {
   "cell_type": "code",
   "execution_count": 398,
   "metadata": {},
   "outputs": [
    {
     "data": {
      "text/html": [
       "<div>\n",
       "<style scoped>\n",
       "    .dataframe tbody tr th:only-of-type {\n",
       "        vertical-align: middle;\n",
       "    }\n",
       "\n",
       "    .dataframe tbody tr th {\n",
       "        vertical-align: top;\n",
       "    }\n",
       "\n",
       "    .dataframe thead th {\n",
       "        text-align: right;\n",
       "    }\n",
       "</style>\n",
       "<table border=\"1\" class=\"dataframe\">\n",
       "  <thead>\n",
       "    <tr style=\"text-align: right;\">\n",
       "      <th></th>\n",
       "      <th>name</th>\n",
       "      <th>atc</th>\n",
       "    </tr>\n",
       "  </thead>\n",
       "  <tbody>\n",
       "    <tr>\n",
       "      <th>0</th>\n",
       "      <td>silicones</td>\n",
       "      <td>A03AX13</td>\n",
       "    </tr>\n",
       "    <tr>\n",
       "      <th>1</th>\n",
       "      <td>cefatrizine</td>\n",
       "      <td>J01DB07</td>\n",
       "    </tr>\n",
       "    <tr>\n",
       "      <th>2</th>\n",
       "      <td>technetium 99m compounds, central nervous syst...</td>\n",
       "      <td>V09AA</td>\n",
       "    </tr>\n",
       "    <tr>\n",
       "      <th>3</th>\n",
       "      <td>urofollitropin</td>\n",
       "      <td>G03GA04</td>\n",
       "    </tr>\n",
       "    <tr>\n",
       "      <th>4</th>\n",
       "      <td>promethazine</td>\n",
       "      <td>D04AA10</td>\n",
       "    </tr>\n",
       "  </tbody>\n",
       "</table>\n",
       "</div>"
      ],
      "text/plain": [
       "                                                name      atc\n",
       "0                                          silicones  A03AX13\n",
       "1                                        cefatrizine  J01DB07\n",
       "2  technetium 99m compounds, central nervous syst...    V09AA\n",
       "3                                     urofollitropin  G03GA04\n",
       "4                                       promethazine  D04AA10"
      ]
     },
     "execution_count": 398,
     "metadata": {},
     "output_type": "execute_result"
    }
   ],
   "source": [
    "atc = pd.read_csv(path+\"atc.csv\",low_memory=False)\n",
    "atc.name = atc.name.str.lower()\n",
    "atc.head()"
   ]
  },
  {
   "cell_type": "code",
   "execution_count": 399,
   "metadata": {},
   "outputs": [
    {
     "name": "stdout",
     "output_type": "stream",
     "text": [
      "Total number of rows:  5088\n",
      "Unique number of perturbagen names:  5088\n"
     ]
    }
   ],
   "source": [
    "unique_names = [k for k, v in dict(Counter(atc.name)).items() if v==1]\n",
    "atc = atc[atc.name.isin(unique_names)]\n",
    "\n",
    "print(\"Total number of rows: \",len(list(atc.name)))\n",
    "print(\"Unique number of perturbagen names: \",len(list(np.unique(atc.name))))"
   ]
  },
  {
   "cell_type": "markdown",
   "metadata": {},
   "source": [
    "### Drugbank + Metadata"
   ]
  },
  {
   "cell_type": "code",
   "execution_count": 403,
   "metadata": {},
   "outputs": [],
   "source": [
    "# drug_meta = meta.set_index(\"name\").join(drugbank.set_index(\"name\"), lsuffix='_left', rsuffix='_right')\n",
    "# drug_meta.dropna(subset=[\"atc\"], inplace=True)\n",
    "# drug_meta = drug_meta[[\"id\", \"atc\"]]\n",
    "# drug_meta.head()"
   ]
  },
  {
   "cell_type": "code",
   "execution_count": 404,
   "metadata": {},
   "outputs": [],
   "source": [
    "perturbagen_drugbank_class = {}\n",
    "for ind in meta.index:\n",
    "    answer = drugbank[drugbank.name==meta.name[ind]]\n",
    "    if answer.empty==False:\n",
    "        perturbagen_drugbank_class[meta.id[ind]] = answer[\"atc\"]\n",
    "        continue\n",
    "    answer = drugbank[drugbank.inchi_key==meta.inchi_key[ind]]\n",
    "    if answer.empty==False:\n",
    "        perturbagen_drugbank_class[meta.id[ind]] = answer[\"atc\"]\n",
    "        continue\n",
    "    "
   ]
  },
  {
   "cell_type": "code",
   "execution_count": 405,
   "metadata": {},
   "outputs": [
    {
     "data": {
      "text/plain": [
       "924"
      ]
     },
     "execution_count": 405,
     "metadata": {},
     "output_type": "execute_result"
    }
   ],
   "source": [
    "len(perturbagen_drugbank_class.keys())"
   ]
  },
  {
   "cell_type": "markdown",
   "metadata": {},
   "source": [
    "### ATC + Metadata"
   ]
  },
  {
   "cell_type": "code",
   "execution_count": 409,
   "metadata": {},
   "outputs": [],
   "source": [
    "# atc_meta = meta.set_index(\"name\").join(atc.set_index(\"name\"), lsuffix='_left', rsuffix='_right')\n",
    "# atc_meta.dropna(subset=[\"atc\"], inplace=True)\n",
    "# atc_meta = atc_meta[[\"id\", \"atc\"]]\n",
    "# atc_meta.head()"
   ]
  },
  {
   "cell_type": "code",
   "execution_count": 410,
   "metadata": {},
   "outputs": [],
   "source": [
    "perturbagen_atc_class = {}\n",
    "for ind in meta.index:\n",
    "    answer = atc[atc.name==meta.name[ind]]\n",
    "    if answer.empty==False:\n",
    "        perturbagen_atc_class[meta.id[ind]] = answer[\"atc\"]"
   ]
  },
  {
   "cell_type": "code",
   "execution_count": 425,
   "metadata": {},
   "outputs": [
    {
     "data": {
      "text/plain": [
       "715"
      ]
     },
     "execution_count": 425,
     "metadata": {},
     "output_type": "execute_result"
    }
   ],
   "source": [
    "len(perturbagen_atc_class.keys())"
   ]
  },
  {
   "cell_type": "code",
   "execution_count": 411,
   "metadata": {},
   "outputs": [
    {
     "name": "stdout",
     "output_type": "stream",
     "text": [
      "928\n"
     ]
    }
   ],
   "source": [
    "perturbagen_class = {}\n",
    "\n",
    "for key, value in perturbagen_drugbank_class.items():\n",
    "    if key not in perturbagen_class.keys():\n",
    "        perturbagen_class[key] = list(value)[0]\n",
    "        \n",
    "for key, value in perturbagen_atc_class.items():\n",
    "    if key not in perturbagen_class.keys():\n",
    "        perturbagen_class[key] = list(value)[0]\n",
    "\n",
    "\n",
    "print(len(perturbagen_class.keys()))"
   ]
  },
  {
   "cell_type": "code",
   "execution_count": 412,
   "metadata": {},
   "outputs": [],
   "source": [
    "atc_level1 = [v[:1] for k, v in perturbagen_class.items()]"
   ]
  },
  {
   "cell_type": "code",
   "execution_count": 413,
   "metadata": {},
   "outputs": [
    {
     "data": {
      "text/plain": [
       "<BarContainer object of 14 artists>"
      ]
     },
     "execution_count": 413,
     "metadata": {},
     "output_type": "execute_result"
    },
    {
     "data": {
      "image/png": "[encoded data removed]",
      "text/plain": [
       "<Figure size 432x288 with 1 Axes>"
      ]
     },
     "metadata": {},
     "output_type": "display_data"
    }
   ],
   "source": [
    "atc_level_distribution = dict(Counter(atc_level1))\n",
    "plt.bar(atc_level_distribution.keys(), atc_level_distribution.values())"
   ]
  },
  {
   "cell_type": "code",
   "execution_count": 415,
   "metadata": {},
   "outputs": [],
   "source": [
    "with open(\"../data/perturbagen_class.pkl\", \"wb\") as file:\n",
    "    pickle.dump(perturbagen_class, file)"
   ]
  },
  {
   "cell_type": "code",
   "execution_count": 421,
   "metadata": {},
   "outputs": [
    {
     "data": {
      "text/html": [
       "<div>\n",
       "<style scoped>\n",
       "    .dataframe tbody tr th:only-of-type {\n",
       "        vertical-align: middle;\n",
       "    }\n",
       "\n",
       "    .dataframe tbody tr th {\n",
       "        vertical-align: top;\n",
       "    }\n",
       "\n",
       "    .dataframe thead th {\n",
       "        text-align: right;\n",
       "    }\n",
       "</style>\n",
       "<table border=\"1\" class=\"dataframe\">\n",
       "  <thead>\n",
       "    <tr style=\"text-align: right;\">\n",
       "      <th></th>\n",
       "      <th>smiles</th>\n",
       "      <th>name</th>\n",
       "      <th>id</th>\n",
       "      <th>inchi_key</th>\n",
       "    </tr>\n",
       "  </thead>\n",
       "  <tbody>\n",
       "    <tr>\n",
       "      <th>0</th>\n",
       "      <td>CCN(CC)CCCCN1C2CCCCC2OC2CCC(CL)CC12</td>\n",
       "      <td>10-DEBC</td>\n",
       "      <td>BRD-K70792160</td>\n",
       "      <td>GYBXAGDWMCJZJK-UHFFFAOYSA-N</td>\n",
       "    </tr>\n",
       "    <tr>\n",
       "      <th>1</th>\n",
       "      <td>CCCCCCCCCCCCCC(=O)O[C@@H]1[C@@H](C)[C@]2(O)[C@...</td>\n",
       "      <td>phorbol-myristate-acetate</td>\n",
       "      <td>BRD-K68552125</td>\n",
       "      <td>PHEDXBVPIONUQT-RGYGYFBISA-N</td>\n",
       "    </tr>\n",
       "    <tr>\n",
       "      <th>2</th>\n",
       "      <td>CCCCC(C)(C)[C@H](O)\\C=C\\[C@H]1[C@H](O)CC(=O)[C...</td>\n",
       "      <td>16,16-dimethylprostaglandin-e2</td>\n",
       "      <td>BRD-K92301463</td>\n",
       "      <td>QAOBBBBDJSWHMU-WMBBNPMCSA-N</td>\n",
       "    </tr>\n",
       "    <tr>\n",
       "      <th>3</th>\n",
       "      <td>CCCCCC(=O)O[C@@]1(CCC2C3CCC4=CC(=O)CC[C@]4(C)C...</td>\n",
       "      <td>17-hydroxyprogesterone-caproate</td>\n",
       "      <td>BRD-A29731977</td>\n",
       "      <td>DOMWKUIIPQCAJU-JKPPDDDBSA-N</td>\n",
       "    </tr>\n",
       "    <tr>\n",
       "      <th>4</th>\n",
       "      <td>OC(=O)CCCC[C@@H]1SC[C@@H]2NC(=N)N[C@H]12</td>\n",
       "      <td>2-iminobiotin</td>\n",
       "      <td>BRD-K07954936</td>\n",
       "      <td>WWVANQJRLPIHNS-ZKWXMUAHSA-N</td>\n",
       "    </tr>\n",
       "  </tbody>\n",
       "</table>\n",
       "</div>"
      ],
      "text/plain": [
       "                                              smiles  \\\n",
       "0                CCN(CC)CCCCN1C2CCCCC2OC2CCC(CL)CC12   \n",
       "1  CCCCCCCCCCCCCC(=O)O[C@@H]1[C@@H](C)[C@]2(O)[C@...   \n",
       "2  CCCCC(C)(C)[C@H](O)\\C=C\\[C@H]1[C@H](O)CC(=O)[C...   \n",
       "3  CCCCCC(=O)O[C@@]1(CCC2C3CCC4=CC(=O)CC[C@]4(C)C...   \n",
       "4           OC(=O)CCCC[C@@H]1SC[C@@H]2NC(=N)N[C@H]12   \n",
       "\n",
       "                              name             id                    inchi_key  \n",
       "0                          10-DEBC  BRD-K70792160  GYBXAGDWMCJZJK-UHFFFAOYSA-N  \n",
       "1        phorbol-myristate-acetate  BRD-K68552125  PHEDXBVPIONUQT-RGYGYFBISA-N  \n",
       "2   16,16-dimethylprostaglandin-e2  BRD-K92301463  QAOBBBBDJSWHMU-WMBBNPMCSA-N  \n",
       "3  17-hydroxyprogesterone-caproate  BRD-A29731977  DOMWKUIIPQCAJU-JKPPDDDBSA-N  \n",
       "4                    2-iminobiotin  BRD-K07954936  WWVANQJRLPIHNS-ZKWXMUAHSA-N  "
      ]
     },
     "execution_count": 421,
     "metadata": {},
     "output_type": "execute_result"
    }
   ],
   "source": [
    "meta2 = pd.read_csv(\"../data/drug_class_identification/phase2/meta.csv\")\n",
    "meta2.head()"
   ]
  },
  {
   "cell_type": "code",
   "execution_count": 424,
   "metadata": {},
   "outputs": [
    {
     "name": "stdout",
     "output_type": "stream",
     "text": [
      "Total number of rows:  1744\n",
      "Unique number of perturbagen names:  1744\n"
     ]
    }
   ],
   "source": [
    "unique_names = [k for k, v in dict(Counter(meta2.name)).items() if v==1]\n",
    "meta2 = meta2[meta2.name.isin(unique_names)]\n",
    "print(\"Total number of rows: \",len(list(meta2.name)))\n",
    "print(\"Unique number of perturbagen names: \",len(list(np.unique(meta2.name))))"
   ]
  },
  {
   "cell_type": "code",
   "execution_count": 427,
   "metadata": {},
   "outputs": [
    {
     "data": {
      "text/plain": [
       "830"
      ]
     },
     "execution_count": 427,
     "metadata": {},
     "output_type": "execute_result"
    }
   ],
   "source": [
    "perturbagen_drugbank_class2 = {}\n",
    "for ind in meta2.index:\n",
    "    answer = drugbank[drugbank.name==meta2.name[ind]]\n",
    "    if answer.empty==False:\n",
    "        perturbagen_drugbank_class2[meta2.id[ind]] = answer[\"atc\"]\n",
    "        continue\n",
    "    answer = drugbank[drugbank.inchi_key==meta2.inchi_key[ind]]\n",
    "    if answer.empty==False:\n",
    "        perturbagen_drugbank_class2[meta2.id[ind]] = answer[\"atc\"]\n",
    "        continue\n",
    "len(perturbagen_drugbank_class2.keys())"
   ]
  },
  {
   "cell_type": "code",
   "execution_count": 428,
   "metadata": {},
   "outputs": [
    {
     "data": {
      "text/plain": [
       "642"
      ]
     },
     "execution_count": 428,
     "metadata": {},
     "output_type": "execute_result"
    }
   ],
   "source": [
    "perturbagen_atc_class2 = {}\n",
    "for ind in meta2.index:\n",
    "    answer = atc[atc.name==meta2.name[ind]]\n",
    "    if answer.empty==False:\n",
    "        perturbagen_atc_class2[meta2.id[ind]] = answer[\"atc\"]\n",
    "        \n",
    "len(perturbagen_atc_class2.keys())"
   ]
  },
  {
   "cell_type": "code",
   "execution_count": 429,
   "metadata": {},
   "outputs": [
    {
     "name": "stdout",
     "output_type": "stream",
     "text": [
      "834\n"
     ]
    }
   ],
   "source": [
    "perturbagen_class2 = {}\n",
    "\n",
    "for key, value in perturbagen_drugbank_class2.items():\n",
    "    if key not in perturbagen_class2.keys():\n",
    "        perturbagen_class2[key] = list(value)[0]\n",
    "        \n",
    "for key, value in perturbagen_atc_class2.items():\n",
    "    if key not in perturbagen_class2.keys():\n",
    "        perturbagen_class2[key] = list(value)[0]\n",
    "\n",
    "\n",
    "print(len(perturbagen_class2.keys()))"
   ]
  },
  {
   "cell_type": "code",
   "execution_count": 438,
   "metadata": {},
   "outputs": [
    {
     "data": {
      "text/plain": [
       "424"
      ]
     },
     "execution_count": 438,
     "metadata": {},
     "output_type": "execute_result"
    }
   ],
   "source": [
    "len(set(perturbagen_class2.keys()).intersection(perturbagen_class.keys()))"
   ]
  },
  {
   "cell_type": "code",
   "execution_count": 436,
   "metadata": {},
   "outputs": [],
   "source": [
    "all_perturbagen_class = {}\n",
    "\n",
    "for key, value in perturbagen_class.items():\n",
    "    if key not in all_perturbagen_class.keys():\n",
    "        all_perturbagen_class[key] = value\n",
    "        \n",
    "for key, value in perturbagen_class2.items():\n",
    "    if key not in all_perturbagen_class.keys():\n",
    "        all_perturbagen_class[key] = value"
   ]
  },
  {
   "cell_type": "code",
   "execution_count": 437,
   "metadata": {},
   "outputs": [
    {
     "data": {
      "text/plain": [
       "1338"
      ]
     },
     "execution_count": 437,
     "metadata": {},
     "output_type": "execute_result"
    }
   ],
   "source": [
    "len(all_perturbagen_class.keys())"
   ]
  },
  {
   "cell_type": "code",
   "execution_count": 448,
   "metadata": {},
   "outputs": [
    {
     "data": {
      "text/plain": [
       "[]"
      ]
     },
     "execution_count": 448,
     "metadata": {},
     "output_type": "execute_result"
    },
    {
     "data": {
      "image/png": "[encoded data removed]",
      "text/plain": [
       "<Figure size 1440x432 with 1 Axes>"
      ]
     },
     "metadata": {},
     "output_type": "display_data"
    }
   ],
   "source": [
    "atc_level1 = [v[:1] for k,v in all_perturbagen_class.items()]\n",
    "atc_level1_distribution = dict(Counter(atc_level1))\n",
    "plt.figure(figsize=(20, 6))\n",
    "plt.bar(atc_level1_distribution.keys(), atc_level1_distribution.values())\n",
    "plt.plot()"
   ]
  },
  {
   "cell_type": "code",
   "execution_count": 450,
   "metadata": {},
   "outputs": [
    {
     "data": {
      "text/plain": [
       "[]"
      ]
     },
     "execution_count": 450,
     "metadata": {},
     "output_type": "execute_result"
    },
    {
     "data": {
      "image/png": "[encoded data removed]",
      "text/plain": [
       "<Figure size 1440x432 with 1 Axes>"
      ]
     },
     "metadata": {},
     "output_type": "display_data"
    }
   ],
   "source": [
    "atc_level2 = [v[:3] for k,v in all_perturbagen_class.items()]\n",
    "atc_level2_distribution = dict(Counter(atc_level2))\n",
    "plt.figure(figsize=(20, 6))\n",
    "plt.bar(atc_level2_distribution.keys(), atc_level2_distribution.values())\n",
    "plt.plot()"
   ]
  },
  {
   "cell_type": "code",
   "execution_count": 451,
   "metadata": {},
   "outputs": [
    {
     "data": {
      "text/plain": [
       "{'P01': 19,\n",
       " 'R03': 25,\n",
       " 'C07': 23,\n",
       " 'N01': 13,\n",
       " 'C04': 15,\n",
       " 'N02': 18,\n",
       " 'S01': 55,\n",
       " 'N07': 20,\n",
       " 'A03': 24,\n",
       " 'J05': 40,\n",
       " 'A08': 9,\n",
       " 'R06': 34,\n",
       " 'C01': 50,\n",
       " 'C08': 14,\n",
       " 'N03': 23,\n",
       " 'A07': 16,\n",
       " 'L01': 111,\n",
       " 'V08': 10,\n",
       " 'G04': 18,\n",
       " 'C09': 22,\n",
       " 'N05': 67,\n",
       " 'A10': 28,\n",
       " 'C02': 20,\n",
       " 'M03': 18,\n",
       " 'N06': 63,\n",
       " 'A02': 18,\n",
       " 'N04': 21,\n",
       " 'G01': 27,\n",
       " 'G02': 11,\n",
       " 'A04': 6,\n",
       " 'J01': 97,\n",
       " 'G03': 23,\n",
       " 'P02': 14,\n",
       " 'M01': 34,\n",
       " 'D10': 15,\n",
       " 'L02': 18,\n",
       " 'R05': 15,\n",
       " 'B03': 3,\n",
       " 'H01': 4,\n",
       " 'J02': 5,\n",
       " 'B05': 2,\n",
       " 'M04': 7,\n",
       " 'C03': 23,\n",
       " 'R07': 9,\n",
       " 'B01': 24,\n",
       " 'C10': 15,\n",
       " 'B02': 7,\n",
       " 'S02': 1,\n",
       " 'D01': 16,\n",
       " 'A05': 3,\n",
       " 'V03': 9,\n",
       " 'M09': 4,\n",
       " 'M02': 12,\n",
       " 'L04': 14,\n",
       " 'A11': 6,\n",
       " 'L03': 4,\n",
       " 'J04': 11,\n",
       " 'R01': 6,\n",
       " 'M05': 6,\n",
       " 'A06': 7,\n",
       " 'H05': 3,\n",
       " 'D11': 8,\n",
       " 'V04': 5,\n",
       " 'D06': 6,\n",
       " 'A01': 3,\n",
       " 'D04': 7,\n",
       " 'H03': 6,\n",
       " 'P03': 2,\n",
       " 'D07': 11,\n",
       " 'D05': 6,\n",
       " 'A14': 4,\n",
       " 'D08': 5,\n",
       " 'V09': 1,\n",
       " 'C05': 5,\n",
       " 'R02': 2,\n",
       " 'A16': 7,\n",
       " 'H02': 3,\n",
       " 'D03': 1,\n",
       " 'D02': 1}"
      ]
     },
     "execution_count": 451,
     "metadata": {},
     "output_type": "execute_result"
    }
   ],
   "source": [
    "atc_level2_distribution"
   ]
  },
  {
   "cell_type": "code",
   "execution_count": null,
   "metadata": {},
   "outputs": [],
   "source": []
  }
 ],
 "metadata": {
  "kernelspec": {
   "display_name": "Python 3",
   "language": "python",
   "name": "python3"
  },
  "language_info": {
   "codemirror_mode": {
    "name": "ipython",
    "version": 3
   },
   "file_extension": ".py",
   "mimetype": "text/x-python",
   "name": "python",
   "nbconvert_exporter": "python",
   "pygments_lexer": "ipython3",
   "version": "3.6.5"
  }
 },
 "nbformat": 4,
 "nbformat_minor": 2
}
