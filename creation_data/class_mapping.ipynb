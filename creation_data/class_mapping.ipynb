{
 "cells": [
  {
   "cell_type": "code",
   "execution_count": 8,
   "metadata": {},
   "outputs": [],
   "source": [
    "import pandas as pd\n",
    "import numpy as np\n",
    "import pickle\n",
    "from typing import Optional, Union, Tuple\n",
    "from cmapPy.pandasGEXpress.parse import parse\n",
    "import numpy as np\n",
    "import json\n",
    "from collections import Counter\n",
    "import sys\n",
    "from numpy.core.multiarray import ndarray\n",
    "import sys\n",
    "\n",
    "path = \"../data/drug_class_identification/phase1/\""
   ]
  },
  {
   "cell_type": "markdown",
   "metadata": {},
   "source": [
    "### Importing Metadata"
   ]
  },
  {
   "cell_type": "raw",
   "metadata": {},
   "source": [
    "# Converting .txt (as downloaded from geo accession viewer) to .csv file\n",
    "meta = pd.read_csv(path+\"GSE92742_Broad_LINCS_pert_info.txt\",delimiter=\"\\t\")\n",
    "\n",
    "# Standardizing names across files\n",
    "meta.canonical_smiles = p.canonical_smiles.str.upper()\n",
    "meta['smiles'] = meta.canonical_smiles\n",
    "meta['name'] = meta['pert_iname']\n",
    "meta['id']=meta['pert_id']\n",
    "meta = meta[['smiles','name','id',\"inchi_key\"]]\n",
    "\n",
    "meta.to_csv(path+\"metadata.csv\",index=False)"
   ]
  },
  {
   "cell_type": "code",
   "execution_count": 26,
   "metadata": {},
   "outputs": [
    {
     "data": {
      "text/html": [
       "<div>\n",
       "<style>\n",
       "    .dataframe thead tr:only-child th {\n",
       "        text-align: right;\n",
       "    }\n",
       "\n",
       "    .dataframe thead th {\n",
       "        text-align: left;\n",
       "    }\n",
       "\n",
       "    .dataframe tbody tr th {\n",
       "        vertical-align: top;\n",
       "    }\n",
       "</style>\n",
       "<table border=\"1\" class=\"dataframe\">\n",
       "  <thead>\n",
       "    <tr style=\"text-align: right;\">\n",
       "      <th></th>\n",
       "      <th>smiles</th>\n",
       "      <th>name</th>\n",
       "      <th>id</th>\n",
       "      <th>inchi_key</th>\n",
       "    </tr>\n",
       "  </thead>\n",
       "  <tbody>\n",
       "    <tr>\n",
       "      <th>0</th>\n",
       "      <td>-666</td>\n",
       "      <td>AKT2</td>\n",
       "      <td>56582</td>\n",
       "      <td>-666</td>\n",
       "    </tr>\n",
       "    <tr>\n",
       "      <th>1</th>\n",
       "      <td>-666</td>\n",
       "      <td>HSF1</td>\n",
       "      <td>5981</td>\n",
       "      <td>-666</td>\n",
       "    </tr>\n",
       "    <tr>\n",
       "      <th>2</th>\n",
       "      <td>-666</td>\n",
       "      <td>NFE2L2</td>\n",
       "      <td>7150</td>\n",
       "      <td>-666</td>\n",
       "    </tr>\n",
       "    <tr>\n",
       "      <th>3</th>\n",
       "      <td>-666</td>\n",
       "      <td>ABL1</td>\n",
       "      <td>ABL1_G2A</td>\n",
       "      <td>-666</td>\n",
       "    </tr>\n",
       "    <tr>\n",
       "      <th>4</th>\n",
       "      <td>-666</td>\n",
       "      <td>ABL1</td>\n",
       "      <td>ABL1_T315I</td>\n",
       "      <td>-666</td>\n",
       "    </tr>\n",
       "  </tbody>\n",
       "</table>\n",
       "</div>"
      ],
      "text/plain": [
       "  smiles    name          id inchi_key\n",
       "0   -666    AKT2       56582      -666\n",
       "1   -666    HSF1        5981      -666\n",
       "2   -666  NFE2L2        7150      -666\n",
       "3   -666    ABL1    ABL1_G2A      -666\n",
       "4   -666    ABL1  ABL1_T315I      -666"
      ]
     },
     "execution_count": 26,
     "metadata": {},
     "output_type": "execute_result"
    }
   ],
   "source": [
    "meta = pd.read_csv(path+\"metadata.csv\")\n",
    "meta.head()"
   ]
  },
  {
   "cell_type": "code",
   "execution_count": 66,
   "metadata": {},
   "outputs": [
    {
     "data": {
      "text/plain": [
       "(51383, 4)"
      ]
     },
     "execution_count": 66,
     "metadata": {},
     "output_type": "execute_result"
    }
   ],
   "source": [
    "Counter(meta['inchi_key'])\n",
    "meta.shape"
   ]
  },
  {
   "cell_type": "code",
   "execution_count": 30,
   "metadata": {},
   "outputs": [
    {
     "name": "stdout",
     "output_type": "stream",
     "text": [
      "Total number of rows:  51383\n",
      "Unique number of perturbagen name:  28957\n"
     ]
    }
   ],
   "source": [
    "print(\"Total number of rows: \",len(list(meta.name)))\n",
    "print(\"Unique number of perturbagen names: \",len(list(np.unique(meta.name))))"
   ]
  },
  {
   "cell_type": "markdown",
   "metadata": {},
   "source": [
    "### Importing Drugbank"
   ]
  },
  {
   "cell_type": "code",
   "execution_count": 19,
   "metadata": {
    "scrolled": true
   },
   "outputs": [
    {
     "data": {
      "text/html": [
       "<div>\n",
       "<style>\n",
       "    .dataframe thead tr:only-child th {\n",
       "        text-align: right;\n",
       "    }\n",
       "\n",
       "    .dataframe thead th {\n",
       "        text-align: left;\n",
       "    }\n",
       "\n",
       "    .dataframe tbody tr th {\n",
       "        vertical-align: top;\n",
       "    }\n",
       "</style>\n",
       "<table border=\"1\" class=\"dataframe\">\n",
       "  <thead>\n",
       "    <tr style=\"text-align: right;\">\n",
       "      <th></th>\n",
       "      <th>name</th>\n",
       "      <th>atc</th>\n",
       "      <th>inchi_key</th>\n",
       "      <th>smiles</th>\n",
       "    </tr>\n",
       "  </thead>\n",
       "  <tbody>\n",
       "    <tr>\n",
       "      <th>0</th>\n",
       "      <td>lepirudin</td>\n",
       "      <td>B01AE02</td>\n",
       "      <td>NaN</td>\n",
       "      <td>NaN</td>\n",
       "    </tr>\n",
       "    <tr>\n",
       "      <th>1</th>\n",
       "      <td>cetuximab</td>\n",
       "      <td>L01XC06</td>\n",
       "      <td>NaN</td>\n",
       "      <td>NaN</td>\n",
       "    </tr>\n",
       "    <tr>\n",
       "      <th>2</th>\n",
       "      <td>dornase alfa</td>\n",
       "      <td>R05CB13</td>\n",
       "      <td>NaN</td>\n",
       "      <td>NaN</td>\n",
       "    </tr>\n",
       "    <tr>\n",
       "      <th>3</th>\n",
       "      <td>denileukin diftitox</td>\n",
       "      <td>L01XX29</td>\n",
       "      <td>NaN</td>\n",
       "      <td>NaN</td>\n",
       "    </tr>\n",
       "    <tr>\n",
       "      <th>4</th>\n",
       "      <td>etanercept</td>\n",
       "      <td>L04AB01</td>\n",
       "      <td>NaN</td>\n",
       "      <td>NaN</td>\n",
       "    </tr>\n",
       "  </tbody>\n",
       "</table>\n",
       "</div>"
      ],
      "text/plain": [
       "                  name      atc inchi_key smiles\n",
       "0            lepirudin  B01AE02       NaN    NaN\n",
       "1            cetuximab  L01XC06       NaN    NaN\n",
       "2         dornase alfa  R05CB13       NaN    NaN\n",
       "3  denileukin diftitox  L01XX29       NaN    NaN\n",
       "4           etanercept  L04AB01       NaN    NaN"
      ]
     },
     "execution_count": 19,
     "metadata": {},
     "output_type": "execute_result"
    }
   ],
   "source": [
    "drugbank = pd.read_csv(path+\"drugbank.csv\",low_memory=False)\n",
    "drugbank.head()"
   ]
  },
  {
   "cell_type": "code",
   "execution_count": 31,
   "metadata": {},
   "outputs": [
    {
     "name": "stdout",
     "output_type": "stream",
     "text": [
      "Total number of rows:  13339\n",
      "Unique number of perturbagen name:  13339\n"
     ]
    }
   ],
   "source": [
    "print(\"Total number of rows: \",len(list(drugbank.name)))\n",
    "print(\"Unique number of perturbagen names: \",len(list(np.unique(drugbank.name))))"
   ]
  },
  {
   "cell_type": "markdown",
   "metadata": {},
   "source": [
    "### Importing ATC"
   ]
  },
  {
   "cell_type": "code",
   "execution_count": 20,
   "metadata": {},
   "outputs": [
    {
     "data": {
      "text/html": [
       "<div>\n",
       "<style>\n",
       "    .dataframe thead tr:only-child th {\n",
       "        text-align: right;\n",
       "    }\n",
       "\n",
       "    .dataframe thead th {\n",
       "        text-align: left;\n",
       "    }\n",
       "\n",
       "    .dataframe tbody tr th {\n",
       "        vertical-align: top;\n",
       "    }\n",
       "</style>\n",
       "<table border=\"1\" class=\"dataframe\">\n",
       "  <thead>\n",
       "    <tr style=\"text-align: right;\">\n",
       "      <th></th>\n",
       "      <th>name</th>\n",
       "      <th>atc</th>\n",
       "    </tr>\n",
       "  </thead>\n",
       "  <tbody>\n",
       "    <tr>\n",
       "      <th>0</th>\n",
       "      <td>silicones</td>\n",
       "      <td>A03AX13</td>\n",
       "    </tr>\n",
       "    <tr>\n",
       "      <th>1</th>\n",
       "      <td>cefatrizine</td>\n",
       "      <td>J01DB07</td>\n",
       "    </tr>\n",
       "    <tr>\n",
       "      <th>2</th>\n",
       "      <td>Technetium 99m compounds, central nervous syst...</td>\n",
       "      <td>V09AA</td>\n",
       "    </tr>\n",
       "    <tr>\n",
       "      <th>3</th>\n",
       "      <td>urofollitropin</td>\n",
       "      <td>G03GA04</td>\n",
       "    </tr>\n",
       "    <tr>\n",
       "      <th>4</th>\n",
       "      <td>promethazine</td>\n",
       "      <td>D04AA10</td>\n",
       "    </tr>\n",
       "  </tbody>\n",
       "</table>\n",
       "</div>"
      ],
      "text/plain": [
       "                                                name      atc\n",
       "0                                          silicones  A03AX13\n",
       "1                                        cefatrizine  J01DB07\n",
       "2  Technetium 99m compounds, central nervous syst...    V09AA\n",
       "3                                     urofollitropin  G03GA04\n",
       "4                                       promethazine  D04AA10"
      ]
     },
     "execution_count": 20,
     "metadata": {},
     "output_type": "execute_result"
    }
   ],
   "source": [
    "atc = pd.read_csv(path+\"atc.csv\",low_memory=False)\n",
    "atc.head()"
   ]
  },
  {
   "cell_type": "code",
   "execution_count": 32,
   "metadata": {},
   "outputs": [
    {
     "name": "stdout",
     "output_type": "stream",
     "text": [
      "Total number of rows:  6277\n",
      "Unique number of perturbagen name:  5592\n"
     ]
    }
   ],
   "source": [
    "print(\"Total number of rows: \",len(list(atc.name)))\n",
    "print(\"Unique number of perturbagen names: \",len(list(np.unique(atc.name))))"
   ]
  },
  {
   "cell_type": "markdown",
   "metadata": {},
   "source": [
    "### Drugbank + Metadata"
   ]
  },
  {
   "cell_type": "raw",
   "metadata": {},
   "source": [
    "# Merging and writing to .csv\n",
    "\n",
    "drug_meta = pd.merge(meta,drugbank,how=\"left\")\n",
    "drug_meta.to_csv(path+\"drug_meta.csv\",index=False)"
   ]
  },
  {
   "cell_type": "code",
   "execution_count": 38,
   "metadata": {},
   "outputs": [
    {
     "data": {
      "text/html": [
       "<div>\n",
       "<style>\n",
       "    .dataframe thead tr:only-child th {\n",
       "        text-align: right;\n",
       "    }\n",
       "\n",
       "    .dataframe thead th {\n",
       "        text-align: left;\n",
       "    }\n",
       "\n",
       "    .dataframe tbody tr th {\n",
       "        vertical-align: top;\n",
       "    }\n",
       "</style>\n",
       "<table border=\"1\" class=\"dataframe\">\n",
       "  <thead>\n",
       "    <tr style=\"text-align: right;\">\n",
       "      <th></th>\n",
       "      <th>smiles</th>\n",
       "      <th>name</th>\n",
       "      <th>id</th>\n",
       "      <th>inchi_key</th>\n",
       "      <th>atc</th>\n",
       "    </tr>\n",
       "  </thead>\n",
       "  <tbody>\n",
       "    <tr>\n",
       "      <th>0</th>\n",
       "      <td>-666</td>\n",
       "      <td>AKT2</td>\n",
       "      <td>56582</td>\n",
       "      <td>-666</td>\n",
       "      <td>NaN</td>\n",
       "    </tr>\n",
       "    <tr>\n",
       "      <th>1</th>\n",
       "      <td>-666</td>\n",
       "      <td>HSF1</td>\n",
       "      <td>5981</td>\n",
       "      <td>-666</td>\n",
       "      <td>NaN</td>\n",
       "    </tr>\n",
       "    <tr>\n",
       "      <th>2</th>\n",
       "      <td>-666</td>\n",
       "      <td>NFE2L2</td>\n",
       "      <td>7150</td>\n",
       "      <td>-666</td>\n",
       "      <td>NaN</td>\n",
       "    </tr>\n",
       "    <tr>\n",
       "      <th>3</th>\n",
       "      <td>-666</td>\n",
       "      <td>ABL1</td>\n",
       "      <td>ABL1_G2A</td>\n",
       "      <td>-666</td>\n",
       "      <td>NaN</td>\n",
       "    </tr>\n",
       "    <tr>\n",
       "      <th>4</th>\n",
       "      <td>-666</td>\n",
       "      <td>ABL1</td>\n",
       "      <td>ABL1_T315I</td>\n",
       "      <td>-666</td>\n",
       "      <td>NaN</td>\n",
       "    </tr>\n",
       "  </tbody>\n",
       "</table>\n",
       "</div>"
      ],
      "text/plain": [
       "  smiles    name          id inchi_key  atc\n",
       "0   -666    AKT2       56582      -666  NaN\n",
       "1   -666    HSF1        5981      -666  NaN\n",
       "2   -666  NFE2L2        7150      -666  NaN\n",
       "3   -666    ABL1    ABL1_G2A      -666  NaN\n",
       "4   -666    ABL1  ABL1_T315I      -666  NaN"
      ]
     },
     "execution_count": 38,
     "metadata": {},
     "output_type": "execute_result"
    }
   ],
   "source": [
    "drug_meta = pd.read_csv(path+\"drug_meta.csv\")\n",
    "drug_meta.head()"
   ]
  },
  {
   "cell_type": "code",
   "execution_count": 37,
   "metadata": {},
   "outputs": [
    {
     "name": "stdout",
     "output_type": "stream",
     "text": [
      "Total number of rows:  51383\n",
      "Unique number of perturbagen name:  28957\n"
     ]
    }
   ],
   "source": [
    "print(\"Total number of rows: \",len(list(drug_meta.name)))\n",
    "print(\"Unique number of perturbagen names: \",len(list(np.unique(drug_meta.name))))"
   ]
  },
  {
   "cell_type": "markdown",
   "metadata": {},
   "source": [
    "### ATC + Metadata"
   ]
  },
  {
   "cell_type": "raw",
   "metadata": {},
   "source": [
    "# Merging and writing to .csv\n",
    "\n",
    "atc_meta = pd.merge(meta,atc,how=\"left\")\n",
    "atc_meta.to_csv(path+\"atc_meta.csv\",index=False)"
   ]
  },
  {
   "cell_type": "code",
   "execution_count": 54,
   "metadata": {},
   "outputs": [
    {
     "data": {
      "text/html": [
       "<div>\n",
       "<style>\n",
       "    .dataframe thead tr:only-child th {\n",
       "        text-align: right;\n",
       "    }\n",
       "\n",
       "    .dataframe thead th {\n",
       "        text-align: left;\n",
       "    }\n",
       "\n",
       "    .dataframe tbody tr th {\n",
       "        vertical-align: top;\n",
       "    }\n",
       "</style>\n",
       "<table border=\"1\" class=\"dataframe\">\n",
       "  <thead>\n",
       "    <tr style=\"text-align: right;\">\n",
       "      <th></th>\n",
       "      <th>smiles</th>\n",
       "      <th>name</th>\n",
       "      <th>id</th>\n",
       "      <th>inchi_key</th>\n",
       "      <th>atc</th>\n",
       "    </tr>\n",
       "  </thead>\n",
       "  <tbody>\n",
       "    <tr>\n",
       "      <th>0</th>\n",
       "      <td>-666</td>\n",
       "      <td>AKT2</td>\n",
       "      <td>56582</td>\n",
       "      <td>-666</td>\n",
       "      <td>NaN</td>\n",
       "    </tr>\n",
       "    <tr>\n",
       "      <th>1</th>\n",
       "      <td>-666</td>\n",
       "      <td>HSF1</td>\n",
       "      <td>5981</td>\n",
       "      <td>-666</td>\n",
       "      <td>NaN</td>\n",
       "    </tr>\n",
       "  </tbody>\n",
       "</table>\n",
       "</div>"
      ],
      "text/plain": [
       "  smiles  name     id inchi_key  atc\n",
       "0   -666  AKT2  56582      -666  NaN\n",
       "1   -666  HSF1   5981      -666  NaN"
      ]
     },
     "execution_count": 54,
     "metadata": {},
     "output_type": "execute_result"
    }
   ],
   "source": [
    "atc_meta = pd.read_csv(path+\"atc_meta.csv\")\n",
    "atc_meta.head(2)"
   ]
  },
  {
   "cell_type": "code",
   "execution_count": 55,
   "metadata": {},
   "outputs": [
    {
     "name": "stdout",
     "output_type": "stream",
     "text": [
      "Total number of rows:  52012\n",
      "Unique number of perturbagen names:  28957\n"
     ]
    }
   ],
   "source": [
    "print(\"Total number of rows: \",len(list(atc_meta.name)))\n",
    "print(\"Unique number of perturbagen names: \",len(np.unique(list(atc_meta.name))))"
   ]
  },
  {
   "cell_type": "markdown",
   "metadata": {},
   "source": [
    "### atc_meta + drug_meta"
   ]
  },
  {
   "cell_type": "code",
   "execution_count": 58,
   "metadata": {
    "collapsed": true
   },
   "outputs": [],
   "source": [
    "# Merging all the three datasets and writing to csv\n",
    "\n",
    "all3 = pd.merge(drug_meta, atc_meta,  how=\"outer\")\n",
    "all3.to_csv(path+\"all3.csv\",index=False)"
   ]
  },
  {
   "cell_type": "code",
   "execution_count": 59,
   "metadata": {},
   "outputs": [
    {
     "name": "stdout",
     "output_type": "stream",
     "text": [
      "Total:  53456\n",
      "Unique:  28957\n"
     ]
    },
    {
     "data": {
      "text/html": [
       "<div>\n",
       "<style>\n",
       "    .dataframe thead tr:only-child th {\n",
       "        text-align: right;\n",
       "    }\n",
       "\n",
       "    .dataframe thead th {\n",
       "        text-align: left;\n",
       "    }\n",
       "\n",
       "    .dataframe tbody tr th {\n",
       "        vertical-align: top;\n",
       "    }\n",
       "</style>\n",
       "<table border=\"1\" class=\"dataframe\">\n",
       "  <thead>\n",
       "    <tr style=\"text-align: right;\">\n",
       "      <th></th>\n",
       "      <th>smiles</th>\n",
       "      <th>name</th>\n",
       "      <th>id</th>\n",
       "      <th>inchi_key</th>\n",
       "      <th>atc</th>\n",
       "    </tr>\n",
       "  </thead>\n",
       "  <tbody>\n",
       "    <tr>\n",
       "      <th>0</th>\n",
       "      <td>-666</td>\n",
       "      <td>AKT2</td>\n",
       "      <td>56582</td>\n",
       "      <td>-666</td>\n",
       "      <td>NaN</td>\n",
       "    </tr>\n",
       "    <tr>\n",
       "      <th>1</th>\n",
       "      <td>-666</td>\n",
       "      <td>HSF1</td>\n",
       "      <td>5981</td>\n",
       "      <td>-666</td>\n",
       "      <td>NaN</td>\n",
       "    </tr>\n",
       "  </tbody>\n",
       "</table>\n",
       "</div>"
      ],
      "text/plain": [
       "  smiles  name     id inchi_key  atc\n",
       "0   -666  AKT2  56582      -666  NaN\n",
       "1   -666  HSF1   5981      -666  NaN"
      ]
     },
     "execution_count": 59,
     "metadata": {},
     "output_type": "execute_result"
    }
   ],
   "source": [
    "print(\"Total: \",len(list(all3.name)))\n",
    "print(\"Unique: \",len(np.unique(list(all3.name))))\n",
    "all3.head(2)"
   ]
  },
  {
   "cell_type": "markdown",
   "metadata": {},
   "source": [
    "### Removing rows with invalid ATC codes"
   ]
  },
  {
   "cell_type": "code",
   "execution_count": 60,
   "metadata": {},
   "outputs": [
    {
     "name": "stdout",
     "output_type": "stream",
     "text": [
      "Total number of rows (includes duplicate perts):  53456\n",
      "smiles           0\n",
      "name             0\n",
      "id               0\n",
      "inchi_key        0\n",
      "atc          51342\n",
      "dtype: int64\n"
     ]
    }
   ],
   "source": [
    "print(\"Total number of rows (includes duplicate perts): \",len(all3))\n",
    "print(all3.isnull().sum())"
   ]
  },
  {
   "cell_type": "code",
   "execution_count": 61,
   "metadata": {},
   "outputs": [
    {
     "name": "stdout",
     "output_type": "stream",
     "text": [
      "Total:  2114\n",
      "Unique:  1105\n"
     ]
    }
   ],
   "source": [
    "newall = all3.dropna(subset=['atc'])\n",
    "print(\"Total: \", len(newall))\n",
    "print(\"Unique: \",len(np.unique(list(newall.name))))"
   ]
  },
  {
   "cell_type": "code",
   "execution_count": 62,
   "metadata": {
    "collapsed": true
   },
   "outputs": [],
   "source": [
    "newall.to_csv(path+\"all3_without_nan.csv\")"
   ]
  },
  {
   "cell_type": "code",
   "execution_count": 63,
   "metadata": {},
   "outputs": [
    {
     "name": "stdout",
     "output_type": "stream",
     "text": [
      "Number of entries:  77\n"
     ]
    },
    {
     "data": {
      "text/html": [
       "<div>\n",
       "<style>\n",
       "    .dataframe thead tr:only-child th {\n",
       "        text-align: right;\n",
       "    }\n",
       "\n",
       "    .dataframe thead th {\n",
       "        text-align: left;\n",
       "    }\n",
       "\n",
       "    .dataframe tbody tr th {\n",
       "        vertical-align: top;\n",
       "    }\n",
       "</style>\n",
       "<table border=\"1\" class=\"dataframe\">\n",
       "  <thead>\n",
       "    <tr style=\"text-align: right;\">\n",
       "      <th></th>\n",
       "      <th>smiles</th>\n",
       "      <th>name</th>\n",
       "      <th>id</th>\n",
       "      <th>inchi_key</th>\n",
       "      <th>atc</th>\n",
       "    </tr>\n",
       "  </thead>\n",
       "  <tbody>\n",
       "    <tr>\n",
       "      <th>51436</th>\n",
       "      <td>C[C@@H]1CC2C3CCC4=CC(=O)C=C[C@]4(C)[C@@]3(F)[C...</td>\n",
       "      <td>dexamethasone</td>\n",
       "      <td>BRD-A10188456</td>\n",
       "      <td>UREBDLICKHMUKA-QCYOSJOCSA-N</td>\n",
       "      <td>D07AB19</td>\n",
       "    </tr>\n",
       "    <tr>\n",
       "      <th>51437</th>\n",
       "      <td>C[C@@H]1CC2C3CCC4=CC(=O)C=C[C@]4(C)[C@@]3(F)[C...</td>\n",
       "      <td>dexamethasone</td>\n",
       "      <td>BRD-A10188456</td>\n",
       "      <td>UREBDLICKHMUKA-QCYOSJOCSA-N</td>\n",
       "      <td>C05AA09</td>\n",
       "    </tr>\n",
       "    <tr>\n",
       "      <th>51438</th>\n",
       "      <td>C[C@@H]1CC2C3CCC4=CC(=O)C=C[C@]4(C)[C@@]3(F)[C...</td>\n",
       "      <td>dexamethasone</td>\n",
       "      <td>BRD-A10188456</td>\n",
       "      <td>UREBDLICKHMUKA-QCYOSJOCSA-N</td>\n",
       "      <td>H02AB02</td>\n",
       "    </tr>\n",
       "    <tr>\n",
       "      <th>51439</th>\n",
       "      <td>C[C@@H]1CC2C3CCC4=CC(=O)C=C[C@]4(C)[C@@]3(F)[C...</td>\n",
       "      <td>dexamethasone</td>\n",
       "      <td>BRD-A10188456</td>\n",
       "      <td>UREBDLICKHMUKA-QCYOSJOCSA-N</td>\n",
       "      <td>S01BA01</td>\n",
       "    </tr>\n",
       "    <tr>\n",
       "      <th>51440</th>\n",
       "      <td>C[C@@H]1CC2C3CCC4=CC(=O)C=C[C@]4(C)[C@@]3(F)[C...</td>\n",
       "      <td>dexamethasone</td>\n",
       "      <td>BRD-A10188456</td>\n",
       "      <td>UREBDLICKHMUKA-QCYOSJOCSA-N</td>\n",
       "      <td>D10AA03</td>\n",
       "    </tr>\n",
       "  </tbody>\n",
       "</table>\n",
       "</div>"
      ],
      "text/plain": [
       "                                                  smiles           name  \\\n",
       "51436  C[C@@H]1CC2C3CCC4=CC(=O)C=C[C@]4(C)[C@@]3(F)[C...  dexamethasone   \n",
       "51437  C[C@@H]1CC2C3CCC4=CC(=O)C=C[C@]4(C)[C@@]3(F)[C...  dexamethasone   \n",
       "51438  C[C@@H]1CC2C3CCC4=CC(=O)C=C[C@]4(C)[C@@]3(F)[C...  dexamethasone   \n",
       "51439  C[C@@H]1CC2C3CCC4=CC(=O)C=C[C@]4(C)[C@@]3(F)[C...  dexamethasone   \n",
       "51440  C[C@@H]1CC2C3CCC4=CC(=O)C=C[C@]4(C)[C@@]3(F)[C...  dexamethasone   \n",
       "\n",
       "                  id                    inchi_key      atc  \n",
       "51436  BRD-A10188456  UREBDLICKHMUKA-QCYOSJOCSA-N  D07AB19  \n",
       "51437  BRD-A10188456  UREBDLICKHMUKA-QCYOSJOCSA-N  C05AA09  \n",
       "51438  BRD-A10188456  UREBDLICKHMUKA-QCYOSJOCSA-N  H02AB02  \n",
       "51439  BRD-A10188456  UREBDLICKHMUKA-QCYOSJOCSA-N  S01BA01  \n",
       "51440  BRD-A10188456  UREBDLICKHMUKA-QCYOSJOCSA-N  D10AA03  "
      ]
     },
     "execution_count": 63,
     "metadata": {},
     "output_type": "execute_result"
    }
   ],
   "source": [
    "print(\"Number of entries: \",len(newall[newall.name==\"dexamethasone\"].drop_duplicates()))\n",
    "newall[newall.name==\"dexamethasone\"].head()"
   ]
  },
  {
   "cell_type": "code",
   "execution_count": 64,
   "metadata": {},
   "outputs": [
    {
     "data": {
      "text/plain": [
       "(1481,)"
      ]
     },
     "execution_count": 64,
     "metadata": {},
     "output_type": "execute_result"
    }
   ],
   "source": [
    "np.unique(list(newall.id)).shape"
   ]
  },
  {
   "cell_type": "code",
   "execution_count": 68,
   "metadata": {},
   "outputs": [
    {
     "data": {
      "text/plain": [
       "(2114, 5)"
      ]
     },
     "execution_count": 68,
     "metadata": {},
     "output_type": "execute_result"
    }
   ],
   "source": [
    "newall.shape"
   ]
  },
  {
   "cell_type": "code",
   "execution_count": 70,
   "metadata": {},
   "outputs": [
    {
     "data": {
      "text/plain": [
       "(53456, 5)"
      ]
     },
     "execution_count": 70,
     "metadata": {},
     "output_type": "execute_result"
    }
   ],
   "source": [
    "all3.shape"
   ]
  },
  {
   "cell_type": "code",
   "execution_count": 71,
   "metadata": {},
   "outputs": [
    {
     "data": {
      "text/plain": [
       "51342"
      ]
     },
     "execution_count": 71,
     "metadata": {},
     "output_type": "execute_result"
    }
   ],
   "source": [
    "53456-2114"
   ]
  },
  {
   "cell_type": "code",
   "execution_count": 72,
   "metadata": {},
   "outputs": [
    {
     "data": {
      "text/plain": [
       "smiles           0\n",
       "name             0\n",
       "id               0\n",
       "inchi_key        0\n",
       "atc          51342\n",
       "dtype: int64"
      ]
     },
     "execution_count": 72,
     "metadata": {},
     "output_type": "execute_result"
    }
   ],
   "source": [
    "all3.isnull().sum()"
   ]
  },
  {
   "cell_type": "code",
   "execution_count": null,
   "metadata": {
    "collapsed": true
   },
   "outputs": [],
   "source": []
  }
 ],
 "metadata": {
  "kernelspec": {
   "display_name": "Python 3",
   "language": "python",
   "name": "python3"
  },
  "language_info": {
   "codemirror_mode": {
    "name": "ipython",
    "version": 3
   },
   "file_extension": ".py",
   "mimetype": "text/x-python",
   "name": "python",
   "nbconvert_exporter": "python",
   "pygments_lexer": "ipython3",
   "version": "3.6.8"
  }
 },
 "nbformat": 4,
 "nbformat_minor": 2
}
