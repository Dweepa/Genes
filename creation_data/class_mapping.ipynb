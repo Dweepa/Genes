{
 "cells": [
  {
   "cell_type": "code",
   "execution_count": 187,
   "metadata": {},
   "outputs": [],
   "source": [
    "import pandas as pd\n",
    "import numpy as np\n",
    "import pickle\n",
    "from typing import Optional, Union, Tuple\n",
    "from cmapPy.pandasGEXpress.parse import parse\n",
    "import numpy as np\n",
    "import json\n",
    "from collections import Counter\n",
    "import sys\n",
    "from numpy.core.multiarray import ndarray\n",
    "import sys\n",
    "import matplotlib.pyplot as plt\n",
    "\n",
    "path = \"../data/drug_class_identification/phase1/\""
   ]
  },
  {
   "cell_type": "markdown",
   "metadata": {},
   "source": [
    "### Importing Metadata"
   ]
  },
  {
   "cell_type": "raw",
   "metadata": {},
   "source": [
    "# Converting .txt (as downloaded from geo accession viewer) to .csv file\n",
    "meta = pd.read_csv(path+\"GSE92742_Broad_LINCS_pert_info.txt\",delimiter=\"\\t\")\n",
    "\n",
    "# Standardizing names across files\n",
    "meta.canonical_smiles = meta.canonical_smiles.str.upper()\n",
    "meta['smiles'] = meta.canonical_smiles\n",
    "meta['name'] = meta['pert_iname'].str.lower()\n",
    "meta['id']=meta['pert_id']\n",
    "meta = meta[['smiles','name','id',\"inchi_key\"]]\n",
    "\n",
    "meta.to_csv(path+\"metadata.csv\",index=False)"
   ]
  },
  {
   "cell_type": "code",
   "execution_count": 79,
   "metadata": {},
   "outputs": [
    {
     "data": {
      "text/html": [
       "<div>\n",
       "<style scoped>\n",
       "    .dataframe tbody tr th:only-of-type {\n",
       "        vertical-align: middle;\n",
       "    }\n",
       "\n",
       "    .dataframe tbody tr th {\n",
       "        vertical-align: top;\n",
       "    }\n",
       "\n",
       "    .dataframe thead th {\n",
       "        text-align: right;\n",
       "    }\n",
       "</style>\n",
       "<table border=\"1\" class=\"dataframe\">\n",
       "  <thead>\n",
       "    <tr style=\"text-align: right;\">\n",
       "      <th></th>\n",
       "      <th>smiles</th>\n",
       "      <th>name</th>\n",
       "      <th>id</th>\n",
       "      <th>inchi_key</th>\n",
       "    </tr>\n",
       "  </thead>\n",
       "  <tbody>\n",
       "    <tr>\n",
       "      <th>0</th>\n",
       "      <td>-666</td>\n",
       "      <td>akt2</td>\n",
       "      <td>56582</td>\n",
       "      <td>-666</td>\n",
       "    </tr>\n",
       "    <tr>\n",
       "      <th>1</th>\n",
       "      <td>-666</td>\n",
       "      <td>hsf1</td>\n",
       "      <td>5981</td>\n",
       "      <td>-666</td>\n",
       "    </tr>\n",
       "    <tr>\n",
       "      <th>2</th>\n",
       "      <td>-666</td>\n",
       "      <td>nfe2l2</td>\n",
       "      <td>7150</td>\n",
       "      <td>-666</td>\n",
       "    </tr>\n",
       "    <tr>\n",
       "      <th>3</th>\n",
       "      <td>-666</td>\n",
       "      <td>abl1</td>\n",
       "      <td>ABL1_G2A</td>\n",
       "      <td>-666</td>\n",
       "    </tr>\n",
       "    <tr>\n",
       "      <th>4</th>\n",
       "      <td>-666</td>\n",
       "      <td>abl1</td>\n",
       "      <td>ABL1_T315I</td>\n",
       "      <td>-666</td>\n",
       "    </tr>\n",
       "  </tbody>\n",
       "</table>\n",
       "</div>"
      ],
      "text/plain": [
       "  smiles    name          id inchi_key\n",
       "0   -666    akt2       56582      -666\n",
       "1   -666    hsf1        5981      -666\n",
       "2   -666  nfe2l2        7150      -666\n",
       "3   -666    abl1    ABL1_G2A      -666\n",
       "4   -666    abl1  ABL1_T315I      -666"
      ]
     },
     "execution_count": 79,
     "metadata": {},
     "output_type": "execute_result"
    }
   ],
   "source": [
    "meta = pd.read_csv(path+\"metadata.csv\")\n",
    "meta.head()"
   ]
  },
  {
   "cell_type": "code",
   "execution_count": 86,
   "metadata": {},
   "outputs": [],
   "source": [
    "unique_names = [k for k, v in dict(Counter(meta.name)).items() if v==1]\n",
    "meta = meta[meta.name.isin(unique_names)]"
   ]
  },
  {
   "cell_type": "code",
   "execution_count": 87,
   "metadata": {},
   "outputs": [
    {
     "name": "stdout",
     "output_type": "stream",
     "text": [
      "Total number of rows:  23897\n",
      "Unique number of perturbagen names:  23897\n"
     ]
    }
   ],
   "source": [
    "print(\"Total number of rows: \",len(list(meta.name)))\n",
    "print(\"Unique number of perturbagen names: \",len(list(np.unique(meta.name))))"
   ]
  },
  {
   "cell_type": "markdown",
   "metadata": {},
   "source": [
    "### Importing Drugbank"
   ]
  },
  {
   "cell_type": "code",
   "execution_count": 156,
   "metadata": {
    "scrolled": true
   },
   "outputs": [
    {
     "data": {
      "text/html": [
       "<div>\n",
       "<style scoped>\n",
       "    .dataframe tbody tr th:only-of-type {\n",
       "        vertical-align: middle;\n",
       "    }\n",
       "\n",
       "    .dataframe tbody tr th {\n",
       "        vertical-align: top;\n",
       "    }\n",
       "\n",
       "    .dataframe thead th {\n",
       "        text-align: right;\n",
       "    }\n",
       "</style>\n",
       "<table border=\"1\" class=\"dataframe\">\n",
       "  <thead>\n",
       "    <tr style=\"text-align: right;\">\n",
       "      <th></th>\n",
       "      <th>name</th>\n",
       "      <th>atc</th>\n",
       "      <th>inchi_key</th>\n",
       "      <th>smiles</th>\n",
       "    </tr>\n",
       "  </thead>\n",
       "  <tbody>\n",
       "    <tr>\n",
       "      <th>0</th>\n",
       "      <td>lepirudin</td>\n",
       "      <td>B01AE02</td>\n",
       "      <td>NaN</td>\n",
       "      <td>NaN</td>\n",
       "    </tr>\n",
       "    <tr>\n",
       "      <th>1</th>\n",
       "      <td>cetuximab</td>\n",
       "      <td>L01XC06</td>\n",
       "      <td>NaN</td>\n",
       "      <td>NaN</td>\n",
       "    </tr>\n",
       "    <tr>\n",
       "      <th>2</th>\n",
       "      <td>dornase alfa</td>\n",
       "      <td>R05CB13</td>\n",
       "      <td>NaN</td>\n",
       "      <td>NaN</td>\n",
       "    </tr>\n",
       "    <tr>\n",
       "      <th>3</th>\n",
       "      <td>denileukin diftitox</td>\n",
       "      <td>L01XX29</td>\n",
       "      <td>NaN</td>\n",
       "      <td>NaN</td>\n",
       "    </tr>\n",
       "    <tr>\n",
       "      <th>4</th>\n",
       "      <td>etanercept</td>\n",
       "      <td>L04AB01</td>\n",
       "      <td>NaN</td>\n",
       "      <td>NaN</td>\n",
       "    </tr>\n",
       "  </tbody>\n",
       "</table>\n",
       "</div>"
      ],
      "text/plain": [
       "                  name      atc inchi_key smiles\n",
       "0            lepirudin  B01AE02       NaN    NaN\n",
       "1            cetuximab  L01XC06       NaN    NaN\n",
       "2         dornase alfa  R05CB13       NaN    NaN\n",
       "3  denileukin diftitox  L01XX29       NaN    NaN\n",
       "4           etanercept  L04AB01       NaN    NaN"
      ]
     },
     "execution_count": 156,
     "metadata": {},
     "output_type": "execute_result"
    }
   ],
   "source": [
    "drugbank = pd.read_csv(path+\"drugbank.csv\",low_memory=False)\n",
    "drugbank.dropna(subset=[\"atc\"], inplace=True)\n",
    "drugbank.head()"
   ]
  },
  {
   "cell_type": "code",
   "execution_count": 157,
   "metadata": {},
   "outputs": [
    {
     "name": "stdout",
     "output_type": "stream",
     "text": [
      "Total number of rows:  3145\n",
      "Unique number of perturbagen names:  3145\n"
     ]
    }
   ],
   "source": [
    "print(\"Total number of rows: \",len(list(drugbank.name)))\n",
    "print(\"Unique number of perturbagen names: \",len(list(np.unique(drugbank.name))))"
   ]
  },
  {
   "cell_type": "markdown",
   "metadata": {},
   "source": [
    "### Importing ATC"
   ]
  },
  {
   "cell_type": "code",
   "execution_count": 154,
   "metadata": {},
   "outputs": [
    {
     "data": {
      "text/html": [
       "<div>\n",
       "<style scoped>\n",
       "    .dataframe tbody tr th:only-of-type {\n",
       "        vertical-align: middle;\n",
       "    }\n",
       "\n",
       "    .dataframe tbody tr th {\n",
       "        vertical-align: top;\n",
       "    }\n",
       "\n",
       "    .dataframe thead th {\n",
       "        text-align: right;\n",
       "    }\n",
       "</style>\n",
       "<table border=\"1\" class=\"dataframe\">\n",
       "  <thead>\n",
       "    <tr style=\"text-align: right;\">\n",
       "      <th></th>\n",
       "      <th>name</th>\n",
       "      <th>atc</th>\n",
       "    </tr>\n",
       "  </thead>\n",
       "  <tbody>\n",
       "    <tr>\n",
       "      <th>0</th>\n",
       "      <td>silicones</td>\n",
       "      <td>A03AX13</td>\n",
       "    </tr>\n",
       "    <tr>\n",
       "      <th>1</th>\n",
       "      <td>cefatrizine</td>\n",
       "      <td>J01DB07</td>\n",
       "    </tr>\n",
       "    <tr>\n",
       "      <th>2</th>\n",
       "      <td>technetium 99m compounds, central nervous syst...</td>\n",
       "      <td>V09AA</td>\n",
       "    </tr>\n",
       "    <tr>\n",
       "      <th>3</th>\n",
       "      <td>urofollitropin</td>\n",
       "      <td>G03GA04</td>\n",
       "    </tr>\n",
       "    <tr>\n",
       "      <th>4</th>\n",
       "      <td>promethazine</td>\n",
       "      <td>D04AA10</td>\n",
       "    </tr>\n",
       "  </tbody>\n",
       "</table>\n",
       "</div>"
      ],
      "text/plain": [
       "                                                name      atc\n",
       "0                                          silicones  A03AX13\n",
       "1                                        cefatrizine  J01DB07\n",
       "2  technetium 99m compounds, central nervous syst...    V09AA\n",
       "3                                     urofollitropin  G03GA04\n",
       "4                                       promethazine  D04AA10"
      ]
     },
     "execution_count": 154,
     "metadata": {},
     "output_type": "execute_result"
    }
   ],
   "source": [
    "atc = pd.read_csv(path+\"atc.csv\",low_memory=False)\n",
    "atc.name = atc.name.str.lower()\n",
    "atc.head()"
   ]
  },
  {
   "cell_type": "code",
   "execution_count": 155,
   "metadata": {},
   "outputs": [
    {
     "name": "stdout",
     "output_type": "stream",
     "text": [
      "Total number of rows:  5088\n",
      "Unique number of perturbagen names:  5088\n"
     ]
    }
   ],
   "source": [
    "unique_names = [k for k, v in dict(Counter(atc.name)).items() if v==1]\n",
    "atc = atc[atc.name.isin(unique_names)]\n",
    "\n",
    "print(\"Total number of rows: \",len(list(atc.name)))\n",
    "print(\"Unique number of perturbagen names: \",len(list(np.unique(atc.name))))"
   ]
  },
  {
   "cell_type": "markdown",
   "metadata": {},
   "source": [
    "### Drugbank + Metadata"
   ]
  },
  {
   "cell_type": "code",
   "execution_count": 158,
   "metadata": {},
   "outputs": [],
   "source": [
    "perturbagen_drugbank_class = {}"
   ]
  },
  {
   "cell_type": "code",
   "execution_count": 96,
   "metadata": {},
   "outputs": [
    {
     "data": {
      "text/html": [
       "<div>\n",
       "<style scoped>\n",
       "    .dataframe tbody tr th:only-of-type {\n",
       "        vertical-align: middle;\n",
       "    }\n",
       "\n",
       "    .dataframe tbody tr th {\n",
       "        vertical-align: top;\n",
       "    }\n",
       "\n",
       "    .dataframe thead th {\n",
       "        text-align: right;\n",
       "    }\n",
       "</style>\n",
       "<table border=\"1\" class=\"dataframe\">\n",
       "  <thead>\n",
       "    <tr style=\"text-align: right;\">\n",
       "      <th></th>\n",
       "      <th>name</th>\n",
       "      <th>atc</th>\n",
       "      <th>inchi_key</th>\n",
       "      <th>smiles</th>\n",
       "    </tr>\n",
       "  </thead>\n",
       "  <tbody>\n",
       "    <tr>\n",
       "      <th>0</th>\n",
       "      <td>lepirudin</td>\n",
       "      <td>B01AE02</td>\n",
       "      <td>NaN</td>\n",
       "      <td>NaN</td>\n",
       "    </tr>\n",
       "    <tr>\n",
       "      <th>1</th>\n",
       "      <td>cetuximab</td>\n",
       "      <td>L01XC06</td>\n",
       "      <td>NaN</td>\n",
       "      <td>NaN</td>\n",
       "    </tr>\n",
       "    <tr>\n",
       "      <th>2</th>\n",
       "      <td>dornase alfa</td>\n",
       "      <td>R05CB13</td>\n",
       "      <td>NaN</td>\n",
       "      <td>NaN</td>\n",
       "    </tr>\n",
       "    <tr>\n",
       "      <th>3</th>\n",
       "      <td>denileukin diftitox</td>\n",
       "      <td>L01XX29</td>\n",
       "      <td>NaN</td>\n",
       "      <td>NaN</td>\n",
       "    </tr>\n",
       "    <tr>\n",
       "      <th>4</th>\n",
       "      <td>etanercept</td>\n",
       "      <td>L04AB01</td>\n",
       "      <td>NaN</td>\n",
       "      <td>NaN</td>\n",
       "    </tr>\n",
       "  </tbody>\n",
       "</table>\n",
       "</div>"
      ],
      "text/plain": [
       "                  name      atc inchi_key smiles\n",
       "0            lepirudin  B01AE02       NaN    NaN\n",
       "1            cetuximab  L01XC06       NaN    NaN\n",
       "2         dornase alfa  R05CB13       NaN    NaN\n",
       "3  denileukin diftitox  L01XX29       NaN    NaN\n",
       "4           etanercept  L04AB01       NaN    NaN"
      ]
     },
     "execution_count": 96,
     "metadata": {},
     "output_type": "execute_result"
    }
   ],
   "source": [
    "drugbank.head()"
   ]
  },
  {
   "cell_type": "code",
   "execution_count": 117,
   "metadata": {},
   "outputs": [
    {
     "data": {
      "text/html": [
       "<div>\n",
       "<style scoped>\n",
       "    .dataframe tbody tr th:only-of-type {\n",
       "        vertical-align: middle;\n",
       "    }\n",
       "\n",
       "    .dataframe tbody tr th {\n",
       "        vertical-align: top;\n",
       "    }\n",
       "\n",
       "    .dataframe thead th {\n",
       "        text-align: right;\n",
       "    }\n",
       "</style>\n",
       "<table border=\"1\" class=\"dataframe\">\n",
       "  <thead>\n",
       "    <tr style=\"text-align: right;\">\n",
       "      <th></th>\n",
       "      <th>smiles</th>\n",
       "      <th>name</th>\n",
       "      <th>id</th>\n",
       "      <th>inchi_key</th>\n",
       "    </tr>\n",
       "  </thead>\n",
       "  <tbody>\n",
       "    <tr>\n",
       "      <th>98</th>\n",
       "      <td>CC1CS(=O)(=O)CCN1N=CC1CCC(O1)[N+]([O-])=O</td>\n",
       "      <td>nifurtimox</td>\n",
       "      <td>BRD-A00100033</td>\n",
       "      <td>ARFHIAQFJWUCFH-UHFFFAOYSA-N</td>\n",
       "    </tr>\n",
       "    <tr>\n",
       "      <th>99</th>\n",
       "      <td>NC(CC1C[NH]C2CCCC(O)C12)C(O)=O</td>\n",
       "      <td>5-hydroxytryptophan</td>\n",
       "      <td>BRD-A00150179</td>\n",
       "      <td>QSHLMQDRPXXYEE-UHFFFAOYSA-N</td>\n",
       "    </tr>\n",
       "    <tr>\n",
       "      <th>100</th>\n",
       "      <td>CCCCC#CC1NC(NC)C2NCN(C3OC(CO)C(O)C3O)C2N1</td>\n",
       "      <td>hemado</td>\n",
       "      <td>BRD-A00267231</td>\n",
       "      <td>KOCIMZNSNPOGOP-UHFFFAOYSA-N</td>\n",
       "    </tr>\n",
       "    <tr>\n",
       "      <th>101</th>\n",
       "      <td>CCN1C2C(C(=NC2NC3CCCCC13)OC)C4CCCCC4</td>\n",
       "      <td>sa-3676</td>\n",
       "      <td>BRD-A00420644</td>\n",
       "      <td>ASCBUEVCEVGOFP-UHFFFAOYSA-N</td>\n",
       "    </tr>\n",
       "    <tr>\n",
       "      <th>102</th>\n",
       "      <td>OC1CCC(CC1)N1CCN(CC1)[S+]([O-])(=O)C1CCC2NC(=O...</td>\n",
       "      <td>brd-a00474148</td>\n",
       "      <td>BRD-A00474148</td>\n",
       "      <td>RCGAUPRLRFZAMS-UHFFFAOYSA-N</td>\n",
       "    </tr>\n",
       "  </tbody>\n",
       "</table>\n",
       "</div>"
      ],
      "text/plain": [
       "                                                smiles                 name  \\\n",
       "98           CC1CS(=O)(=O)CCN1N=CC1CCC(O1)[N+]([O-])=O           nifurtimox   \n",
       "99                      NC(CC1C[NH]C2CCCC(O)C12)C(O)=O  5-hydroxytryptophan   \n",
       "100          CCCCC#CC1NC(NC)C2NCN(C3OC(CO)C(O)C3O)C2N1               hemado   \n",
       "101               CCN1C2C(C(=NC2NC3CCCCC13)OC)C4CCCCC4              sa-3676   \n",
       "102  OC1CCC(CC1)N1CCN(CC1)[S+]([O-])(=O)C1CCC2NC(=O...        brd-a00474148   \n",
       "\n",
       "                id                    inchi_key  \n",
       "98   BRD-A00100033  ARFHIAQFJWUCFH-UHFFFAOYSA-N  \n",
       "99   BRD-A00150179  QSHLMQDRPXXYEE-UHFFFAOYSA-N  \n",
       "100  BRD-A00267231  KOCIMZNSNPOGOP-UHFFFAOYSA-N  \n",
       "101  BRD-A00420644  ASCBUEVCEVGOFP-UHFFFAOYSA-N  \n",
       "102  BRD-A00474148  RCGAUPRLRFZAMS-UHFFFAOYSA-N  "
      ]
     },
     "execution_count": 117,
     "metadata": {},
     "output_type": "execute_result"
    }
   ],
   "source": [
    "meta.head()"
   ]
  },
  {
   "cell_type": "code",
   "execution_count": 118,
   "metadata": {},
   "outputs": [],
   "source": [
    "# drug_meta = meta.set_index(\"name\").join(drugbank.set_index(\"name\"), lsuffix='_left', rsuffix='_right')\n",
    "# drug_meta.dropna(subset=[\"atc\"], inplace=True)\n",
    "# drug_meta = drug_meta[[\"id\", \"atc\"]]\n",
    "# drug_meta.head()"
   ]
  },
  {
   "cell_type": "code",
   "execution_count": 170,
   "metadata": {},
   "outputs": [],
   "source": [
    "for ind in meta.index:\n",
    "    answer = drugbank[drugbank.name==meta.name[ind]]\n",
    "    if answer.empty==False:\n",
    "        perturbagen_drugbank_class[meta.id[ind]] = answer[\"atc\"]\n",
    "        continue\n",
    "    answer = drugbank[drugbank.inchi_key==meta.inchi_key[ind]]\n",
    "    if answer.empty==False:\n",
    "        perturbagen_drugbank_class[meta.id[ind]] = answer[\"atc\"]\n",
    "        continue\n",
    "    "
   ]
  },
  {
   "cell_type": "code",
   "execution_count": 171,
   "metadata": {},
   "outputs": [
    {
     "data": {
      "text/plain": [
       "1782"
      ]
     },
     "execution_count": 171,
     "metadata": {},
     "output_type": "execute_result"
    }
   ],
   "source": [
    "len(perturbagen_drugbank_class.keys())"
   ]
  },
  {
   "cell_type": "markdown",
   "metadata": {},
   "source": [
    "### ATC + Metadata"
   ]
  },
  {
   "cell_type": "code",
   "execution_count": 172,
   "metadata": {},
   "outputs": [],
   "source": [
    "perturbagen_atc_class = {}"
   ]
  },
  {
   "cell_type": "code",
   "execution_count": 173,
   "metadata": {},
   "outputs": [
    {
     "data": {
      "text/html": [
       "<div>\n",
       "<style scoped>\n",
       "    .dataframe tbody tr th:only-of-type {\n",
       "        vertical-align: middle;\n",
       "    }\n",
       "\n",
       "    .dataframe tbody tr th {\n",
       "        vertical-align: top;\n",
       "    }\n",
       "\n",
       "    .dataframe thead th {\n",
       "        text-align: right;\n",
       "    }\n",
       "</style>\n",
       "<table border=\"1\" class=\"dataframe\">\n",
       "  <thead>\n",
       "    <tr style=\"text-align: right;\">\n",
       "      <th></th>\n",
       "      <th>name</th>\n",
       "      <th>atc</th>\n",
       "    </tr>\n",
       "  </thead>\n",
       "  <tbody>\n",
       "    <tr>\n",
       "      <th>0</th>\n",
       "      <td>silicones</td>\n",
       "      <td>A03AX13</td>\n",
       "    </tr>\n",
       "    <tr>\n",
       "      <th>1</th>\n",
       "      <td>cefatrizine</td>\n",
       "      <td>J01DB07</td>\n",
       "    </tr>\n",
       "    <tr>\n",
       "      <th>2</th>\n",
       "      <td>technetium 99m compounds, central nervous syst...</td>\n",
       "      <td>V09AA</td>\n",
       "    </tr>\n",
       "    <tr>\n",
       "      <th>3</th>\n",
       "      <td>urofollitropin</td>\n",
       "      <td>G03GA04</td>\n",
       "    </tr>\n",
       "    <tr>\n",
       "      <th>5</th>\n",
       "      <td>pinacidil and diuretics</td>\n",
       "      <td>C02LX01</td>\n",
       "    </tr>\n",
       "  </tbody>\n",
       "</table>\n",
       "</div>"
      ],
      "text/plain": [
       "                                                name      atc\n",
       "0                                          silicones  A03AX13\n",
       "1                                        cefatrizine  J01DB07\n",
       "2  technetium 99m compounds, central nervous syst...    V09AA\n",
       "3                                     urofollitropin  G03GA04\n",
       "5                            pinacidil and diuretics  C02LX01"
      ]
     },
     "execution_count": 173,
     "metadata": {},
     "output_type": "execute_result"
    }
   ],
   "source": [
    "atc.head()"
   ]
  },
  {
   "cell_type": "code",
   "execution_count": 174,
   "metadata": {},
   "outputs": [
    {
     "data": {
      "text/html": [
       "<div>\n",
       "<style scoped>\n",
       "    .dataframe tbody tr th:only-of-type {\n",
       "        vertical-align: middle;\n",
       "    }\n",
       "\n",
       "    .dataframe tbody tr th {\n",
       "        vertical-align: top;\n",
       "    }\n",
       "\n",
       "    .dataframe thead th {\n",
       "        text-align: right;\n",
       "    }\n",
       "</style>\n",
       "<table border=\"1\" class=\"dataframe\">\n",
       "  <thead>\n",
       "    <tr style=\"text-align: right;\">\n",
       "      <th></th>\n",
       "      <th>smiles</th>\n",
       "      <th>name</th>\n",
       "      <th>id</th>\n",
       "      <th>inchi_key</th>\n",
       "    </tr>\n",
       "  </thead>\n",
       "  <tbody>\n",
       "    <tr>\n",
       "      <th>98</th>\n",
       "      <td>CC1CS(=O)(=O)CCN1N=CC1CCC(O1)[N+]([O-])=O</td>\n",
       "      <td>nifurtimox</td>\n",
       "      <td>BRD-A00100033</td>\n",
       "      <td>ARFHIAQFJWUCFH-UHFFFAOYSA-N</td>\n",
       "    </tr>\n",
       "    <tr>\n",
       "      <th>99</th>\n",
       "      <td>NC(CC1C[NH]C2CCCC(O)C12)C(O)=O</td>\n",
       "      <td>5-hydroxytryptophan</td>\n",
       "      <td>BRD-A00150179</td>\n",
       "      <td>QSHLMQDRPXXYEE-UHFFFAOYSA-N</td>\n",
       "    </tr>\n",
       "    <tr>\n",
       "      <th>100</th>\n",
       "      <td>CCCCC#CC1NC(NC)C2NCN(C3OC(CO)C(O)C3O)C2N1</td>\n",
       "      <td>hemado</td>\n",
       "      <td>BRD-A00267231</td>\n",
       "      <td>KOCIMZNSNPOGOP-UHFFFAOYSA-N</td>\n",
       "    </tr>\n",
       "    <tr>\n",
       "      <th>101</th>\n",
       "      <td>CCN1C2C(C(=NC2NC3CCCCC13)OC)C4CCCCC4</td>\n",
       "      <td>sa-3676</td>\n",
       "      <td>BRD-A00420644</td>\n",
       "      <td>ASCBUEVCEVGOFP-UHFFFAOYSA-N</td>\n",
       "    </tr>\n",
       "    <tr>\n",
       "      <th>102</th>\n",
       "      <td>OC1CCC(CC1)N1CCN(CC1)[S+]([O-])(=O)C1CCC2NC(=O...</td>\n",
       "      <td>brd-a00474148</td>\n",
       "      <td>BRD-A00474148</td>\n",
       "      <td>RCGAUPRLRFZAMS-UHFFFAOYSA-N</td>\n",
       "    </tr>\n",
       "  </tbody>\n",
       "</table>\n",
       "</div>"
      ],
      "text/plain": [
       "                                                smiles                 name  \\\n",
       "98           CC1CS(=O)(=O)CCN1N=CC1CCC(O1)[N+]([O-])=O           nifurtimox   \n",
       "99                      NC(CC1C[NH]C2CCCC(O)C12)C(O)=O  5-hydroxytryptophan   \n",
       "100          CCCCC#CC1NC(NC)C2NCN(C3OC(CO)C(O)C3O)C2N1               hemado   \n",
       "101               CCN1C2C(C(=NC2NC3CCCCC13)OC)C4CCCCC4              sa-3676   \n",
       "102  OC1CCC(CC1)N1CCN(CC1)[S+]([O-])(=O)C1CCC2NC(=O...        brd-a00474148   \n",
       "\n",
       "                id                    inchi_key  \n",
       "98   BRD-A00100033  ARFHIAQFJWUCFH-UHFFFAOYSA-N  \n",
       "99   BRD-A00150179  QSHLMQDRPXXYEE-UHFFFAOYSA-N  \n",
       "100  BRD-A00267231  KOCIMZNSNPOGOP-UHFFFAOYSA-N  \n",
       "101  BRD-A00420644  ASCBUEVCEVGOFP-UHFFFAOYSA-N  \n",
       "102  BRD-A00474148  RCGAUPRLRFZAMS-UHFFFAOYSA-N  "
      ]
     },
     "execution_count": 174,
     "metadata": {},
     "output_type": "execute_result"
    }
   ],
   "source": [
    "meta.head()"
   ]
  },
  {
   "cell_type": "code",
   "execution_count": 175,
   "metadata": {},
   "outputs": [],
   "source": [
    "# atc_meta = meta.set_index(\"name\").join(atc.set_index(\"name\"), lsuffix='_left', rsuffix='_right')\n",
    "# atc_meta.dropna(subset=[\"atc\"], inplace=True)\n",
    "# atc_meta = atc_meta[[\"id\", \"atc\"]]\n",
    "# atc_meta.head()"
   ]
  },
  {
   "cell_type": "code",
   "execution_count": 176,
   "metadata": {},
   "outputs": [],
   "source": [
    "for ind in meta.index:\n",
    "    answer = atc[atc.name==meta.name[ind]]\n",
    "    if answer.empty==False:\n",
    "        perturbagen_atc_class[meta.id[ind]] = answer[\"atc\"]"
   ]
  },
  {
   "cell_type": "code",
   "execution_count": 198,
   "metadata": {},
   "outputs": [
    {
     "name": "stdout",
     "output_type": "stream",
     "text": [
      "1786\n"
     ]
    }
   ],
   "source": [
    "perturbagen_class = {}\n",
    "\n",
    "for key, value in perturbagen_drugbank_class.items():\n",
    "    if key not in perturbagen_class.keys():\n",
    "        perturbagen_class[key] = list(value)[0]\n",
    "        \n",
    "for key, value in perturbagen_atc_class.items():\n",
    "    if key not in perturbagen_class.keys():\n",
    "        perturbagen_class[key] = list(value)[0]\n",
    "\n",
    "\n",
    "print(len(perturbagen_class.keys()))"
   ]
  },
  {
   "cell_type": "code",
   "execution_count": 199,
   "metadata": {},
   "outputs": [],
   "source": [
    "atc_level1 = [v[:1] for k, v in perturbagen_class.items()]"
   ]
  },
  {
   "cell_type": "code",
   "execution_count": 206,
   "metadata": {},
   "outputs": [
    {
     "data": {
      "text/plain": [
       "<BarContainer object of 14 artists>"
      ]
     },
     "execution_count": 206,
     "metadata": {},
     "output_type": "execute_result"
    },
    {
     "data": {
      "image/png": "[encoded data removed]",
      "text/plain": [
       "<Figure size 432x288 with 1 Axes>"
      ]
     },
     "metadata": {},
     "output_type": "display_data"
    }
   ],
   "source": [
    "atc_level_distribution = dict(Counter(atc_level1))\n",
    "plt.bar(atc_level_distribution.keys(), atc_level_distribution.values())"
   ]
  },
  {
   "cell_type": "code",
   "execution_count": 71,
   "metadata": {},
   "outputs": [
    {
     "data": {
      "text/plain": [
       "51342"
      ]
     },
     "execution_count": 71,
     "metadata": {},
     "output_type": "execute_result"
    }
   ],
   "source": [
    "53456-2114"
   ]
  },
  {
   "cell_type": "code",
   "execution_count": 72,
   "metadata": {},
   "outputs": [
    {
     "data": {
      "text/plain": [
       "smiles           0\n",
       "name             0\n",
       "id               0\n",
       "inchi_key        0\n",
       "atc          51342\n",
       "dtype: int64"
      ]
     },
     "execution_count": 72,
     "metadata": {},
     "output_type": "execute_result"
    }
   ],
   "source": [
    "all3.isnull().sum()"
   ]
  },
  {
   "cell_type": "code",
   "execution_count": null,
   "metadata": {},
   "outputs": [],
   "source": []
  }
 ],
 "metadata": {
  "kernelspec": {
   "display_name": "Python 3",
   "language": "python",
   "name": "python3"
  },
  "language_info": {
   "codemirror_mode": {
    "name": "ipython",
    "version": 3
   },
   "file_extension": ".py",
   "mimetype": "text/x-python",
   "name": "python",
   "nbconvert_exporter": "python",
   "pygments_lexer": "ipython3",
   "version": "3.6.5"
  }
 },
 "nbformat": 4,
 "nbformat_minor": 2
}
