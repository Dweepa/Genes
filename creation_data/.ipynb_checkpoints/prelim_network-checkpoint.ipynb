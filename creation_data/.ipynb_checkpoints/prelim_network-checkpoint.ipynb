{
 "cells": [
  {
   "cell_type": "code",
   "execution_count": 118,
   "metadata": {},
   "outputs": [],
   "source": [
    "import pandas as pd\n",
    "import pickle\n",
    "import requests\n",
    "import numpy as np\n",
    "import sys\n",
    "import matplotlib.pyplot as plt\n",
    "import seaborn as sns\n",
    "from collections import Counter\n",
    "import random\n",
    "from scipy.spatial.distance import cosine\n",
    "from sklearn.model_selection import train_test_split\n",
    "from sklearn.svm import SVC\n",
    "from sklearn.preprocessing import LabelEncoder\n",
    "from sklearn.metrics import accuracy_score\n",
    "from sklearn.ensemble import RandomForestClassifier"
   ]
  },
  {
   "cell_type": "code",
   "execution_count": 2,
   "metadata": {},
   "outputs": [],
   "source": [
    "perturbagen_class = pickle.load(open(\"../data/all_perturbagen_class.pkl\", \"rb\"))\n",
    "perturbagens = list(perturbagen_class.keys())"
   ]
  },
  {
   "cell_type": "code",
   "execution_count": 3,
   "metadata": {},
   "outputs": [],
   "source": [
    "df = pd.read_csv(\"../data/full_geneexp_phase2_1004.csv\")\n",
    "def getcellline(x):\n",
    "    cellline = x.split(\"_\")[1]\n",
    "    return cellline\n",
    "df['celline'] = df['signature'].apply(getcellline)"
   ]
  },
  {
   "cell_type": "code",
   "execution_count": 4,
   "metadata": {},
   "outputs": [],
   "source": [
    "df[\"atc_level_one\"] = [val[0] for val in list(df[\"atc\"])]\n",
    "imp_columns = ['target', 'atc', 'celline', 'atc_level_one']+list(df.columns[7:985])\n",
    "df = df[imp_columns]"
   ]
  },
  {
   "cell_type": "code",
   "execution_count": 5,
   "metadata": {},
   "outputs": [
    {
     "data": {
      "text/html": [
       "<div>\n",
       "<style scoped>\n",
       "    .dataframe tbody tr th:only-of-type {\n",
       "        vertical-align: middle;\n",
       "    }\n",
       "\n",
       "    .dataframe tbody tr th {\n",
       "        vertical-align: top;\n",
       "    }\n",
       "\n",
       "    .dataframe thead th {\n",
       "        text-align: right;\n",
       "    }\n",
       "</style>\n",
       "<table border=\"1\" class=\"dataframe\">\n",
       "  <thead>\n",
       "    <tr style=\"text-align: right;\">\n",
       "      <th></th>\n",
       "      <th>target</th>\n",
       "      <th>atc</th>\n",
       "      <th>celline</th>\n",
       "      <th>atc_level_one</th>\n",
       "      <th>780</th>\n",
       "      <th>7849</th>\n",
       "      <th>6193</th>\n",
       "      <th>23</th>\n",
       "      <th>9552</th>\n",
       "      <th>387</th>\n",
       "      <th>...</th>\n",
       "      <th>54681</th>\n",
       "      <th>11000</th>\n",
       "      <th>6915</th>\n",
       "      <th>6253</th>\n",
       "      <th>7264</th>\n",
       "      <th>5467</th>\n",
       "      <th>2767</th>\n",
       "      <th>23038</th>\n",
       "      <th>57048</th>\n",
       "      <th>79716</th>\n",
       "    </tr>\n",
       "  </thead>\n",
       "  <tbody>\n",
       "    <tr>\n",
       "      <th>0</th>\n",
       "      <td>BRD-K70330367</td>\n",
       "      <td>N04BB01</td>\n",
       "      <td>YAPC</td>\n",
       "      <td>N</td>\n",
       "      <td>-1.153825</td>\n",
       "      <td>-0.050292</td>\n",
       "      <td>-0.517787</td>\n",
       "      <td>0.244794</td>\n",
       "      <td>-0.399110</td>\n",
       "      <td>0.317308</td>\n",
       "      <td>...</td>\n",
       "      <td>0.440725</td>\n",
       "      <td>0.115513</td>\n",
       "      <td>-0.282635</td>\n",
       "      <td>0.666874</td>\n",
       "      <td>-0.319930</td>\n",
       "      <td>-0.131123</td>\n",
       "      <td>-0.213662</td>\n",
       "      <td>-1.007887</td>\n",
       "      <td>-0.182830</td>\n",
       "      <td>0.524592</td>\n",
       "    </tr>\n",
       "    <tr>\n",
       "      <th>1</th>\n",
       "      <td>BRD-K70330367</td>\n",
       "      <td>N04BB01</td>\n",
       "      <td>YAPC</td>\n",
       "      <td>N</td>\n",
       "      <td>-0.150379</td>\n",
       "      <td>0.557618</td>\n",
       "      <td>-0.106715</td>\n",
       "      <td>-0.680913</td>\n",
       "      <td>-0.356638</td>\n",
       "      <td>0.821385</td>\n",
       "      <td>...</td>\n",
       "      <td>-0.017656</td>\n",
       "      <td>2.434079</td>\n",
       "      <td>-0.580103</td>\n",
       "      <td>-0.610206</td>\n",
       "      <td>0.188383</td>\n",
       "      <td>-0.309202</td>\n",
       "      <td>0.056737</td>\n",
       "      <td>-0.003205</td>\n",
       "      <td>-0.434692</td>\n",
       "      <td>-0.177766</td>\n",
       "    </tr>\n",
       "    <tr>\n",
       "      <th>2</th>\n",
       "      <td>BRD-K70330367</td>\n",
       "      <td>N04BB01</td>\n",
       "      <td>HA1E</td>\n",
       "      <td>N</td>\n",
       "      <td>0.038450</td>\n",
       "      <td>0.620755</td>\n",
       "      <td>-0.324466</td>\n",
       "      <td>0.136990</td>\n",
       "      <td>0.141210</td>\n",
       "      <td>-0.112033</td>\n",
       "      <td>...</td>\n",
       "      <td>0.224989</td>\n",
       "      <td>0.076725</td>\n",
       "      <td>-0.925917</td>\n",
       "      <td>0.711872</td>\n",
       "      <td>-0.341481</td>\n",
       "      <td>0.437485</td>\n",
       "      <td>-0.052817</td>\n",
       "      <td>-0.376699</td>\n",
       "      <td>-0.047295</td>\n",
       "      <td>-0.215700</td>\n",
       "    </tr>\n",
       "    <tr>\n",
       "      <th>3</th>\n",
       "      <td>BRD-K70330367</td>\n",
       "      <td>N04BB01</td>\n",
       "      <td>PC3</td>\n",
       "      <td>N</td>\n",
       "      <td>2.363550</td>\n",
       "      <td>-0.061650</td>\n",
       "      <td>0.691550</td>\n",
       "      <td>0.524950</td>\n",
       "      <td>-0.593000</td>\n",
       "      <td>0.109150</td>\n",
       "      <td>...</td>\n",
       "      <td>0.212650</td>\n",
       "      <td>0.114100</td>\n",
       "      <td>-0.307550</td>\n",
       "      <td>-1.156950</td>\n",
       "      <td>0.508250</td>\n",
       "      <td>-0.230200</td>\n",
       "      <td>-0.314000</td>\n",
       "      <td>-1.208450</td>\n",
       "      <td>-0.630500</td>\n",
       "      <td>-0.447650</td>\n",
       "    </tr>\n",
       "    <tr>\n",
       "      <th>4</th>\n",
       "      <td>BRD-K70330367</td>\n",
       "      <td>N04BB01</td>\n",
       "      <td>PC3</td>\n",
       "      <td>N</td>\n",
       "      <td>-0.512800</td>\n",
       "      <td>-0.442350</td>\n",
       "      <td>0.697400</td>\n",
       "      <td>0.108150</td>\n",
       "      <td>-0.552350</td>\n",
       "      <td>0.938150</td>\n",
       "      <td>...</td>\n",
       "      <td>0.358500</td>\n",
       "      <td>-0.641800</td>\n",
       "      <td>-0.603150</td>\n",
       "      <td>-0.792450</td>\n",
       "      <td>0.384800</td>\n",
       "      <td>-0.458000</td>\n",
       "      <td>-0.074800</td>\n",
       "      <td>-0.196750</td>\n",
       "      <td>-0.669750</td>\n",
       "      <td>0.074850</td>\n",
       "    </tr>\n",
       "  </tbody>\n",
       "</table>\n",
       "<p>5 rows × 982 columns</p>\n",
       "</div>"
      ],
      "text/plain": [
       "          target      atc celline atc_level_one       780      7849      6193  \\\n",
       "0  BRD-K70330367  N04BB01    YAPC             N -1.153825 -0.050292 -0.517787   \n",
       "1  BRD-K70330367  N04BB01    YAPC             N -0.150379  0.557618 -0.106715   \n",
       "2  BRD-K70330367  N04BB01    HA1E             N  0.038450  0.620755 -0.324466   \n",
       "3  BRD-K70330367  N04BB01     PC3             N  2.363550 -0.061650  0.691550   \n",
       "4  BRD-K70330367  N04BB01     PC3             N -0.512800 -0.442350  0.697400   \n",
       "\n",
       "         23      9552       387    ...        54681     11000      6915  \\\n",
       "0  0.244794 -0.399110  0.317308    ...     0.440725  0.115513 -0.282635   \n",
       "1 -0.680913 -0.356638  0.821385    ...    -0.017656  2.434079 -0.580103   \n",
       "2  0.136990  0.141210 -0.112033    ...     0.224989  0.076725 -0.925917   \n",
       "3  0.524950 -0.593000  0.109150    ...     0.212650  0.114100 -0.307550   \n",
       "4  0.108150 -0.552350  0.938150    ...     0.358500 -0.641800 -0.603150   \n",
       "\n",
       "       6253      7264      5467      2767     23038     57048     79716  \n",
       "0  0.666874 -0.319930 -0.131123 -0.213662 -1.007887 -0.182830  0.524592  \n",
       "1 -0.610206  0.188383 -0.309202  0.056737 -0.003205 -0.434692 -0.177766  \n",
       "2  0.711872 -0.341481  0.437485 -0.052817 -0.376699 -0.047295 -0.215700  \n",
       "3 -1.156950  0.508250 -0.230200 -0.314000 -1.208450 -0.630500 -0.447650  \n",
       "4 -0.792450  0.384800 -0.458000 -0.074800 -0.196750 -0.669750  0.074850  \n",
       "\n",
       "[5 rows x 982 columns]"
      ]
     },
     "execution_count": 5,
     "metadata": {},
     "output_type": "execute_result"
    }
   ],
   "source": [
    "df.head()"
   ]
  },
  {
   "cell_type": "code",
   "execution_count": 6,
   "metadata": {},
   "outputs": [],
   "source": [
    "atc_level_vals = np.unique(df.atc_level_one)\n",
    "cell_lines = [k for k,_ in Counter(df.celline).most_common(7)]"
   ]
  },
  {
   "cell_type": "markdown",
   "metadata": {},
   "source": [
    "### Data for top cell lines by target"
   ]
  },
  {
   "cell_type": "code",
   "execution_count": 7,
   "metadata": {},
   "outputs": [],
   "source": [
    "df = df[df.celline.isin(cell_lines)]\n",
    "\n",
    "le = LabelEncoder()\n",
    "le.fit(df['atc_level_one'])\n",
    "\n",
    "df['atc_level_one'] = le.transform(df['atc_level_one'])\n",
    "\n",
    "pert_train, pert_test = train_test_split(np.unique(df.target), test_size=0.3)\n",
    "\n",
    "df_train = df[df.target.isin(pert_train)]\n",
    "df_test = df[df.target.isin(pert_test)]\n",
    "\n",
    "df_cell_line_train = {}\n",
    "for cell_line in cell_lines:\n",
    "    df_cell_line_train[cell_line] = df_train[df_train.celline==cell_line]\n",
    "    \n",
    "df_cell_line_test = {}\n",
    "for cell_line in cell_lines:\n",
    "    df_cell_line_test[cell_line] = df_test[df_test.celline==cell_line]"
   ]
  },
  {
   "cell_type": "markdown",
   "metadata": {},
   "source": [
    "### Baseline Models"
   ]
  },
  {
   "cell_type": "markdown",
   "metadata": {},
   "source": [
    "### SVM"
   ]
  },
  {
   "cell_type": "code",
   "execution_count": 14,
   "metadata": {},
   "outputs": [
    {
     "name": "stdout",
     "output_type": "stream",
     "text": [
      "0.1443823080833757\n",
      "0.1411764705882353\n",
      "0.16752312435765673\n",
      "0.1383744855967078\n",
      "0.12976313079299692\n",
      "0.14444444444444443\n",
      "0.14952279957582185\n"
     ]
    }
   ],
   "source": [
    "svm_models = {}\n",
    "for cell_line in cell_lines:\n",
    "    X = df_cell_line_train[cell_line][df.columns[4:]]\n",
    "    y = df_cell_line_train[cell_line]['atc_level_one']\n",
    "    svm_models[cell_line] = SVC(kernel='linear', probability=True)\n",
    "    svm_models[cell_line].fit(X, y) \n",
    "    \n",
    "    y_pred = svm_models[cell_line].predict(df_cell_line_test[cell_line][df.columns[4:]])\n",
    "    print(accuracy_score(y_pred, df_cell_line_test[cell_line]['atc_level_one']))\n"
   ]
  },
  {
   "cell_type": "code",
   "execution_count": 76,
   "metadata": {},
   "outputs": [],
   "source": [
    "pred_cell_line = []\n",
    "pred = []\n",
    "for pert in pert_test:\n",
    "    predictions = []\n",
    "    all_predictions = []\n",
    "    for cell_line in cell_lines:\n",
    "        mini_df = df_cell_line_test[cell_line][df_cell_line_test[cell_line]['target']==pert]\n",
    "        if mini_df.shape[0]==0:\n",
    "            continue\n",
    "        answers = []\n",
    "        for index in mini_df.index:\n",
    "            answers+=(list(svm_models[cell_line].predict(np.array(\n",
    "                mini_df[df.columns[4:]].loc[index]).reshape(1, -1))))\n",
    "            all_predictions.append(answers[-1])\n",
    "        predictions.append(Counter(answers).most_common(1)[0][0])\n",
    "    pred.append(Counter(all_predictions).most_common(1)[0][0])\n",
    "    pred_cell_line.append(Counter(predictions).most_common(1)[0][0])"
   ]
  },
  {
   "cell_type": "code",
   "execution_count": 80,
   "metadata": {},
   "outputs": [
    {
     "data": {
      "text/plain": [
       "0.251063829787234"
      ]
     },
     "execution_count": 80,
     "metadata": {},
     "output_type": "execute_result"
    }
   ],
   "source": [
    "y_true = [np.array(df_test[df_test['target']==pert]['atc_level_one'])[0] for pert in pert_test]\n",
    "accuracy_score(y_true, pred)"
   ]
  },
  {
   "cell_type": "markdown",
   "metadata": {},
   "source": [
    "### Which cell lines can better predict ATC classes"
   ]
  },
  {
   "cell_type": "code",
   "execution_count": 101,
   "metadata": {},
   "outputs": [],
   "source": [
    "pert_pred_df = pd.DataFrame(columns = ['perturbagen', 'atc_level_one']+cell_lines)\n",
    "pert_pred_df['perturbagen'] = pert_test\n",
    "pert_pred_df['atc_level_one'] = y_true\n",
    "for pert_index in pert_pred_df.index:\n",
    "    for cell_line in cell_lines:\n",
    "        mini_df = df_cell_line_test[cell_line][df_cell_line_test[cell_line]['target']==pert_pred_df.loc[pert_index]['perturbagen']]\n",
    "        if mini_df.shape[0]!=0:\n",
    "            answers = []\n",
    "            for index in mini_df.index:\n",
    "                answers+=(list(svm_models[cell_line].predict(np.array(\n",
    "                    mini_df[df.columns[4:]].loc[index]).reshape(1, -1))))\n",
    "        else:\n",
    "            answers = [-1]\n",
    "        \n",
    "        pert_pred_df.loc[pert_index, cell_line] = Counter(answers).most_common(1)[0][0]\n",
    "            "
   ]
  },
  {
   "cell_type": "code",
   "execution_count": 102,
   "metadata": {},
   "outputs": [
    {
     "data": {
      "text/html": [
       "<div>\n",
       "<style scoped>\n",
       "    .dataframe tbody tr th:only-of-type {\n",
       "        vertical-align: middle;\n",
       "    }\n",
       "\n",
       "    .dataframe tbody tr th {\n",
       "        vertical-align: top;\n",
       "    }\n",
       "\n",
       "    .dataframe thead th {\n",
       "        text-align: right;\n",
       "    }\n",
       "</style>\n",
       "<table border=\"1\" class=\"dataframe\">\n",
       "  <thead>\n",
       "    <tr style=\"text-align: right;\">\n",
       "      <th></th>\n",
       "      <th>perturbagen</th>\n",
       "      <th>atc_level_one</th>\n",
       "      <th>MCF7</th>\n",
       "      <th>PC3</th>\n",
       "      <th>A375</th>\n",
       "      <th>HT29</th>\n",
       "      <th>HA1E</th>\n",
       "      <th>YAPC</th>\n",
       "      <th>HELA</th>\n",
       "    </tr>\n",
       "  </thead>\n",
       "  <tbody>\n",
       "    <tr>\n",
       "      <th>0</th>\n",
       "      <td>BRD-K31385749</td>\n",
       "      <td>2</td>\n",
       "      <td>12</td>\n",
       "      <td>12</td>\n",
       "      <td>2</td>\n",
       "      <td>0</td>\n",
       "      <td>0</td>\n",
       "      <td>6</td>\n",
       "      <td>2</td>\n",
       "    </tr>\n",
       "    <tr>\n",
       "      <th>1</th>\n",
       "      <td>BRD-K22969690</td>\n",
       "      <td>12</td>\n",
       "      <td>6</td>\n",
       "      <td>9</td>\n",
       "      <td>2</td>\n",
       "      <td>9</td>\n",
       "      <td>2</td>\n",
       "      <td>9</td>\n",
       "      <td>0</td>\n",
       "    </tr>\n",
       "    <tr>\n",
       "      <th>2</th>\n",
       "      <td>BRD-K46970505</td>\n",
       "      <td>6</td>\n",
       "      <td>7</td>\n",
       "      <td>3</td>\n",
       "      <td>2</td>\n",
       "      <td>7</td>\n",
       "      <td>2</td>\n",
       "      <td>2</td>\n",
       "      <td>12</td>\n",
       "    </tr>\n",
       "    <tr>\n",
       "      <th>3</th>\n",
       "      <td>BRD-K75958547</td>\n",
       "      <td>2</td>\n",
       "      <td>2</td>\n",
       "      <td>4</td>\n",
       "      <td>2</td>\n",
       "      <td>3</td>\n",
       "      <td>2</td>\n",
       "      <td>2</td>\n",
       "      <td>7</td>\n",
       "    </tr>\n",
       "    <tr>\n",
       "      <th>4</th>\n",
       "      <td>BRD-K56614220</td>\n",
       "      <td>6</td>\n",
       "      <td>9</td>\n",
       "      <td>3</td>\n",
       "      <td>3</td>\n",
       "      <td>2</td>\n",
       "      <td>2</td>\n",
       "      <td>9</td>\n",
       "      <td>6</td>\n",
       "    </tr>\n",
       "  </tbody>\n",
       "</table>\n",
       "</div>"
      ],
      "text/plain": [
       "     perturbagen  atc_level_one  MCF7  PC3  A375  HT29  HA1E  YAPC  HELA\n",
       "0  BRD-K31385749              2    12   12     2     0     0     6     2\n",
       "1  BRD-K22969690             12     6    9     2     9     2     9     0\n",
       "2  BRD-K46970505              6     7    3     2     7     2     2    12\n",
       "3  BRD-K75958547              2     2    4     2     3     2     2     7\n",
       "4  BRD-K56614220              6     9    3     3     2     2     9     6"
      ]
     },
     "execution_count": 102,
     "metadata": {},
     "output_type": "execute_result"
    }
   ],
   "source": [
    "pert_pred_df.head()"
   ]
  },
  {
   "cell_type": "code",
   "execution_count": 117,
   "metadata": {
    "scrolled": false
   },
   "outputs": [
    {
     "data": {
      "image/png": "[encoded data removed]",
      "text/plain": [
       "<Figure size 432x288 with 1 Axes>"
      ]
     },
     "metadata": {},
     "output_type": "display_data"
    },
    {
     "data": {
      "image/png": "[encoded data removed]",
      "text/plain": [
       "<Figure size 432x288 with 1 Axes>"
      ]
     },
     "metadata": {},
     "output_type": "display_data"
    },
    {
     "data": {
      "image/png": "[encoded data removed]",
      "text/plain": [
       "<Figure size 432x288 with 1 Axes>"
      ]
     },
     "metadata": {},
     "output_type": "display_data"
    },
    {
     "data": {
      "image/png": "[encoded data removed]",
      "text/plain": [
       "<Figure size 432x288 with 1 Axes>"
      ]
     },
     "metadata": {},
     "output_type": "display_data"
    },
    {
     "data": {
      "image/png": "[encoded data removed]",
      "text/plain": [
       "<Figure size 432x288 with 1 Axes>"
      ]
     },
     "metadata": {},
     "output_type": "display_data"
    },
    {
     "data": {
      "image/png": "[encoded data removed]",
      "text/plain": [
       "<Figure size 432x288 with 1 Axes>"
      ]
     },
     "metadata": {},
     "output_type": "display_data"
    },
    {
     "data": {
      "image/png": "[encoded data removed]",
      "text/plain": [
       "<Figure size 432x288 with 1 Axes>"
      ]
     },
     "metadata": {},
     "output_type": "display_data"
    },
    {
     "data": {
      "image/png": "[encoded data removed]",
      "text/plain": [
       "<Figure size 432x288 with 1 Axes>"
      ]
     },
     "metadata": {},
     "output_type": "display_data"
    },
    {
     "data": {
      "image/png": "[encoded data removed]",
      "text/plain": [
       "<Figure size 432x288 with 1 Axes>"
      ]
     },
     "metadata": {},
     "output_type": "display_data"
    },
    {
     "data": {
      "image/png": "[encoded data removed]",
      "text/plain": [
       "<Figure size 432x288 with 1 Axes>"
      ]
     },
     "metadata": {},
     "output_type": "display_data"
    },
    {
     "data": {
      "image/png": "[encoded data removed]",
      "text/plain": [
       "<Figure size 432x288 with 1 Axes>"
      ]
     },
     "metadata": {},
     "output_type": "display_data"
    },
    {
     "data": {
      "image/png": "[encoded data removed]",
      "text/plain": [
       "<Figure size 432x288 with 1 Axes>"
      ]
     },
     "metadata": {},
     "output_type": "display_data"
    },
    {
     "data": {
      "image/png": "[encoded data removed]",
      "text/plain": [
       "<Figure size 432x288 with 1 Axes>"
      ]
     },
     "metadata": {},
     "output_type": "display_data"
    },
    {
     "data": {
      "image/png": "[encoded data removed]",
      "text/plain": [
       "<Figure size 432x288 with 1 Axes>"
      ]
     },
     "metadata": {},
     "output_type": "display_data"
    }
   ],
   "source": [
    "for val in le.transform(atc_level_vals):\n",
    "    mini_df = pert_pred_df[pert_pred_df['atc_level_one']==val]\n",
    "    bool_df = mini_df[mini_df.columns[2:]]==val\n",
    "    cell_line_correct = np.array(bool_df.sum())/len(bool_df)\n",
    "    \n",
    "    plt.bar(cell_lines, cell_line_correct)\n",
    "    plt.title(le.inverse_transform([val]))\n",
    "    plt.show()"
   ]
  },
  {
   "cell_type": "markdown",
   "metadata": {},
   "source": [
    "### Random Forest"
   ]
  },
  {
   "cell_type": "code",
   "execution_count": 124,
   "metadata": {},
   "outputs": [
    {
     "name": "stdout",
     "output_type": "stream",
     "text": [
      "0.17285205897305542\n",
      "0.17698209718670077\n",
      "0.20863309352517986\n",
      "0.17078189300411523\n",
      "0.17507723995880536\n",
      "0.18571428571428572\n",
      "0.20784729586426298\n"
     ]
    }
   ],
   "source": [
    "rf_models = {}\n",
    "for cell_line in cell_lines:\n",
    "    X = df_cell_line_train[cell_line][df.columns[4:]]\n",
    "    y = df_cell_line_train[cell_line]['atc_level_one']\n",
    "    rf_models[cell_line] = RandomForestClassifier(max_depth=5, random_state=0, n_estimators=50)\n",
    "    rf_models[cell_line].fit(X, y) \n",
    "    \n",
    "    y_pred = rf_models[cell_line].predict(df_cell_line_test[cell_line][df.columns[4:]])\n",
    "    print(accuracy_score(y_pred, df_cell_line_test[cell_line]['atc_level_one']))\n"
   ]
  },
  {
   "cell_type": "code",
   "execution_count": 125,
   "metadata": {},
   "outputs": [],
   "source": [
    "pred_cell_line = []\n",
    "pred = []\n",
    "for pert in pert_test:\n",
    "    predictions = []\n",
    "    all_predictions = []\n",
    "    for cell_line in cell_lines:\n",
    "        mini_df = df_cell_line_test[cell_line][df_cell_line_test[cell_line]['target']==pert]\n",
    "        if mini_df.shape[0]==0:\n",
    "            continue\n",
    "        answers = []\n",
    "        for index in mini_df.index:\n",
    "            answers+=(list(rf_models[cell_line].predict(np.array(\n",
    "                mini_df[df.columns[4:]].loc[index]).reshape(1, -1))))\n",
    "            all_predictions.append(answers[-1])\n",
    "        predictions.append(Counter(answers).most_common(1)[0][0])\n",
    "    pred.append(Counter(all_predictions).most_common(1)[0][0])\n",
    "    pred_cell_line.append(Counter(predictions).most_common(1)[0][0])"
   ]
  },
  {
   "cell_type": "code",
   "execution_count": 128,
   "metadata": {},
   "outputs": [
    {
     "data": {
      "text/plain": [
       "0.2680851063829787"
      ]
     },
     "execution_count": 128,
     "metadata": {},
     "output_type": "execute_result"
    }
   ],
   "source": [
    "y_true = [np.array(df_test[df_test['target']==pert]['atc_level_one'])[0] for pert in pert_test]\n",
    "accuracy_score(y_true, pred)"
   ]
  }
 ],
 "metadata": {
  "kernelspec": {
   "display_name": "Python 3",
   "language": "python",
   "name": "python3"
  },
  "language_info": {
   "codemirror_mode": {
    "name": "ipython",
    "version": 3
   },
   "file_extension": ".py",
   "mimetype": "text/x-python",
   "name": "python",
   "nbconvert_exporter": "python",
   "pygments_lexer": "ipython3",
   "version": "3.6.5"
  }
 },
 "nbformat": 4,
 "nbformat_minor": 2
}
