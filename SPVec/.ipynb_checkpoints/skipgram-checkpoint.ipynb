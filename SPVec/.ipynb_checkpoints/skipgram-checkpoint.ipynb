{
 "cells": [
  {
   "cell_type": "code",
<<<<<<< HEAD
   "execution_count": 135,
   "metadata": {},
=======
   "execution_count": 16,
   "metadata": {
    "collapsed": true
   },
>>>>>>> 2c64660dc08a4fe6ecb3d2f51c45b8e60bd0f071
   "outputs": [],
   "source": [
    "import pickle\n",
    "from gensim.models import word2vec\n",
<<<<<<< HEAD
    "import numpy as np\n",
    "from sklearn.neighbors import KNeighborsClassifier\n",
    "from sklearn.model_selection import train_test_split\n",
    "\n",
    "import pandas as pd\n",
    "import pickle\n",
    "import requests\n",
    "import numpy as np\n",
    "import sys\n",
    "import matplotlib.pyplot as plt\n",
    "import seaborn as sns\n",
    "from collections import Counter\n",
    "import random\n",
    "from scipy.spatial.distance import cosine\n",
    "from sklearn.preprocessing import OneHotEncoder, LabelEncoder\n",
    "# from chembl_webresource_client.new_client import new_client\n",
    "from keras.utils import to_categorical\n",
    "from keras.models import Sequential\n",
    "from keras.layers import Dense, Conv1D, Flatten, Reshape, GRU, SpatialDropout1D, LSTM, Dropout\n",
    "from keras.layers import BatchNormalization, MaxPool1D\n",
    "from sklearn.model_selection import train_test_split\n",
    "from sklearn.metrics import classification_report\n",
    "import matplotlib.pyplot as plt\n",
    "import seaborn as sns\n",
    "from sklearn.metrics import confusion_matrix\n",
    "\n",
    "%matplotlib inline"
=======
    "import numpy as np"
>>>>>>> 2c64660dc08a4fe6ecb3d2f51c45b8e60bd0f071
   ]
  },
  {
   "cell_type": "code",
   "execution_count": 8,
   "metadata": {
    "collapsed": true
   },
   "outputs": [],
   "source": [
    "with open(\"mol_sentences.pkl\", \"rb\") as file:\n",
    "    sentences = pickle.load(file)"
   ]
  },
  {
   "cell_type": "code",
   "execution_count": 11,
   "metadata": {
    "collapsed": true
   },
   "outputs": [],
   "source": [
    "model = word2vec.Word2Vec.load('./model_300dim.pkl')"
   ]
  },
  {
   "cell_type": "code",
   "execution_count": 23,
   "metadata": {},
   "outputs": [],
   "source": [
    "vectors = []\n",
    "\n",
    "for sentence in sentences:\n",
    "    vector = []\n",
    "    for word in sentence[3]:\n",
    "        try:\n",
    "            vector+=list(model.wv.word_vec(word))\n",
    "        except:\n",
    "            vector+=([0 for a in range(0, 300)])\n",
    "    vectors.append(vector)\n",
    "    \n",
    "vectors = np.asarray(vectors)"
   ]
  },
  {
   "cell_type": "code",
   "execution_count": 36,
   "metadata": {},
   "outputs": [],
   "source": [
    "sum_vectors = []\n",
    "\n",
    "for vector in vectors:\n",
    "    arr = np.asarray(vector)\n",
    "    arr = arr.reshape((int(arr.shape[0]/300), 300) )\n",
    "    sum_vectors.append(arr.sum(axis=0))\n",
    "\n",
    "sum_vectors = np.asarray(sum_vectors)"
   ]
  },
  {
   "cell_type": "code",
<<<<<<< HEAD
   "execution_count": 75,
   "metadata": {},
   "outputs": [],
   "source": [
    "atc = [a[1][0] for a in sentences]\n",
    "le = LabelEncoder()\n",
    "le.fit(atc)\n",
    "\n",
    "atc = le.transform(atc)"
   ]
  },
  {
   "cell_type": "code",
   "execution_count": 147,
   "metadata": {},
   "outputs": [],
   "source": [
    "X = sum_vectors\n",
    "y = atc\n",
    "\n",
    "atc_counter = Counter(y)\n",
    "top_atc = [a for a, _ in atc_counter.most_common(14)]\n",
    "\n",
    "temp_x = []\n",
    "temp_y = []\n",
    "\n",
    "for i in range(y.shape[0]):\n",
    "    if y[i] in top_atc:\n",
    "        temp_x.append(X[i])\n",
    "        temp_y.append(y[i])\n",
    "        \n",
    "X = np.asarray(temp_x)\n",
    "y = np.asarray(temp_y)\n",
    "\n",
    "atc_labels = le.inverse_transform(np.unique(y))"
=======
   "execution_count": 40,
   "metadata": {},
   "outputs": [],
   "source": [
    "atc = [a[1] for a in sentence]"
>>>>>>> 2c64660dc08a4fe6ecb3d2f51c45b8e60bd0f071
   ]
  },
  {
   "cell_type": "code",
<<<<<<< HEAD
   "execution_count": 148,
   "metadata": {},
   "outputs": [],
   "source": [
    "X_train, X_test, y_train, y_test = train_test_split(X, y, test_size=0.3, random_state=int(random.random()*100))"
   ]
  },
  {
   "cell_type": "code",
   "execution_count": 152,
=======
   "execution_count": 41,
>>>>>>> 2c64660dc08a4fe6ecb3d2f51c45b8e60bd0f071
   "metadata": {},
   "outputs": [
    {
     "data": {
      "text/plain": [
<<<<<<< HEAD
       "KNeighborsClassifier(algorithm='auto', leaf_size=30, metric='minkowski',\n",
       "           metric_params=None, n_jobs=1, n_neighbors=5, p=2,\n",
       "           weights='uniform')"
      ]
     },
     "execution_count": 152,
=======
       "['y', '0', 'C', '3542456614']"
      ]
     },
     "execution_count": 41,
>>>>>>> 2c64660dc08a4fe6ecb3d2f51c45b8e60bd0f071
     "metadata": {},
     "output_type": "execute_result"
    }
   ],
   "source": [
<<<<<<< HEAD
    "neigh = KNeighborsClassifier(n_neighbors=5)\n",
    "neigh.fit(X_train, y_train)"
   ]
  },
  {
   "cell_type": "code",
   "execution_count": 153,
   "metadata": {},
   "outputs": [],
   "source": [
    "def accuracy(y_true, y_pred, atc_labels):\n",
    "    print(\"Overall Accuracy:\", np.sum(np.equal(y_true, y_pred))/y_true.shape[0])\n",
    "    matrix = confusion_matrix(y_true, y_pred)\n",
    "    print(classification_report(y_true, y_pred))\n",
    "    plt.figure(figsize=(10, 10))\n",
    "    sns.heatmap(matrix, annot=True,cbar=False, xticklabels=atc_labels, yticklabels=atc_labels)"
   ]
  },
  {
   "cell_type": "code",
   "execution_count": 154,
   "metadata": {
    "scrolled": false
   },
   "outputs": [
    {
     "name": "stdout",
     "output_type": "stream",
     "text": [
      "Overall Accuracy: 0.458536585366\n",
      "             precision    recall  f1-score   support\n",
      "\n",
      "          0       0.51      0.33      0.40       150\n",
      "          1       0.21      0.22      0.22        32\n",
      "          2       0.60      0.46      0.52       123\n",
      "          3       0.32      0.38      0.35        45\n",
      "          4       0.44      0.59      0.51        32\n",
      "          5       0.45      0.38      0.42        13\n",
      "          6       0.66      0.75      0.70        80\n",
      "          7       0.37      0.52      0.43        48\n",
      "          8       0.31      0.37      0.34        38\n",
      "          9       0.62      0.55      0.58       168\n",
      "         10       0.35      0.47      0.40        15\n",
      "         11       0.20      0.32      0.25        34\n",
      "         12       0.00      0.00      0.00        16\n",
      "         13       0.30      0.46      0.36        26\n",
      "\n",
      "avg / total       0.49      0.46      0.46       820\n",
      "\n"
     ]
    },
    {
     "data": {
      "image/png": "iVBORw0KGgoAAAANSUhEUgAAAlAAAAJCCAYAAAAP/PnVAAAABHNCSVQICAgIfAhkiAAAAAlwSFlz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\nEhEREYno/wMDEXE+nHJwpwAAAABJRU5ErkJggg==\n",
      "text/plain": [
       "<matplotlib.figure.Figure at 0x7fa610613668>"
      ]
     },
     "metadata": {},
     "output_type": "display_data"
    }
   ],
   "source": [
    "y_pred = neigh.predict(X_test)\n",
    "accuracy(y_pred, y_test, atc_labels)"
   ]
  },
  {
   "cell_type": "code",
   "execution_count": 163,
   "metadata": {},
   "outputs": [
    {
     "name": "stdout",
     "output_type": "stream",
     "text": [
      "[ 7  5  5 ..., 12 10  2]\n"
     ]
    }
   ],
   "source": [
    "X = sum_vectors\n",
    "y = atc\n",
    "\n",
    "atc_counter = Counter(y)\n",
    "top_atc = [a for a, _ in atc_counter.most_common(14)]\n",
    "\n",
    "temp_x = []\n",
    "temp_y = []\n",
    "\n",
    "for i in range(y.shape[0]):\n",
    "    if y[i] in top_atc:\n",
    "        temp_x.append(X[i])\n",
    "        temp_y.append(y[i])\n",
    "        \n",
    "X = np.asarray(temp_x)\n",
    "y = np.asarray(temp_y)\n",
    "\n",
    "oeAtc = OneHotEncoder()\n",
    "y = oeAtc.fit(y.reshape(-1, 1))\n",
    "\n",
    "atc_labels = le.inverse_transform(np.unique(y))"
   ]
  },
  {
   "cell_type": "code",
   "execution_count": 156,
   "metadata": {},
   "outputs": [],
   "source": [
    "class Network:\n",
    "    def __init__(self, num_classes):\n",
    "        self.model = Sequential()\n",
    "        self.model.add(Dense(50, input_dim=300, activation='relu'))\n",
    "        self.model.add(Dense(50, input_dim=300, activation='relu'))\n",
    "        self.model.add(Dense(50, activation='relu'))\n",
    "        self.model.add(Dense(num_classes, activation='softmax'))\n",
    "        self.model.compile(optimizer='adam', loss='categorical_crossentropy', metrics=['accuracy'])\n",
    "        print(self.model.summary())\n",
    "        \n",
    "    def train(self, X, y, X_test, y_test, epochs=20):\n",
    "        self.model.fit(X, y, epochs=epochs, validation_data=(X_test, y_test))\n",
    "    \n",
    "    def test(self, X, y):\n",
    "        y_pred = self.model.predict(X).argmax(axis=1)\n",
    "        y_true = y.argmax(axis=1)\n",
    "        accuracy(y_true, y_pred)\n",
    "        "
   ]
  },
  {
   "cell_type": "code",
   "execution_count": 157,
   "metadata": {},
   "outputs": [
    {
     "name": "stdout",
     "output_type": "stream",
     "text": [
      "WARNING:tensorflow:From /home/kavya/anaconda3/lib/python3.6/site-packages/tensorflow/python/framework/op_def_library.py:263: colocate_with (from tensorflow.python.framework.ops) is deprecated and will be removed in a future version.\n",
      "Instructions for updating:\n",
      "Colocations handled automatically by placer.\n",
      "_________________________________________________________________\n",
      "Layer (type)                 Output Shape              Param #   \n",
      "=================================================================\n",
      "dense_1 (Dense)              (None, 50)                15050     \n",
      "_________________________________________________________________\n",
      "dense_2 (Dense)              (None, 50)                2550      \n",
      "_________________________________________________________________\n",
      "dense_3 (Dense)              (None, 50)                2550      \n",
      "_________________________________________________________________\n",
      "dense_4 (Dense)              (None, 14)                714       \n",
      "=================================================================\n",
      "Total params: 20,864\n",
      "Trainable params: 20,864\n",
      "Non-trainable params: 0\n",
      "_________________________________________________________________\n",
      "None\n"
     ]
    }
   ],
   "source": [
    "network = Network(len(atc_labels))"
   ]
  },
  {
   "cell_type": "code",
   "execution_count": 158,
   "metadata": {},
   "outputs": [
    {
     "ename": "ValueError",
     "evalue": "Error when checking target: expected dense_4 to have shape (14,) but got array with shape (1,)",
     "output_type": "error",
     "traceback": [
      "\u001b[0;31m---------------------------------------------------------------------------\u001b[0m",
      "\u001b[0;31mValueError\u001b[0m                                Traceback (most recent call last)",
      "\u001b[0;32m<ipython-input-158-b7dab4368b8f>\u001b[0m in \u001b[0;36m<module>\u001b[0;34m()\u001b[0m\n\u001b[0;32m----> 1\u001b[0;31m \u001b[0mnetwork\u001b[0m\u001b[0;34m.\u001b[0m\u001b[0mtrain\u001b[0m\u001b[0;34m(\u001b[0m\u001b[0mX_train\u001b[0m\u001b[0;34m,\u001b[0m \u001b[0my_train\u001b[0m\u001b[0;34m,\u001b[0m \u001b[0mX_test\u001b[0m\u001b[0;34m,\u001b[0m \u001b[0my_test\u001b[0m\u001b[0;34m,\u001b[0m \u001b[0mepochs\u001b[0m\u001b[0;34m=\u001b[0m\u001b[0;36m10\u001b[0m\u001b[0;34m)\u001b[0m\u001b[0;34m\u001b[0m\u001b[0m\n\u001b[0m",
      "\u001b[0;32m<ipython-input-156-60b4b05e2e4e>\u001b[0m in \u001b[0;36mtrain\u001b[0;34m(self, X, y, X_test, y_test, epochs)\u001b[0m\n\u001b[1;32m     10\u001b[0m \u001b[0;34m\u001b[0m\u001b[0m\n\u001b[1;32m     11\u001b[0m     \u001b[0;32mdef\u001b[0m \u001b[0mtrain\u001b[0m\u001b[0;34m(\u001b[0m\u001b[0mself\u001b[0m\u001b[0;34m,\u001b[0m \u001b[0mX\u001b[0m\u001b[0;34m,\u001b[0m \u001b[0my\u001b[0m\u001b[0;34m,\u001b[0m \u001b[0mX_test\u001b[0m\u001b[0;34m,\u001b[0m \u001b[0my_test\u001b[0m\u001b[0;34m,\u001b[0m \u001b[0mepochs\u001b[0m\u001b[0;34m=\u001b[0m\u001b[0;36m20\u001b[0m\u001b[0;34m)\u001b[0m\u001b[0;34m:\u001b[0m\u001b[0;34m\u001b[0m\u001b[0m\n\u001b[0;32m---> 12\u001b[0;31m         \u001b[0mself\u001b[0m\u001b[0;34m.\u001b[0m\u001b[0mmodel\u001b[0m\u001b[0;34m.\u001b[0m\u001b[0mfit\u001b[0m\u001b[0;34m(\u001b[0m\u001b[0mX\u001b[0m\u001b[0;34m,\u001b[0m \u001b[0my\u001b[0m\u001b[0;34m,\u001b[0m \u001b[0mepochs\u001b[0m\u001b[0;34m=\u001b[0m\u001b[0mepochs\u001b[0m\u001b[0;34m,\u001b[0m \u001b[0mvalidation_data\u001b[0m\u001b[0;34m=\u001b[0m\u001b[0;34m(\u001b[0m\u001b[0mX_test\u001b[0m\u001b[0;34m,\u001b[0m \u001b[0my_test\u001b[0m\u001b[0;34m)\u001b[0m\u001b[0;34m)\u001b[0m\u001b[0;34m\u001b[0m\u001b[0m\n\u001b[0m\u001b[1;32m     13\u001b[0m \u001b[0;34m\u001b[0m\u001b[0m\n\u001b[1;32m     14\u001b[0m     \u001b[0;32mdef\u001b[0m \u001b[0mtest\u001b[0m\u001b[0;34m(\u001b[0m\u001b[0mself\u001b[0m\u001b[0;34m,\u001b[0m \u001b[0mX\u001b[0m\u001b[0;34m,\u001b[0m \u001b[0my\u001b[0m\u001b[0;34m)\u001b[0m\u001b[0;34m:\u001b[0m\u001b[0;34m\u001b[0m\u001b[0m\n",
      "\u001b[0;32m~/anaconda3/lib/python3.6/site-packages/keras/engine/training.py\u001b[0m in \u001b[0;36mfit\u001b[0;34m(self, x, y, batch_size, epochs, verbose, callbacks, validation_split, validation_data, shuffle, class_weight, sample_weight, initial_epoch, steps_per_epoch, validation_steps, **kwargs)\u001b[0m\n\u001b[1;32m    950\u001b[0m             \u001b[0msample_weight\u001b[0m\u001b[0;34m=\u001b[0m\u001b[0msample_weight\u001b[0m\u001b[0;34m,\u001b[0m\u001b[0;34m\u001b[0m\u001b[0m\n\u001b[1;32m    951\u001b[0m             \u001b[0mclass_weight\u001b[0m\u001b[0;34m=\u001b[0m\u001b[0mclass_weight\u001b[0m\u001b[0;34m,\u001b[0m\u001b[0;34m\u001b[0m\u001b[0m\n\u001b[0;32m--> 952\u001b[0;31m             batch_size=batch_size)\n\u001b[0m\u001b[1;32m    953\u001b[0m         \u001b[0;31m# Prepare validation data.\u001b[0m\u001b[0;34m\u001b[0m\u001b[0;34m\u001b[0m\u001b[0m\n\u001b[1;32m    954\u001b[0m         \u001b[0mdo_validation\u001b[0m \u001b[0;34m=\u001b[0m \u001b[0;32mFalse\u001b[0m\u001b[0;34m\u001b[0m\u001b[0m\n",
      "\u001b[0;32m~/anaconda3/lib/python3.6/site-packages/keras/engine/training.py\u001b[0m in \u001b[0;36m_standardize_user_data\u001b[0;34m(self, x, y, sample_weight, class_weight, check_array_lengths, batch_size)\u001b[0m\n\u001b[1;32m    787\u001b[0m                 \u001b[0mfeed_output_shapes\u001b[0m\u001b[0;34m,\u001b[0m\u001b[0;34m\u001b[0m\u001b[0m\n\u001b[1;32m    788\u001b[0m                 \u001b[0mcheck_batch_axis\u001b[0m\u001b[0;34m=\u001b[0m\u001b[0;32mFalse\u001b[0m\u001b[0;34m,\u001b[0m  \u001b[0;31m# Don't enforce the batch size.\u001b[0m\u001b[0;34m\u001b[0m\u001b[0m\n\u001b[0;32m--> 789\u001b[0;31m                 exception_prefix='target')\n\u001b[0m\u001b[1;32m    790\u001b[0m \u001b[0;34m\u001b[0m\u001b[0m\n\u001b[1;32m    791\u001b[0m             \u001b[0;31m# Generate sample-wise weight values given the `sample_weight` and\u001b[0m\u001b[0;34m\u001b[0m\u001b[0;34m\u001b[0m\u001b[0m\n",
      "\u001b[0;32m~/anaconda3/lib/python3.6/site-packages/keras/engine/training_utils.py\u001b[0m in \u001b[0;36mstandardize_input_data\u001b[0;34m(data, names, shapes, check_batch_axis, exception_prefix)\u001b[0m\n\u001b[1;32m    136\u001b[0m                             \u001b[0;34m': expected '\u001b[0m \u001b[0;34m+\u001b[0m \u001b[0mnames\u001b[0m\u001b[0;34m[\u001b[0m\u001b[0mi\u001b[0m\u001b[0;34m]\u001b[0m \u001b[0;34m+\u001b[0m \u001b[0;34m' to have shape '\u001b[0m \u001b[0;34m+\u001b[0m\u001b[0;34m\u001b[0m\u001b[0m\n\u001b[1;32m    137\u001b[0m                             \u001b[0mstr\u001b[0m\u001b[0;34m(\u001b[0m\u001b[0mshape\u001b[0m\u001b[0;34m)\u001b[0m \u001b[0;34m+\u001b[0m \u001b[0;34m' but got array with shape '\u001b[0m \u001b[0;34m+\u001b[0m\u001b[0;34m\u001b[0m\u001b[0m\n\u001b[0;32m--> 138\u001b[0;31m                             str(data_shape))\n\u001b[0m\u001b[1;32m    139\u001b[0m     \u001b[0;32mreturn\u001b[0m \u001b[0mdata\u001b[0m\u001b[0;34m\u001b[0m\u001b[0m\n\u001b[1;32m    140\u001b[0m \u001b[0;34m\u001b[0m\u001b[0m\n",
      "\u001b[0;31mValueError\u001b[0m: Error when checking target: expected dense_4 to have shape (14,) but got array with shape (1,)"
     ]
    }
   ],
   "source": [
    "network.train(X_train, y_train, X_test, y_test, epochs=10)"
=======
    "atc"
>>>>>>> 2c64660dc08a4fe6ecb3d2f51c45b8e60bd0f071
   ]
  },
  {
   "cell_type": "code",
   "execution_count": null,
   "metadata": {
    "collapsed": true
   },
   "outputs": [],
   "source": []
  }
 ],
 "metadata": {
  "kernelspec": {
   "display_name": "Python 3",
   "language": "python",
   "name": "python3"
  },
  "language_info": {
   "codemirror_mode": {
    "name": "ipython",
    "version": 3
   },
   "file_extension": ".py",
   "mimetype": "text/x-python",
   "name": "python",
   "nbconvert_exporter": "python",
   "pygments_lexer": "ipython3",
   "version": "3.6.3"
  }
 },
 "nbformat": 4,
 "nbformat_minor": 2
}
