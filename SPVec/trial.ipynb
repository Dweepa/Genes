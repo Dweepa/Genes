{
 "cells": [
  {
   "cell_type": "code",
   "execution_count": 2,
   "metadata": {},
   "outputs": [
    {
     "name": "stderr",
     "output_type": "stream",
     "text": [
      "/home/kavya/anaconda3/lib/python3.6/site-packages/h5py/__init__.py:36: FutureWarning: Conversion of the second argument of issubdtype from `float` to `np.floating` is deprecated. In future, it will be treated as `np.float64 == np.dtype(float).type`.\n",
      "  from ._conv import register_converters as _register_converters\n",
      "Using TensorFlow backend.\n"
     ]
    }
   ],
   "source": [
    "import pandas as pd\n",
    "import pickle\n",
    "import requests\n",
    "import numpy as np\n",
    "import sys\n",
    "import matplotlib.pyplot as plt\n",
    "import seaborn as sns\n",
    "from collections import Counter\n",
    "import random\n",
    "from scipy.spatial.distance import cosine\n",
    "from sklearn.preprocessing import OneHotEncoder, LabelEncoder\n",
    "from chembl_webresource_client.new_client import new_client\n",
    "from keras.utils import to_categorical\n",
    "from keras.models import Sequential\n",
    "from keras.layers import Dense, Conv1D, Flatten, Reshape, GRU, SpatialDropout1D, LSTM, Dropout\n",
    "from keras.layers import BatchNormalization, MaxPool1D\n",
    "from sklearn.model_selection import train_test_split\n",
    "from sklearn.metrics import classification_report\n",
    "import matplotlib.pyplot as plt\n",
    "import seaborn as sns\n",
    "from sklearn.metrics import confusion_matrix"
   ]
  },
  {
   "cell_type": "code",
   "execution_count": 3,
   "metadata": {},
   "outputs": [],
   "source": [
    "df = pd.read_csv(\"../data/drug_class_identification/phase1/drugbank.csv\")\n",
    "df.head(100)\n",
    "df.drop(df[df.smiles.isna()].index, inplace = True)\n",
    "df.drop(df[df.atc.isna()].index, inplace = True)\n",
    "df.drop(df[[False if len(smile)<250 else True for smile in df.smiles]].index, inplace = True)"
   ]
  },
  {
   "cell_type": "code",
   "execution_count": 4,
   "metadata": {},
   "outputs": [],
   "source": [
    "df['atc1'] = [a[0] for a in df['atc']]"
   ]
  },
  {
   "cell_type": "code",
   "execution_count": 5,
   "metadata": {},
   "outputs": [
    {
     "data": {
      "text/html": [
       "<div>\n",
       "<style scoped>\n",
       "    .dataframe tbody tr th:only-of-type {\n",
       "        vertical-align: middle;\n",
       "    }\n",
       "\n",
       "    .dataframe tbody tr th {\n",
       "        vertical-align: top;\n",
       "    }\n",
       "\n",
       "    .dataframe thead th {\n",
       "        text-align: right;\n",
       "    }\n",
       "</style>\n",
       "<table border=\"1\" class=\"dataframe\">\n",
       "  <thead>\n",
       "    <tr style=\"text-align: right;\">\n",
       "      <th></th>\n",
       "      <th>name</th>\n",
       "      <th>atc</th>\n",
       "      <th>inchi_key</th>\n",
       "      <th>smiles</th>\n",
       "      <th>atc1</th>\n",
       "    </tr>\n",
       "  </thead>\n",
       "  <tbody>\n",
       "    <tr>\n",
       "      <th>13</th>\n",
       "      <td>goserelin</td>\n",
       "      <td>L02AE03</td>\n",
       "      <td>BLCLNMBMMGCOAS-URPVMXJPSA-N</td>\n",
       "      <td>CC(C)C[C@H](NC(=O)[C@@H](COC(C)(C)C)NC(=O)[C@H...</td>\n",
       "      <td>L</td>\n",
       "    </tr>\n",
       "    <tr>\n",
       "      <th>33</th>\n",
       "      <td>desmopressin</td>\n",
       "      <td>H01BA02</td>\n",
       "      <td>NFLWUMRGJYTJIN-NXBWRCJVSA-N</td>\n",
       "      <td>NC(=O)CC[C@@H]1NC(=O)[C@H](CC2=CC=CC=C2)NC(=O)...</td>\n",
       "      <td>H</td>\n",
       "    </tr>\n",
       "    <tr>\n",
       "      <th>47</th>\n",
       "      <td>cetrorelix</td>\n",
       "      <td>H01CC02</td>\n",
       "      <td>SBNPWPIBESPSIF-MHWMIDJBSA-N</td>\n",
       "      <td>CC(C)C[C@H](NC(=O)[C@@H](CCCNC(N)=O)NC(=O)[C@H...</td>\n",
       "      <td>H</td>\n",
       "    </tr>\n",
       "    <tr>\n",
       "      <th>84</th>\n",
       "      <td>ciclosporin</td>\n",
       "      <td>L04AD01</td>\n",
       "      <td>PMATZTZNYRCHOR-CGLBZJNRSA-N</td>\n",
       "      <td>CC[C@@H]1NC(=O)[C@H]([C@H](O)[C@H](C)C\\C=C\\C)N...</td>\n",
       "      <td>L</td>\n",
       "    </tr>\n",
       "    <tr>\n",
       "      <th>95</th>\n",
       "      <td>octreotide</td>\n",
       "      <td>H01CB02</td>\n",
       "      <td>DEQANNDTNATYII-OULOTJBUSA-N</td>\n",
       "      <td>[H][C@]1(NC(=O)[C@H](CCCCN)NC(=O)[C@@H](CC2=CN...</td>\n",
       "      <td>H</td>\n",
       "    </tr>\n",
       "  </tbody>\n",
       "</table>\n",
       "</div>"
      ],
      "text/plain": [
       "            name      atc                    inchi_key  \\\n",
       "13     goserelin  L02AE03  BLCLNMBMMGCOAS-URPVMXJPSA-N   \n",
       "33  desmopressin  H01BA02  NFLWUMRGJYTJIN-NXBWRCJVSA-N   \n",
       "47    cetrorelix  H01CC02  SBNPWPIBESPSIF-MHWMIDJBSA-N   \n",
       "84   ciclosporin  L04AD01  PMATZTZNYRCHOR-CGLBZJNRSA-N   \n",
       "95    octreotide  H01CB02  DEQANNDTNATYII-OULOTJBUSA-N   \n",
       "\n",
       "                                               smiles atc1  \n",
       "13  CC(C)C[C@H](NC(=O)[C@@H](COC(C)(C)C)NC(=O)[C@H...    L  \n",
       "33  NC(=O)CC[C@@H]1NC(=O)[C@H](CC2=CC=CC=C2)NC(=O)...    H  \n",
       "47  CC(C)C[C@H](NC(=O)[C@@H](CCCNC(N)=O)NC(=O)[C@H...    H  \n",
       "84  CC[C@@H]1NC(=O)[C@H]([C@H](O)[C@H](C)C\\C=C\\C)N...    L  \n",
       "95  [H][C@]1(NC(=O)[C@H](CCCCN)NC(=O)[C@@H](CC2=CN...    H  "
      ]
     },
     "execution_count": 5,
     "metadata": {},
     "output_type": "execute_result"
    }
   ],
   "source": [
    "df.head()"
   ]
  },
  {
   "cell_type": "code",
   "execution_count": 6,
   "metadata": {},
   "outputs": [
    {
     "data": {
      "text/html": [
       "<div>\n",
       "<style scoped>\n",
       "    .dataframe tbody tr th:only-of-type {\n",
       "        vertical-align: middle;\n",
       "    }\n",
       "\n",
       "    .dataframe tbody tr th {\n",
       "        vertical-align: top;\n",
       "    }\n",
       "\n",
       "    .dataframe thead th {\n",
       "        text-align: right;\n",
       "    }\n",
       "</style>\n",
       "<table border=\"1\" class=\"dataframe\">\n",
       "  <thead>\n",
       "    <tr style=\"text-align: right;\">\n",
       "      <th></th>\n",
       "      <th>name</th>\n",
       "      <th>atc</th>\n",
       "      <th>inchi_key</th>\n",
       "      <th>smiles</th>\n",
       "      <th>atc1</th>\n",
       "    </tr>\n",
       "  </thead>\n",
       "  <tbody>\n",
       "    <tr>\n",
       "      <th>count</th>\n",
       "      <td>2737</td>\n",
       "      <td>2737</td>\n",
       "      <td>2737</td>\n",
       "      <td>2737</td>\n",
       "      <td>2737</td>\n",
       "    </tr>\n",
       "    <tr>\n",
       "      <th>unique</th>\n",
       "      <td>2737</td>\n",
       "      <td>2640</td>\n",
       "      <td>2737</td>\n",
       "      <td>2737</td>\n",
       "      <td>14</td>\n",
       "    </tr>\n",
       "    <tr>\n",
       "      <th>top</th>\n",
       "      <td>cyclandelate</td>\n",
       "      <td>J01CR50</td>\n",
       "      <td>ZMZNLKYXLARXFY-UHFFFAOYSA-H</td>\n",
       "      <td>COCCCC\\C(=N/OCCN)C1=CC=C(C=C1)C(F)(F)F</td>\n",
       "      <td>N</td>\n",
       "    </tr>\n",
       "    <tr>\n",
       "      <th>freq</th>\n",
       "      <td>1</td>\n",
       "      <td>22</td>\n",
       "      <td>1</td>\n",
       "      <td>1</td>\n",
       "      <td>469</td>\n",
       "    </tr>\n",
       "  </tbody>\n",
       "</table>\n",
       "</div>"
      ],
      "text/plain": [
       "                name      atc                    inchi_key  \\\n",
       "count           2737     2737                         2737   \n",
       "unique          2737     2640                         2737   \n",
       "top     cyclandelate  J01CR50  ZMZNLKYXLARXFY-UHFFFAOYSA-H   \n",
       "freq               1       22                            1   \n",
       "\n",
       "                                        smiles  atc1  \n",
       "count                                     2737  2737  \n",
       "unique                                    2737    14  \n",
       "top     COCCCC\\C(=N/OCCN)C1=CC=C(C=C1)C(F)(F)F     N  \n",
       "freq                                         1   469  "
      ]
     },
     "execution_count": 6,
     "metadata": {},
     "output_type": "execute_result"
    }
   ],
   "source": [
    "df.describe()"
   ]
  },
  {
   "cell_type": "code",
   "execution_count": 7,
   "metadata": {},
   "outputs": [],
   "source": [
    "df['smiles'] = [smile.ljust(250, '*') for smile in df['smiles']] "
   ]
  },
  {
   "cell_type": "markdown",
   "metadata": {},
   "source": [
    "### One Hot Encoding"
   ]
  },
  {
   "cell_type": "code",
   "execution_count": 8,
   "metadata": {},
   "outputs": [],
   "source": [
    "vocabulary = set()\n",
    "allSmiles = \"\"\n",
    "for smile in df['smiles']:\n",
    "    allSmiles+=smile\n",
    "    for char in smile:\n",
    "        vocabulary.add(char)\n",
    "freq = Counter(allSmiles).most_common(25)"
   ]
  },
  {
   "cell_type": "code",
   "execution_count": 9,
   "metadata": {},
   "outputs": [],
   "source": [
    "vocabulary = [a for a,b in freq]"
   ]
  },
  {
   "cell_type": "code",
   "execution_count": 10,
   "metadata": {},
   "outputs": [
    {
     "data": {
      "text/plain": [
       "True"
      ]
     },
     "execution_count": 10,
     "metadata": {},
     "output_type": "execute_result"
    }
   ],
   "source": [
    "'*' in vocabulary"
   ]
  },
  {
   "cell_type": "code",
   "execution_count": 11,
   "metadata": {},
   "outputs": [
    {
     "data": {
      "text/plain": [
       "OneHotEncoder(categorical_features=None, categories=None,\n",
       "       dtype=<class 'numpy.float64'>, handle_unknown='ignore',\n",
       "       n_values=None, sparse=True)"
      ]
     },
     "execution_count": 11,
     "metadata": {},
     "output_type": "execute_result"
    }
   ],
   "source": [
    "oe = OneHotEncoder(handle_unknown='ignore')\n",
    "oe.fit(np.asarray(vocabulary).reshape(-1, 1))"
   ]
  },
  {
   "cell_type": "code",
   "execution_count": 12,
   "metadata": {},
   "outputs": [],
   "source": [
    "def encodeSmile(smile, oe):\n",
    "    word = []\n",
    "    for char in smile:\n",
    "        temp = list(oe.transform(np.asarray([char]).reshape(1, -1)).toarray()[0])\n",
    "        word = word + temp\n",
    "    return np.asarray(word, dtype=int)"
   ]
  },
  {
   "cell_type": "code",
   "execution_count": 13,
   "metadata": {},
   "outputs": [],
   "source": [
    "X = []\n",
    "X = [encodeSmile(smile, oe) for smile in df['smiles']]"
   ]
  },
  {
   "cell_type": "code",
   "execution_count": 14,
   "metadata": {},
   "outputs": [],
   "source": [
    "X = np.asarray(X)"
   ]
  },
  {
   "cell_type": "code",
   "execution_count": 15,
   "metadata": {},
   "outputs": [],
   "source": [
    "ATCclasssubset = ['A', 'J', 'N', 'C']\n",
    "num_classes = len(ATCclasssubset)\n",
    "\n",
    "X_df = pd.DataFrame(X)\n",
    "X_df['target'] = df['atc1']\n",
    "X_df = X_df[X_df['target'].isin(ATCclasssubset)]\n",
    "g = X_df.groupby('target')\n",
    "X_df = g.apply(lambda x: x.sample(g.size().min())).reset_index(drop=True)\n",
    "\n",
    "X = X_df[X_df.columns[:-1]]"
   ]
  },
  {
   "cell_type": "markdown",
   "metadata": {},
   "source": [
    "### Prepare Data"
   ]
  },
  {
   "cell_type": "code",
   "execution_count": 16,
   "metadata": {},
   "outputs": [],
   "source": [
    "oeAtc = OneHotEncoder()\n",
    "y = oeAtc.fit_transform(np.asarray(X_df['target']).reshape(-1, 1)).toarray()"
   ]
  },
  {
   "cell_type": "code",
   "execution_count": 17,
   "metadata": {},
   "outputs": [],
   "source": [
    "X_train, X_test, y_train, y_test = train_test_split(X, y, test_size=0.33, random_state=42)"
   ]
  },
  {
   "cell_type": "code",
   "execution_count": 18,
   "metadata": {},
   "outputs": [],
   "source": [
    "temp = [[0 for b in range(0, num_classes)] for a in range(0, num_classes)]\n",
    "for a in range(0, num_classes):\n",
    "    temp[a][a] = 1\n",
    "temp = np.asarray(temp)\n",
    "atc_classes = oeAtc.inverse_transform(temp).reshape(num_classes)"
   ]
  },
  {
   "cell_type": "markdown",
   "metadata": {},
   "source": [
    "### Helper function"
   ]
  },
  {
   "cell_type": "code",
   "execution_count": 19,
   "metadata": {},
   "outputs": [],
   "source": [
    "def accuracy(y_true, y_pred, atc_classes=atc_classes):\n",
    "    print(\"Overall Accuracy:\", np.sum(np.equal(y_true, y_pred))/y_true.shape[0])\n",
    "    matrix = confusion_matrix(y_true, y_pred)\n",
    "    print(classification_report(y_true, y_pred))\n",
    "    plt.figure(figsize=(10, 10))\n",
    "    sns.heatmap(matrix,annot=True,cbar=False, xticklabels=atc_classes, yticklabels=atc_classes)"
   ]
  },
  {
   "cell_type": "markdown",
   "metadata": {},
   "source": [
    "### Make the network"
   ]
  },
  {
   "cell_type": "code",
   "execution_count": 20,
   "metadata": {},
   "outputs": [],
   "source": [
    "class Network:\n",
    "    def __init__(self, num_classes):\n",
    "        self.model = Sequential()\n",
    "        self.model.add(Reshape((250, 25), input_shape=(6250, )))\n",
    "        self.model.add(Conv1D(192, 5, activation='relu', input_shape=(250, 25)))\n",
    "        self.model.add(MaxPool1D(5))\n",
    "        self.model.add(BatchNormalization())        \n",
    "#         self.model.add(Conv1D(192, 5, activation='relu'))\n",
    "        self.model.add(Conv1D(140, 3, activation='relu'))\n",
    "#         self.model.add(LSTM(70, dropout=0.7, recurrent_dropout=0.2, activation='selu', return_sequences=True,))\n",
    "#         self.model.add(LSTM(70, dropout=0.4, recurrent_dropout=0.2, activation='relu'))\n",
    "        self.model.add(Flatten())\n",
    "#         self.model.add(Dense(100, activation='relu'))\n",
    "        self.model.add(Dropout(rate=0.4))\n",
    "        self.model.add(Dense(num_classes, activation='softmax'))\n",
    "        self.model.compile(optimizer='adam', loss='categorical_crossentropy', metrics=['accuracy'])\n",
    "        print(self.model.summary())\n",
    "        \n",
    "    def train(self, X, y, X_test, y_test, epochs=20):\n",
    "        self.model.fit(X, y, epochs=epochs, validation_data=(X_test, y_test))\n",
    "    \n",
    "    def test(self, X, y):\n",
    "        y_pred = self.model.predict(X).argmax(axis=1)\n",
    "        y_true = y.argmax(axis=1)\n",
    "        accuracy(y_true, y_pred)\n",
    "        "
   ]
  },
  {
   "cell_type": "code",
   "execution_count": 21,
   "metadata": {},
   "outputs": [
    {
     "name": "stdout",
     "output_type": "stream",
     "text": [
      "WARNING:tensorflow:From /home/kavya/anaconda3/lib/python3.6/site-packages/tensorflow/python/framework/op_def_library.py:263: colocate_with (from tensorflow.python.framework.ops) is deprecated and will be removed in a future version.\n",
      "Instructions for updating:\n",
      "Colocations handled automatically by placer.\n",
      "WARNING:tensorflow:From /home/kavya/anaconda3/lib/python3.6/site-packages/keras/backend/tensorflow_backend.py:3445: calling dropout (from tensorflow.python.ops.nn_ops) with keep_prob is deprecated and will be removed in a future version.\n",
      "Instructions for updating:\n",
      "Please use `rate` instead of `keep_prob`. Rate should be set to `rate = 1 - keep_prob`.\n",
      "_________________________________________________________________\n",
      "Layer (type)                 Output Shape              Param #   \n",
      "=================================================================\n",
      "reshape_1 (Reshape)          (None, 250, 25)           0         \n",
      "_________________________________________________________________\n",
      "conv1d_1 (Conv1D)            (None, 246, 192)          24192     \n",
      "_________________________________________________________________\n",
      "max_pooling1d_1 (MaxPooling1 (None, 49, 192)           0         \n",
      "_________________________________________________________________\n",
      "batch_normalization_1 (Batch (None, 49, 192)           768       \n",
      "_________________________________________________________________\n",
      "conv1d_2 (Conv1D)            (None, 47, 140)           80780     \n",
      "_________________________________________________________________\n",
      "flatten_1 (Flatten)          (None, 6580)              0         \n",
      "_________________________________________________________________\n",
      "dropout_1 (Dropout)          (None, 6580)              0         \n",
      "_________________________________________________________________\n",
      "dense_1 (Dense)              (None, 4)                 26324     \n",
      "=================================================================\n",
      "Total params: 132,064\n",
      "Trainable params: 131,680\n",
      "Non-trainable params: 384\n",
      "_________________________________________________________________\n",
      "None\n"
     ]
    }
   ],
   "source": [
    "network = Network(num_classes)"
   ]
  },
  {
   "cell_type": "code",
   "execution_count": 23,
   "metadata": {},
   "outputs": [
    {
     "name": "stdout",
     "output_type": "stream",
     "text": [
      "Train on 324 samples, validate on 160 samples\n",
      "Epoch 1/10\n",
      "324/324 [==============================] - 1s 2ms/step - loss: 0.2078 - acc: 0.9599 - val_loss: 2.1527 - val_acc: 0.2062\n",
      "Epoch 2/10\n",
      "324/324 [==============================] - 1s 2ms/step - loss: 0.2053 - acc: 0.9630 - val_loss: 2.3420 - val_acc: 0.1812\n",
      "Epoch 3/10\n",
      "324/324 [==============================] - 1s 2ms/step - loss: 0.1547 - acc: 0.9753 - val_loss: 2.1887 - val_acc: 0.2062\n",
      "Epoch 4/10\n",
      "324/324 [==============================] - 1s 2ms/step - loss: 0.1156 - acc: 0.9938 - val_loss: 2.2724 - val_acc: 0.2125\n",
      "Epoch 5/10\n",
      "324/324 [==============================] - 1s 2ms/step - loss: 0.1114 - acc: 0.9877 - val_loss: 2.4466 - val_acc: 0.2000\n",
      "Epoch 6/10\n",
      "324/324 [==============================] - 1s 2ms/step - loss: 0.0913 - acc: 0.9877 - val_loss: 2.4426 - val_acc: 0.1812\n",
      "Epoch 7/10\n",
      "324/324 [==============================] - 1s 2ms/step - loss: 0.0815 - acc: 0.9907 - val_loss: 2.5356 - val_acc: 0.1812\n",
      "Epoch 8/10\n",
      "324/324 [==============================] - 1s 2ms/step - loss: 0.0643 - acc: 1.0000 - val_loss: 2.5925 - val_acc: 0.1625\n",
      "Epoch 9/10\n",
      "324/324 [==============================] - 1s 2ms/step - loss: 0.0625 - acc: 0.9907 - val_loss: 2.8104 - val_acc: 0.2188\n",
      "Epoch 10/10\n",
      "324/324 [==============================] - 1s 2ms/step - loss: 0.1228 - acc: 0.9815 - val_loss: 2.8199 - val_acc: 0.2500\n"
     ]
    }
   ],
   "source": [
    "network.train(X_train, y_train, X_test, y_test, epochs=10)"
   ]
  },
  {
   "cell_type": "code",
   "execution_count": 330,
   "metadata": {},
   "outputs": [
    {
     "name": "stdout",
     "output_type": "stream",
     "text": [
      "Overall Accuracy: 0.24375\n",
      "              precision    recall  f1-score   support\n",
      "\n",
      "           0       0.33      0.21      0.26        53\n",
      "           1       0.18      0.37      0.24        30\n",
      "           2       0.21      0.30      0.25        30\n",
      "           3       0.33      0.17      0.23        47\n",
      "\n",
      "   micro avg       0.24      0.24      0.24       160\n",
      "   macro avg       0.26      0.26      0.24       160\n",
      "weighted avg       0.28      0.24      0.24       160\n",
      "\n"
     ]
    },
    {
     "data": {
      "image/png": "[encoded data removed]",
      "text/plain": [
       "<Figure size 720x720 with 1 Axes>"
      ]
     },
     "metadata": {},
     "output_type": "display_data"
    }
   ],
   "source": [
    "s = network.test(X_test, y_test)"
   ]
  },
  {
   "cell_type": "code",
   "execution_count": null,
   "metadata": {},
   "outputs": [],
   "source": []
  }
 ],
 "metadata": {
  "kernelspec": {
   "display_name": "Python 3",
   "language": "python",
   "name": "python3"
  },
  "language_info": {
   "codemirror_mode": {
    "name": "ipython",
    "version": 3
   },
   "file_extension": ".py",
   "mimetype": "text/x-python",
   "name": "python",
   "nbconvert_exporter": "python",
   "pygments_lexer": "ipython3",
   "version": "3.6.5"
  }
 },
 "nbformat": 4,
 "nbformat_minor": 2
}
