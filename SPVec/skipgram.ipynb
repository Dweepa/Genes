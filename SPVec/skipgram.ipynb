{
 "cells": [
  {
   "cell_type": "code",
   "execution_count": 89,
   "metadata": {},
   "outputs": [],
   "source": [
    "import pickle\n",
    "from gensim.models import word2vec\n",
    "import numpy as np\n",
    "from sklearn.neighbors import KNeighborsClassifier\n",
    "from sklearn.model_selection import train_test_split\n",
    "\n",
    "import pandas as pd\n",
    "import pickle\n",
    "import requests\n",
    "import numpy as np\n",
    "import sys\n",
    "import matplotlib.pyplot as plt\n",
    "import seaborn as sns\n",
    "from collections import Counter\n",
    "import random\n",
    "from scipy.spatial.distance import cosine\n",
    "from sklearn.preprocessing import OneHotEncoder, LabelEncoder\n",
    "# from chembl_webresource_client.new_client import new_client\n",
    "from keras.utils import to_categorical\n",
    "from keras.models import Sequential\n",
    "from keras.layers import Dense, Conv1D, Flatten, Reshape, GRU, SpatialDropout1D, LSTM, Dropout\n",
    "from keras.layers import BatchNormalization, MaxPool1D\n",
    "from sklearn.model_selection import train_test_split\n",
    "from sklearn.metrics import classification_report\n",
    "import matplotlib.pyplot as plt\n",
    "import seaborn as sns\n",
    "from sklearn.ensemble import RandomForestClassifier\n",
    "from sklearn.metrics import confusion_matrix\n",
    "\n",
    "%matplotlib inline"
   ]
  },
  {
   "cell_type": "code",
   "execution_count": 3,
   "metadata": {
    "collapsed": true
   },
   "outputs": [],
   "source": [
    "with open(\"mol_sentences.pkl\", \"rb\") as file:\n",
    "    sentences = pickle.load(file)"
   ]
  },
  {
   "cell_type": "code",
   "execution_count": 4,
   "metadata": {},
   "outputs": [],
   "source": [
    "model = word2vec.Word2Vec.load('./model_300dim.pkl')"
   ]
  },
  {
   "cell_type": "code",
   "execution_count": 5,
   "metadata": {
    "collapsed": true
   },
   "outputs": [],
   "source": [
    "vectors = []\n",
    "\n",
    "for sentence in sentences:\n",
    "    vector = []\n",
    "    for word in sentence[3]:\n",
    "        try:\n",
    "            vector+=list(model.wv.word_vec(word))\n",
    "        except:\n",
    "            vector+=([0 for a in range(0, 300)])\n",
    "    vectors.append(vector)\n",
    "    \n",
    "vectors = np.asarray(vectors)"
   ]
  },
  {
   "cell_type": "code",
   "execution_count": 6,
   "metadata": {
    "collapsed": true
   },
   "outputs": [],
   "source": [
    "sum_vectors = []\n",
    "\n",
    "for vector in vectors:\n",
    "    arr = np.asarray(vector)\n",
    "    arr = arr.reshape((int(arr.shape[0]/300), 300) )\n",
    "    sum_vectors.append(arr.sum(axis=0))\n",
    "\n",
    "sum_vectors = np.asarray(sum_vectors)"
   ]
  },
  {
   "cell_type": "code",
   "execution_count": 7,
   "metadata": {
    "collapsed": true
   },
   "outputs": [],
   "source": [
    "atc = [a[1][0] for a in sentences]\n",
    "le = LabelEncoder()\n",
    "le.fit(atc)\n",
    "\n",
    "atc = le.transform(atc)"
   ]
  },
  {
   "cell_type": "code",
   "execution_count": 60,
   "metadata": {},
   "outputs": [
    {
     "name": "stderr",
     "output_type": "stream",
     "text": [
      "/home/kavya/anaconda3/lib/python3.6/site-packages/sklearn/preprocessing/label.py:151: DeprecationWarning: The truth value of an empty array is ambiguous. Returning False, but in future this will result in an error. Use `array.size > 0` to check that an array is not empty.\n",
      "  if diff:\n"
     ]
    }
   ],
   "source": [
    "X = sum_vectors\n",
    "y = atc\n",
    "\n",
    "atc_counter = Counter(y)\n",
    "top_atc = [9,2,6]#[a for a, _ in atc_counter.most_common(4)]\n",
    "\n",
    "temp_x = []\n",
    "temp_y = []\n",
    "\n",
    "for i in range(y.shape[0]):\n",
    "    if y[i] in top_atc:\n",
    "        temp_x.append(X[i])\n",
    "        temp_y.append(y[i])\n",
    "        \n",
    "X = np.asarray(temp_x)\n",
    "y = np.asarray(temp_y)\n",
    "\n",
    "atc_labels = le.inverse_transform(np.unique(y))"
   ]
  },
  {
   "cell_type": "code",
   "execution_count": 85,
   "metadata": {
    "collapsed": true
   },
   "outputs": [],
   "source": [
    "X_train, X_test, y_train, y_test = train_test_split(X, y, test_size=0.3, random_state=int(random.random()*100))"
   ]
  },
  {
   "cell_type": "code",
   "execution_count": 86,
   "metadata": {},
   "outputs": [
    {
     "data": {
      "text/plain": [
       "KNeighborsClassifier(algorithm='auto', leaf_size=30, metric='minkowski',\n",
       "           metric_params=None, n_jobs=1, n_neighbors=5, p=2,\n",
       "           weights='uniform')"
      ]
     },
     "execution_count": 86,
     "metadata": {},
     "output_type": "execute_result"
    }
   ],
   "source": [
    "neigh = KNeighborsClassifier(n_neighbors=5)\n",
    "neigh.fit(X_train, y_train)"
   ]
  },
  {
   "cell_type": "code",
   "execution_count": 87,
   "metadata": {
    "collapsed": true
   },
   "outputs": [],
   "source": [
    "def accuracy(y_true, y_pred, atc_labels=atc_labels):\n",
    "    print(\"Overall Accuracy:\", np.sum(np.equal(y_true, y_pred))/y_true.shape[0])\n",
    "    matrix = confusion_matrix(y_true, y_pred)\n",
    "    print(classification_report(y_true, y_pred))\n",
    "    plt.figure(figsize=(10, 10))\n",
    "    sns.heatmap(matrix, annot=True,cbar=False, xticklabels=atc_labels, yticklabels=atc_labels)"
   ]
  },
  {
   "cell_type": "code",
   "execution_count": 88,
   "metadata": {
    "scrolled": false
   },
   "outputs": [
    {
     "name": "stdout",
     "output_type": "stream",
     "text": [
      "Overall Accuracy: 0.8006042296072508\n",
      "             precision    recall  f1-score   support\n",
      "\n",
      "          2       0.67      0.76      0.71        86\n",
      "          6       0.79      0.92      0.85        84\n",
      "          9       0.90      0.76      0.83       161\n",
      "\n",
      "avg / total       0.81      0.80      0.80       331\n",
      "\n"
     ]
    },
    {
     "data": {
      "image/png": "[encoded data removed]",
      "text/plain": [
       "<Figure size 720x720 with 1 Axes>"
      ]
     },
     "metadata": {},
     "output_type": "display_data"
    }
   ],
   "source": [
    "y_pred = neigh.predict(X_test)\n",
    "accuracy(y_pred, y_test, atc_labels)"
   ]
  },
  {
   "cell_type": "code",
   "execution_count": 27,
   "metadata": {},
   "outputs": [
    {
     "name": "stderr",
     "output_type": "stream",
     "text": [
      "/home/kavya/anaconda3/lib/python3.6/site-packages/sklearn/preprocessing/label.py:151: DeprecationWarning: The truth value of an empty array is ambiguous. Returning False, but in future this will result in an error. Use `array.size > 0` to check that an array is not empty.\n",
      "  if diff:\n"
     ]
    }
   ],
   "source": [
    "X = sum_vectors\n",
    "y = atc\n",
    "\n",
    "atc_counter = Counter(y)\n",
    "top_atc = [a for a, _ in atc_counter.most_common(3)]\n",
    "\n",
    "temp_x = []\n",
    "temp_y = []\n",
    "\n",
    "for i in range(y.shape[0]):\n",
    "    if y[i] in top_atc:\n",
    "        temp_x.append(X[i])\n",
    "        temp_y.append(y[i])\n",
    "        \n",
    "X = np.asarray(temp_x)\n",
    "y = np.asarray(temp_y)\n",
    "\n",
    "atc_labels = le.inverse_transform(np.unique(y))\n",
    "\n",
    "oeAtc = OneHotEncoder(sparse=False)\n",
    "oeAtc.fit(y.reshape(-1, 1))\n",
    "y = oeAtc.transform(y.reshape(-1, 1))\n",
    "\n",
    "X_train, X_test, y_train, y_test = train_test_split(X, y, test_size=0.3, random_state=int(random.random()*100))"
   ]
  },
  {
   "cell_type": "code",
   "execution_count": 28,
   "metadata": {
    "collapsed": true
   },
   "outputs": [],
   "source": [
    "class Network:\n",
    "    def __init__(self, num_classes):\n",
    "        self.model = Sequential()\n",
    "        self.model.add(Dense(50, input_dim=300, activation='relu'))\n",
    "        self.model.add(Dense(50, activation='relu'))\n",
    "        self.model.add(Dense(50, activation='relu'))\n",
    "        self.model.add(Dense(num_classes, activation='softmax'))\n",
    "        self.model.compile(optimizer='adam', loss='categorical_crossentropy', metrics=['accuracy'])\n",
    "        print(self.model.summary())\n",
    "        \n",
    "    def train(self, X, y, X_test, y_test, epochs=20):\n",
    "        self.model.fit(X, y, epochs=epochs, validation_data=(X_test, y_test))\n",
    "    \n",
    "    def test(self, X, y):\n",
    "        y_pred = self.model.predict(X).argmax(axis=1)\n",
    "        y_true = y.argmax(axis=1)\n",
    "        accuracy(y_true, y_pred)\n",
    "        "
   ]
  },
  {
   "cell_type": "code",
   "execution_count": 29,
   "metadata": {},
   "outputs": [
    {
     "name": "stdout",
     "output_type": "stream",
     "text": [
      "_________________________________________________________________\n",
      "Layer (type)                 Output Shape              Param #   \n",
      "=================================================================\n",
      "dense_5 (Dense)              (None, 50)                15050     \n",
      "_________________________________________________________________\n",
      "dense_6 (Dense)              (None, 50)                2550      \n",
      "_________________________________________________________________\n",
      "dense_7 (Dense)              (None, 50)                2550      \n",
      "_________________________________________________________________\n",
      "dense_8 (Dense)              (None, 3)                 153       \n",
      "=================================================================\n",
      "Total params: 20,303\n",
      "Trainable params: 20,303\n",
      "Non-trainable params: 0\n",
      "_________________________________________________________________\n",
      "None\n"
     ]
    }
   ],
   "source": [
    "network = Network(len(atc_labels))"
   ]
  },
  {
   "cell_type": "code",
   "execution_count": 30,
   "metadata": {},
   "outputs": [
    {
     "name": "stdout",
     "output_type": "stream",
     "text": [
      "WARNING:tensorflow:From /home/kavya/anaconda3/lib/python3.6/site-packages/tensorflow/python/ops/math_ops.py:3066: to_int32 (from tensorflow.python.ops.math_ops) is deprecated and will be removed in a future version.\n",
      "Instructions for updating:\n",
      "Use tf.cast instead.\n",
      "Train on 789 samples, validate on 339 samples\n",
      "Epoch 1/10\n",
      "789/789 [==============================] - 2s 2ms/step - loss: 1.2462 - acc: 0.4487 - val_loss: 0.9972 - val_acc: 0.5605\n",
      "Epoch 2/10\n",
      "789/789 [==============================] - 0s 74us/step - loss: 0.9862 - acc: 0.5133 - val_loss: 0.9229 - val_acc: 0.5959\n",
      "Epoch 3/10\n",
      "789/789 [==============================] - 0s 61us/step - loss: 0.9011 - acc: 0.5805 - val_loss: 0.8896 - val_acc: 0.6313\n",
      "Epoch 4/10\n",
      "789/789 [==============================] - 0s 85us/step - loss: 0.8234 - acc: 0.6324 - val_loss: 0.8674 - val_acc: 0.6224\n",
      "Epoch 5/10\n",
      "789/789 [==============================] - 0s 80us/step - loss: 0.8117 - acc: 0.6464 - val_loss: 0.8903 - val_acc: 0.6018\n",
      "Epoch 6/10\n",
      "789/789 [==============================] - 0s 65us/step - loss: 0.7850 - acc: 0.6578 - val_loss: 0.8775 - val_acc: 0.6224\n",
      "Epoch 7/10\n",
      "789/789 [==============================] - 0s 81us/step - loss: 0.7534 - acc: 0.6755 - val_loss: 0.8348 - val_acc: 0.6549\n",
      "Epoch 8/10\n",
      "789/789 [==============================] - 0s 88us/step - loss: 0.6967 - acc: 0.6984 - val_loss: 0.8783 - val_acc: 0.6401\n",
      "Epoch 9/10\n",
      "789/789 [==============================] - 0s 75us/step - loss: 0.7011 - acc: 0.6996 - val_loss: 0.8431 - val_acc: 0.6254\n",
      "Epoch 10/10\n",
      "789/789 [==============================] - 0s 66us/step - loss: 0.6885 - acc: 0.7186 - val_loss: 0.9040 - val_acc: 0.6313\n"
     ]
    }
   ],
   "source": [
    "network.train(X_train, y_train, X_test, y_test, epochs=10)"
   ]
  },
  {
   "cell_type": "code",
   "execution_count": 31,
   "metadata": {},
   "outputs": [
    {
     "name": "stdout",
     "output_type": "stream",
     "text": [
      "Overall Accuracy: 0.6312684365781711\n",
      "             precision    recall  f1-score   support\n",
      "\n",
      "          0       0.76      0.35      0.48       100\n",
      "          1       0.51      0.78      0.62        92\n",
      "          2       0.70      0.73      0.72       147\n",
      "\n",
      "avg / total       0.67      0.63      0.62       339\n",
      "\n"
     ]
    },
    {
     "data": {
      "image/png": "[encoded data removed]",
      "text/plain": [
       "<Figure size 720x720 with 1 Axes>"
      ]
     },
     "metadata": {},
     "output_type": "display_data"
    }
   ],
   "source": [
    "s = network.test(X_test, y_test)"
   ]
  },
  {
   "cell_type": "code",
   "execution_count": 199,
   "metadata": {},
   "outputs": [
    {
     "data": {
      "text/plain": [
       "array([[ -4.75496054, -10.4296627 ,  -7.99642181, ..., -34.99038696,\n",
       "        -43.00680923,  -6.82294369],\n",
       "       [  2.17881417,  -7.84141874,  -2.18737435, ..., -23.33225822,\n",
       "        -46.16866684,  -2.20392513],\n",
       "       [ -6.64861727, -13.28558826,  -8.4565897 , ..., -36.02462387,\n",
       "        -46.71065903,  -6.32206917],\n",
       "       ..., \n",
       "       [ -1.34862363,  -6.26717758,  -7.62388563, ..., -31.92769432,\n",
       "        -51.0817337 ,  -5.77554989],\n",
       "       [  0.60033071,  -2.32285595,  -2.30074096, ...,  -1.22332311,\n",
       "         -7.74127626,  -0.56419826],\n",
       "       [  1.34407198,  -6.84478283,  -1.78270006, ...,  -2.31541252,\n",
       "        -10.56662655,   0.38672185]])"
      ]
     },
     "execution_count": 199,
     "metadata": {},
     "output_type": "execute_result"
    }
   ],
   "source": [
    "X"
   ]
  },
  {
   "cell_type": "code",
   "execution_count": 201,
   "metadata": {},
   "outputs": [
    {
     "data": {
      "text/plain": [
       "array(['L', 'H', 'H', ..., 'S', 'P', 'C'],\n",
       "      dtype='<U1')"
      ]
     },
     "execution_count": 201,
     "metadata": {},
     "output_type": "execute_result"
    }
   ],
   "source": [
    "le.inverse_transform(y)"
   ]
  },
  {
   "cell_type": "code",
   "execution_count": 202,
   "metadata": {
    "collapsed": true
   },
   "outputs": [],
   "source": [
    "import pickle"
   ]
  },
  {
   "cell_type": "code",
   "execution_count": 205,
   "metadata": {
    "collapsed": true
   },
   "outputs": [],
   "source": [
    "with open(\"embeddings_y.pkl\", \"wb\") as file:\n",
    "    pickle.dump(y, file)"
   ]
  },
  {
   "cell_type": "code",
   "execution_count": 44,
   "metadata": {},
   "outputs": [
    {
     "data": {
      "text/plain": [
       "[(9, 469), (2, 344), (0, 315), (6, 288)]"
      ]
     },
     "execution_count": 44,
     "metadata": {},
     "output_type": "execute_result"
    }
   ],
   "source": [
    "Counter(atc).most_common(4)"
   ]
  },
  {
   "cell_type": "code",
   "execution_count": null,
   "metadata": {
    "collapsed": true
   },
   "outputs": [],
   "source": []
  }
 ],
 "metadata": {
  "kernelspec": {
   "display_name": "Python 3",
   "language": "python",
   "name": "python3"
  }
 },
 "nbformat": 4,
 "nbformat_minor": 2
}
