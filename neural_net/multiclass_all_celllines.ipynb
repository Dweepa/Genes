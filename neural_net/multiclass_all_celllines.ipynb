{
 "cells": [
  {
   "cell_type": "code",
   "execution_count": 109,
   "metadata": {
    "collapsed": true
   },
   "outputs": [],
   "source": [
    "import pandas as pd\n",
    "from keras.models import Sequential\n",
    "from keras.layers import Dense,  Flatten, Activation, Dropout\n",
    "from keras.wrappers.scikit_learn import KerasClassifier\n",
    "from keras.utils import np_utils\n",
    "from sklearn.model_selection import cross_val_score\n",
    "from sklearn.model_selection import KFold\n",
    "from sklearn.preprocessing import LabelEncoder\n",
    "from sklearn.pipeline import Pipeline\n",
    "import numpy as np\n",
    "from sklearn.model_selection import train_test_split\n",
    "from sklearn import preprocessing\n",
    "from keras.regularizers import l2"
   ]
  },
  {
   "cell_type": "code",
   "execution_count": 3,
   "metadata": {
    "collapsed": true
   },
   "outputs": [],
   "source": [
    "df = pd.read_csv(\"../data/full_geneexp_phase2_1004.csv\")\n",
    "df = df.drop([\"Unnamed: 0\",\"Unnamed: 0.1\",\"Unnamed: 0.1.1\"],axis=1)"
   ]
  },
  {
   "cell_type": "code",
   "execution_count": 110,
   "metadata": {
    "collapsed": true
   },
   "outputs": [],
   "source": [
    "def baseline_model(output_len, input_len = 978):\n",
    "    model = Sequential()\n",
    "    model.add(Dense(20, input_dim=input_len, activation='relu', kernel_regularizer=l2(0.01), bias_regularizer=l2(0.01)))\n",
    "    model.add(Dense(10, input_dim=input_len, activation='relu', kernel_regularizer=l2(0.01), bias_regularizer=l2(0.01)))\n",
    "    model.add(Dropout(0.5))\n",
    "    model.add(Dense(10, input_dim=input_len, activation='relu', kernel_regularizer=l2(0.01), bias_regularizer=l2(0.01)))\n",
    "    model.add(Dropout(0.5))\n",
    "    model.add(Dense(5, input_dim=input_len, activation='relu', kernel_regularizer=l2(0.01), bias_regularizer=l2(0.01)))\n",
    "    model.add(Dense(output_len, activation='softmax'))\n",
    "    model.compile(loss='sparse_categorical_crossentropy', optimizer='adam', metrics=['accuracy'])\n",
    "    return model"
   ]
  },
  {
   "cell_type": "code",
   "execution_count": 111,
   "metadata": {
    "collapsed": true
   },
   "outputs": [],
   "source": [
    "def run(X,y,output_len):\n",
    "    # output_len is number of perturbagens for that particular cell line.\n",
    "    le = preprocessing.LabelEncoder()\n",
    "    y1 = le.fit_transform(y)\n",
    "    \n",
    "    X_train, X_test, y_train, y_test = train_test_split(X, y1)\n",
    "    print(\"X_train: \",len(X_train),\" X_test: \",len(X_test))\n",
    "    \n",
    "    model = baseline_model(output_len)\n",
    "    model.fit(X_train, y_train, epochs=100, verbose=0)\n",
    "    acc = model.evaluate(X_test, y_test)\n",
    "    return acc"
   ]
  },
  {
   "cell_type": "code",
   "execution_count": 112,
   "metadata": {},
   "outputs": [
    {
     "name": "stdout",
     "output_type": "stream",
     "text": [
      "celline | targets | atc | total | atc class list\n",
      "MCF7 778 14 6630 - ['A' 'B' 'C' 'D' 'G' 'H' 'J' 'L' 'M' 'N' 'P' 'R' 'S' 'V']\n",
      "X_train:  4972  X_test:  1658\n",
      "1658/1658 [==============================] - 2s 1ms/step\n",
      "X_train:  4972  X_test:  1658\n",
      "1658/1658 [==============================] - 2s 1ms/step\n",
      "Target acc:  [5.958439372560803, 0.10494571777714463]\n",
      "ATC acc:  [2.550625259252164, 0.2822677927008584] \n",
      "\n",
      "\n",
      "PC3 778 14 6515 - ['A' 'B' 'C' 'D' 'G' 'H' 'J' 'L' 'M' 'N' 'P' 'R' 'S' 'V']\n",
      "X_train:  4886  X_test:  1629\n",
      "1629/1629 [==============================] - 2s 1ms/step\n",
      "X_train:  4886  X_test:  1629\n",
      "1629/1629 [==============================] - 4s 2ms/step\n",
      "Target acc:  [6.0748848458460465, 0.07734806629376882]\n",
      "ATC acc:  [2.820539320810504, 0.24984653139494914] \n",
      "\n",
      "\n",
      "HA1E 774 14 6414 - ['A' 'B' 'C' 'D' 'G' 'H' 'J' 'L' 'M' 'N' 'P' 'R' 'S' 'V']\n",
      "X_train:  4810  X_test:  1604\n",
      "1604/1604 [==============================] - 3s 2ms/step\n",
      "X_train:  4810  X_test:  1604\n",
      "1604/1604 [==============================] - 2s 2ms/step\n",
      "Target acc:  [5.634307127641026, 0.09788029925187032]\n",
      "ATC acc:  [2.9405700125896423, 0.24189526184538654] \n",
      "\n",
      "\n",
      "A375 782 14 6503 - ['A' 'B' 'C' 'D' 'G' 'H' 'J' 'L' 'M' 'N' 'P' 'R' 'S' 'V']\n",
      "X_train:  4877  X_test:  1626\n",
      "1626/1626 [==============================] - 2s 2ms/step\n",
      "X_train:  4877  X_test:  1626\n",
      "1626/1626 [==============================] - 3s 2ms/step\n",
      "Target acc:  [5.930403845483233, 0.08548585490437012]\n",
      "ATC acc:  [2.8842062398809643, 0.2361623616969307] \n",
      "\n",
      "\n",
      "HT29 774 14 6432 - ['A' 'B' 'C' 'D' 'G' 'H' 'J' 'L' 'M' 'N' 'P' 'R' 'S' 'V']\n",
      "X_train:  4824  X_test:  1608\n",
      "1608/1608 [==============================] - 3s 2ms/step\n",
      "X_train:  4824  X_test:  1608\n",
      "1608/1608 [==============================] - 3s 2ms/step\n",
      "Target acc:  [6.180356519139228, 0.05783582089552239]\n",
      "ATC acc:  [2.9083483503825627, 0.24875621890547264] \n",
      "\n",
      "\n",
      "YAPC 763 14 6150 - ['A' 'B' 'C' 'D' 'G' 'H' 'J' 'L' 'M' 'N' 'P' 'R' 'S' 'V']\n",
      "X_train:  4612  X_test:  1538\n",
      "1538/1538 [==============================] - 3s 2ms/step\n",
      "X_train:  4612  X_test:  1538\n",
      "1538/1538 [==============================] - 3s 2ms/step\n",
      "Target acc:  [6.159700536293853, 0.07282184655396619]\n",
      "ATC acc:  [2.9690683815042127, 0.22626788036410922] \n",
      "\n",
      "\n",
      "HELA 763 14 6142 - ['A' 'B' 'C' 'D' 'G' 'H' 'J' 'L' 'M' 'N' 'P' 'R' 'S' 'V']\n",
      "X_train:  4606  X_test:  1536\n",
      "1536/1536 [==============================] - 3s 2ms/step\n",
      "X_train:  4606  X_test:  1536\n",
      "1536/1536 [==============================] - 3s 2ms/step\n",
      "Target acc:  [6.138878325621287, 0.06901041666666667]\n",
      "ATC acc:  [3.0416995137929916, 0.1875] \n",
      "\n",
      "\n"
     ]
    }
   ],
   "source": [
    "# Make individual datasets for the top 10 cell lines\n",
    "top10 = ['MCF7',\"PC3\",'HA1E','A375','HT29','YAPC','HELA']\n",
    "toDrop = ['smiles','name','id','inchi_key','signature','celline']\n",
    "\n",
    "def getATCclass(x):\n",
    "    return x[0]\n",
    "\n",
    "print(\"celline | targets | atc | total | atc class list\")\n",
    "for i in top10:\n",
    "    cl = df[df['celline']==i]\n",
    "    cl = cl.drop(toDrop, axis=1)\n",
    "    atc_letter = cl['atc'].apply(getATCclass)\n",
    "    output_len_target = len(np.unique(cl['target']))\n",
    "    output_len_atc = len(np.unique(atc_letter))\n",
    "    print(i,output_len_target,output_len_atc, len(cl), end=\" - \")\n",
    "    print(np.unique(atc_letter.tolist()))\n",
    "    \n",
    "    cl_dropped = cl.drop(['atc', 'target'], axis = 1)\n",
    "    X = cl_dropped\n",
    "    y_atc = atc_letter.tolist()\n",
    "    y_target = cl['target'].tolist()\n",
    "    \n",
    "    acc_atc = run(X, y_atc, output_len_atc)\n",
    "    acc_target = run(X, y_target, output_len_target)\n",
    "    \n",
    "    print(\"Target acc: \", acc_target)\n",
    "    print(\"ATC acc: \", acc_atc,\"\\n\\n\")"
   ]
  },
  {
   "cell_type": "code",
   "execution_count": 68,
   "metadata": {
    "collapsed": true
   },
   "outputs": [],
   "source": [
    "X = df.drop(toDrop + ['atc','target'], axis=1)\n",
    "y = df['target'].tolist()\n",
    "le = preprocessing.LabelEncoder()\n",
    "y1 = le.fit_transform(y)"
   ]
  },
  {
   "cell_type": "code",
   "execution_count": 75,
   "metadata": {},
   "outputs": [
    {
     "name": "stdout",
     "output_type": "stream",
     "text": [
      "X_train:  37029  X_test:  12344\n",
      "Epoch 1/10\n",
      "37029/37029 [==============================] - 11s 303us/step - loss: 4.9807 - acc: 0.1549\n",
      "Epoch 2/10\n",
      "37029/37029 [==============================] - 8s 218us/step - loss: 3.2367 - acc: 0.2997\n",
      "Epoch 3/10\n",
      "37029/37029 [==============================] - 8s 216us/step - loss: 2.4407 - acc: 0.4131\n",
      "Epoch 4/10\n",
      "37029/37029 [==============================] - 8s 213us/step - loss: 1.9149 - acc: 0.5095\n",
      "Epoch 5/10\n",
      "37029/37029 [==============================] - 8s 213us/step - loss: 1.5252 - acc: 0.5890\n",
      "Epoch 6/10\n",
      "37029/37029 [==============================] - 8s 213us/step - loss: 1.2274 - acc: 0.6598\n",
      "Epoch 7/10\n",
      "37029/37029 [==============================] - 8s 211us/step - loss: 0.9965 - acc: 0.7143\n",
      "Epoch 8/10\n",
      "37029/37029 [==============================] - 9s 237us/step - loss: 0.8189 - acc: 0.7624\n",
      "Epoch 9/10\n",
      "37029/37029 [==============================] - 10s 260us/step - loss: 0.6881 - acc: 0.79710s - loss: \n",
      "Epoch 10/10\n",
      "37029/37029 [==============================] - 9s 249us/step - loss: 0.5824 - acc: 0.8258\n",
      "12344/12344 [==============================] - 1s 99us/step\n"
     ]
    },
    {
     "data": {
      "text/plain": [
       "[4.537354791002156, 0.4076474400325325]"
      ]
     },
     "execution_count": 75,
     "metadata": {},
     "output_type": "execute_result"
    }
   ],
   "source": [
    "run(X, y1, len(np.unique(y1)))"
   ]
  },
  {
   "cell_type": "code",
   "execution_count": 72,
   "metadata": {},
   "outputs": [
    {
     "data": {
      "text/plain": [
       "49373"
      ]
     },
     "execution_count": 72,
     "metadata": {},
     "output_type": "execute_result"
    }
   ],
   "source": [
    "len(y1)"
   ]
  },
  {
   "cell_type": "code",
   "execution_count": null,
   "metadata": {
    "collapsed": true
   },
   "outputs": [],
   "source": []
  }
 ],
 "metadata": {
  "kernelspec": {
   "display_name": "Python 3",
   "language": "python",
   "name": "python3"
  },
  "language_info": {
   "codemirror_mode": {
    "name": "ipython",
    "version": 3
   },
   "file_extension": ".py",
   "mimetype": "text/x-python",
   "name": "python",
   "nbconvert_exporter": "python",
   "pygments_lexer": "ipython3",
   "version": "3.6.3"
  }
 },
 "nbformat": 4,
 "nbformat_minor": 2
}
